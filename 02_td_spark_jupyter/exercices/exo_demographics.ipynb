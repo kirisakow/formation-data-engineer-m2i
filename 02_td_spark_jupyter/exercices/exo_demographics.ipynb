{
 "cells": [
  {
   "cell_type": "markdown",
   "id": "675c8915-a10b-4187-85cf-c1daf3bd0942",
   "metadata": {},
   "source": [
    "## Exercice 1: Afficher les cinq premières lignes du DataFrame.\n",
    "\n"
   ]
  },
  {
   "cell_type": "code",
   "execution_count": 7,
   "id": "3280b26f-14be-48bc-9047-b4e25132a6d3",
   "metadata": {
    "tags": []
   },
   "outputs": [
    {
     "name": "stdout",
     "output_type": "stream",
     "text": [
      "+------------------+------+---------+----------+\n",
      "|             state|gender|age_group|population|\n",
      "+------------------+------+---------+----------+\n",
      "|Baden-Wuerttemberg|female|    00-04|    261674|\n",
      "|Baden-Wuerttemberg|female|    05-14|    490822|\n",
      "|Baden-Wuerttemberg|female|    15-34|   1293488|\n",
      "|Baden-Wuerttemberg|female|    35-59|   1919649|\n",
      "|Baden-Wuerttemberg|female|    60-79|   1182736|\n",
      "+------------------+------+---------+----------+\n",
      "only showing top 5 rows\n",
      "\n"
     ]
    }
   ],
   "source": [
    "from pyspark.sql import SparkSession\n",
    "\n",
    "spark = SparkSession.builder.getOrCreate()\n",
    "data = spark.read.csv('demographics_de.csv', header=True, inferSchema=True)\n",
    "data.createOrReplaceTempView('demographics')\n",
    "df = spark.table('demographics')\n",
    "df.show(5)"
   ]
  },
  {
   "cell_type": "markdown",
   "id": "f14457e7-4066-4803-a2f7-83edbd5b21cf",
   "metadata": {},
   "source": [
    "## Exercice 2: Compter le nombre total de lignes dans le DataFrame.\n",
    "\n"
   ]
  },
  {
   "cell_type": "code",
   "execution_count": 24,
   "id": "cda39ece-7392-40e2-94d3-0bc4eddf3995",
   "metadata": {
    "tags": []
   },
   "outputs": [
    {
     "data": {
      "text/plain": [
       "192"
      ]
     },
     "execution_count": 24,
     "metadata": {},
     "output_type": "execute_result"
    }
   ],
   "source": [
    "df.count()"
   ]
  },
  {
   "cell_type": "markdown",
   "id": "b5ec5f3d-d8b5-409c-9af5-fbacba8eb4d0",
   "metadata": {},
   "source": [
    "## Exercice 3: Trouver le nombre distinct d'états (states) présents dans le DataFrame.\n",
    "\n"
   ]
  },
  {
   "cell_type": "code",
   "execution_count": 14,
   "id": "100a4c4d-2692-4750-ad75-207c7cf71a51",
   "metadata": {
    "tags": []
   },
   "outputs": [
    {
     "data": {
      "text/plain": [
       "16"
      ]
     },
     "execution_count": 14,
     "metadata": {},
     "output_type": "execute_result"
    }
   ],
   "source": [
    "from pyspark.sql.functions import *\n",
    "\n",
    "df.select(col('state')).distinct().count()"
   ]
  },
  {
   "cell_type": "markdown",
   "id": "a1f768cc-11c5-435c-a0d9-7dbcb6cf3cc3",
   "metadata": {},
   "source": [
    "## Exercice 4: Calculer la somme de la population totale.\n",
    "\n"
   ]
  },
  {
   "cell_type": "code",
   "execution_count": 20,
   "id": "1817cb7d-c13a-4d8c-81b6-fd8b186d022c",
   "metadata": {
    "tags": []
   },
   "outputs": [
    {
     "name": "stdout",
     "output_type": "stream",
     "text": [
      "+-----------------+\n",
      "|population_totale|\n",
      "+-----------------+\n",
      "|         83019213|\n",
      "+-----------------+\n",
      "\n"
     ]
    }
   ],
   "source": [
    "df.agg(sum(col('population')).alias('population_totale')).show()"
   ]
  },
  {
   "cell_type": "markdown",
   "id": "75b81471-bcd8-422d-be0c-444b29ffc09d",
   "metadata": {},
   "source": [
    "## Exercice 5: Afficher la population maximale par groupe d'âge (age_group).\n",
    "\n"
   ]
  },
  {
   "cell_type": "code",
   "execution_count": 31,
   "id": "a76e19e8-39c4-494d-bdb0-c934030e3f0f",
   "metadata": {
    "tags": []
   },
   "outputs": [
    {
     "name": "stdout",
     "output_type": "stream",
     "text": [
      "+---------+----------------------+\n",
      "|age_group|popul_max_by_age_group|\n",
      "+---------+----------------------+\n",
      "|    80-99|                729148|\n",
      "|    05-14|                832251|\n",
      "|    35-59|               3147565|\n",
      "|    60-79|               2009976|\n",
      "|    00-04|                440708|\n",
      "|    15-34|               2188068|\n",
      "+---------+----------------------+\n",
      "\n"
     ]
    }
   ],
   "source": [
    "df.groupby(col('age_group'))\\\n",
    "  .agg(max(col('population')).alias('popul_max_by_age_group'))\\\n",
    "  .show()"
   ]
  },
  {
   "cell_type": "markdown",
   "id": "54f88748-3222-44ee-b470-203fd31eec16",
   "metadata": {},
   "source": [
    "## Exercice 6: Filtrer les lignes du DataFrame pour n'inclure que les états (states) dont la population dépasse 1 million.\n",
    "\n"
   ]
  },
  {
   "cell_type": "code",
   "execution_count": 32,
   "id": "af2509aa-9e6d-4b59-a6da-823da1f7346b",
   "metadata": {
    "tags": []
   },
   "outputs": [
    {
     "name": "stdout",
     "output_type": "stream",
     "text": [
      "+--------------------+----------------+\n",
      "|               state|state_population|\n",
      "+--------------------+----------------+\n",
      "| Nordrhein-Westfalen|        17932651|\n",
      "|              Bayern|        13076721|\n",
      "|  Baden-Wuerttemberg|        11069533|\n",
      "|       Niedersachsen|         7982448|\n",
      "|              Hessen|         6265809|\n",
      "|     Rheinland-Pfalz|         4084844|\n",
      "|             Sachsen|         4077937|\n",
      "|              Berlin|         3644826|\n",
      "|  Schleswig-Holstein|         2896712|\n",
      "|         Brandenburg|         2511917|\n",
      "|      Sachsen-Anhalt|         2208321|\n",
      "|          Thueringen|         2143145|\n",
      "|             Hamburg|         1841179|\n",
      "|Mecklenburg-Vorpo...|         1609675|\n",
      "+--------------------+----------------+\n",
      "\n"
     ]
    }
   ],
   "source": [
    "df.groupby(col('state'))\\\n",
    "  .agg(sum(col('population')).alias('state_population'))\\\n",
    "  .filter(col('state_population') > 1000000)\\\n",
    "  .sort(col('state_population').desc())\\\n",
    "  .show()"
   ]
  },
  {
   "cell_type": "markdown",
   "id": "1c08ee83-f42f-4bd6-b73f-44858073251d",
   "metadata": {},
   "source": [
    "## Exercice 7: Calculer la moyenne de la population pour chaque groupe d'âge (age_group).\n",
    "\n"
   ]
  },
  {
   "cell_type": "code",
   "execution_count": 35,
   "id": "3c543e51-2bbc-4dc4-bbea-a1909cc93396",
   "metadata": {
    "tags": []
   },
   "outputs": [
    {
     "name": "stdout",
     "output_type": "stream",
     "text": [
      "+---------+------------------+\n",
      "|age_group|average_population|\n",
      "+---------+------------------+\n",
      "|    80-99|       168409.5625|\n",
      "|    05-14|       230138.0625|\n",
      "|    35-59|      910557.46875|\n",
      "|    60-79|        562135.625|\n",
      "|    00-04|      122699.90625|\n",
      "|    15-34|      600409.78125|\n",
      "+---------+------------------+\n",
      "\n"
     ]
    }
   ],
   "source": [
    "df.groupby(col('age_group'))\\\n",
    "  .agg(avg(col('population')).alias('average_population'))\\\n",
    "  .show()"
   ]
  },
  {
   "cell_type": "markdown",
   "id": "0c57825b-e204-4438-919c-52a3a8fad333",
   "metadata": {},
   "source": [
    "## Exercice 8: Trier le DataFrame par ordre décroissant de population.\n",
    "\n"
   ]
  },
  {
   "cell_type": "code",
   "execution_count": 48,
   "id": "193e31f5-6f81-431f-8e23-042d03730598",
   "metadata": {
    "tags": []
   },
   "outputs": [
    {
     "name": "stdout",
     "output_type": "stream",
     "text": [
      "+-------------------+------+---------+----------+\n",
      "|              state|gender|age_group|population|\n",
      "+-------------------+------+---------+----------+\n",
      "|Nordrhein-Westfalen|female|    35-59|   3147565|\n",
      "|Nordrhein-Westfalen|  male|    35-59|   3127984|\n",
      "|             Bayern|  male|    35-59|   2348310|\n",
      "|             Bayern|female|    35-59|   2310659|\n",
      "|Nordrhein-Westfalen|  male|    15-34|   2188068|\n",
      "|Nordrhein-Westfalen|female|    15-34|   2047533|\n",
      "|Nordrhein-Westfalen|female|    60-79|   2009976|\n",
      "| Baden-Wuerttemberg|  male|    35-59|   1955828|\n",
      "| Baden-Wuerttemberg|female|    35-59|   1919649|\n",
      "|Nordrhein-Westfalen|  male|    60-79|   1775275|\n",
      "|             Bayern|  male|    15-34|   1639500|\n",
      "|             Bayern|female|    15-34|   1507659|\n",
      "| Baden-Wuerttemberg|  male|    15-34|   1423367|\n",
      "|             Bayern|female|    60-79|   1421273|\n",
      "|      Niedersachsen|female|    35-59|   1392647|\n",
      "|      Niedersachsen|  male|    35-59|   1391992|\n",
      "| Baden-Wuerttemberg|female|    15-34|   1293488|\n",
      "|             Bayern|  male|    60-79|   1285577|\n",
      "| Baden-Wuerttemberg|female|    60-79|   1182736|\n",
      "|             Hessen|  male|    35-59|   1111560|\n",
      "+-------------------+------+---------+----------+\n",
      "only showing top 20 rows\n",
      "\n"
     ]
    }
   ],
   "source": [
    "  df.sort(col('population').desc())\\\n",
    "    .show()"
   ]
  },
  {
   "cell_type": "markdown",
   "id": "7f67fefc-2b53-4a0f-8f29-a04ed781a12d",
   "metadata": {},
   "source": [
    "## Exercice 9: Sélectionner les lignes du DataFrame où l'âge (age_group) est \"18-24\" et le sexe (gender) est \"F\".\n",
    "\n"
   ]
  },
  {
   "cell_type": "code",
   "execution_count": 65,
   "id": "fb9bc89c-c6b9-4ef9-9cf6-38c146bd72ca",
   "metadata": {
    "tags": []
   },
   "outputs": [
    {
     "name": "stdout",
     "output_type": "stream",
     "text": [
      "+-----+------+---------+----------+-------+-------+\n",
      "|state|gender|age_group|population|age_min|age_max|\n",
      "+-----+------+---------+----------+-------+-------+\n",
      "+-----+------+---------+----------+-------+-------+\n",
      "\n"
     ]
    }
   ],
   "source": [
    "df = df.withColumn('age_min', df.age_group.substr(0, 2).astype('int'))\n",
    "df = df.withColumn('age_max', df.age_group.substr(-2, 2).astype('int'))\n",
    "df.filter(\n",
    "    (df.gender.startswith('f'))\n",
    "    & (df.age_min >= 18)\n",
    "    & (df.age_max <= 24)\n",
    "  )\\\n",
    "  .show()"
   ]
  },
  {
   "cell_type": "markdown",
   "id": "ec28f498-28a9-43c8-8e82-9574dc40b5d7",
   "metadata": {},
   "source": [
    "## Exercice 10: Ajouter une nouvelle colonne \"population_percentage\" qui représente la proportion de la population par rapport à la population totale.\n",
    "\n"
   ]
  },
  {
   "cell_type": "code",
   "execution_count": 76,
   "id": "adb71aed-3a0d-4c13-a0b9-9cf5b400174a",
   "metadata": {
    "tags": []
   },
   "outputs": [
    {
     "name": "stdout",
     "output_type": "stream",
     "text": [
      "+------------------+------+---------+----------+-------+-------+---------------------+\n",
      "|             state|gender|age_group|population|age_min|age_max|population_percentage|\n",
      "+------------------+------+---------+----------+-------+-------+---------------------+\n",
      "|Baden-Wuerttemberg|female|    00-04|    261674|      0|      4|                 0.32|\n",
      "|Baden-Wuerttemberg|female|    05-14|    490822|      5|     14|                 0.59|\n",
      "|Baden-Wuerttemberg|female|    15-34|   1293488|     15|     34|                 1.56|\n",
      "|Baden-Wuerttemberg|female|    35-59|   1919649|     35|     59|                 2.31|\n",
      "|Baden-Wuerttemberg|female|    60-79|   1182736|     60|     79|                 1.42|\n",
      "|Baden-Wuerttemberg|female|    80-99|    419471|     80|     99|                 0.51|\n",
      "|Baden-Wuerttemberg|  male|    00-04|    274882|      0|      4|                 0.33|\n",
      "|Baden-Wuerttemberg|  male|    05-14|    517387|      5|     14|                 0.62|\n",
      "|Baden-Wuerttemberg|  male|    15-34|   1423367|     15|     34|                 1.71|\n",
      "|Baden-Wuerttemberg|  male|    35-59|   1955828|     35|     59|                 2.36|\n",
      "|Baden-Wuerttemberg|  male|    60-79|   1065669|     60|     79|                 1.28|\n",
      "|Baden-Wuerttemberg|  male|    80-99|    264560|     80|     99|                 0.32|\n",
      "|            Bayern|female|    00-04|    306378|      0|      4|                 0.37|\n",
      "|            Bayern|female|    05-14|    560549|      5|     14|                 0.68|\n",
      "|            Bayern|female|    15-34|   1507659|     15|     34|                 1.82|\n",
      "|            Bayern|female|    35-59|   2310659|     35|     59|                 2.78|\n",
      "|            Bayern|female|    60-79|   1421273|     60|     79|                 1.71|\n",
      "|            Bayern|female|    80-99|    486410|     80|     99|                 0.59|\n",
      "|            Bayern|  male|    00-04|    321629|      0|      4|                 0.39|\n",
      "|            Bayern|  male|    05-14|    590551|      5|     14|                 0.71|\n",
      "+------------------+------+---------+----------+-------+-------+---------------------+\n",
      "only showing top 20 rows\n",
      "\n"
     ]
    }
   ],
   "source": [
    "population_totale = df.agg(sum(col('population')).alias('population_totale'))\\\n",
    "                      .collect()[0][0]\n",
    "df = df.withColumn('population_percentage', \n",
    "                   round(df.population / population_totale * 100, 2))\n",
    "df.show()"
   ]
  }
 ],
 "metadata": {
  "kernelspec": {
   "display_name": "Python 3 (ipykernel)",
   "language": "python",
   "name": "python3"
  },
  "language_info": {
   "codemirror_mode": {
    "name": "ipython",
    "version": 3
   },
   "file_extension": ".py",
   "mimetype": "text/x-python",
   "name": "python",
   "nbconvert_exporter": "python",
   "pygments_lexer": "ipython3",
   "version": "3.10.11"
  }
 },
 "nbformat": 4,
 "nbformat_minor": 5
}
