{
 "cells": [
  {
   "cell_type": "markdown",
   "id": "3fb7f4a9-c40c-423a-b658-762dee6703eb",
   "metadata": {},
   "source": [
    "### 1. creation d'une session spark"
   ]
  },
  {
   "cell_type": "code",
   "execution_count": 1,
   "id": "ec0538d1-4d63-428c-b593-2c2f57e8fcfc",
   "metadata": {
    "tags": []
   },
   "outputs": [],
   "source": [
    "from pyspark.sql import SparkSession\n",
    "\n",
    "# Sets the Spark master URL to connect to, such as “local” to run locally, \n",
    "# “local[4]” to run locally with 4 cores, or “spark://master:7077” to run \n",
    "# on a Spark standalone cluster.\n",
    "spark = SparkSession.builder.master(\"local[1]\")\\\n",
    "                    .appName(\"demoRDD\")\\\n",
    "                    .getOrCreate() # Get or instantiate a SparkContext and register it as a singleton object."
   ]
  },
  {
   "cell_type": "markdown",
   "id": "d6eeba04-5443-42df-950f-4eed570d50e9",
   "metadata": {},
   "source": [
    "### 2. Creation d'un RDD à partir d'un fichier text"
   ]
  },
  {
   "cell_type": "code",
   "execution_count": 2,
   "id": "41a5d365-a886-40ff-b9c3-ec9f249f0852",
   "metadata": {
    "tags": []
   },
   "outputs": [
    {
     "data": {
      "text/plain": [
       "../data/test.txt MapPartitionsRDD[1] at textFile at NativeMethodAccessorImpl.java:0"
      ]
     },
     "execution_count": 2,
     "metadata": {},
     "output_type": "execute_result"
    }
   ],
   "source": [
    "rdd01 = spark.sparkContext.textFile('../data/test.txt')\n",
    "rdd01"
   ]
  },
  {
   "cell_type": "markdown",
   "id": "570217a9-2331-41c3-a904-b23ce05a12ad",
   "metadata": {},
   "source": [
    "### 3.a affichage du RDD"
   ]
  },
  {
   "cell_type": "code",
   "execution_count": 6,
   "id": "6f42c420-8c0a-4110-a9a5-dc09be8064da",
   "metadata": {
    "tags": []
   },
   "outputs": [
    {
     "name": "stdout",
     "output_type": "stream",
     "text": [
      "../data/test.txt MapPartitionsRDD[1] at textFile at NativeMethodAccessorImpl.java:0\n"
     ]
    }
   ],
   "source": [
    "print(rdd01)"
   ]
  },
  {
   "cell_type": "markdown",
   "id": "52e07985-7dfc-4765-9b23-a001dc419a36",
   "metadata": {},
   "source": [
    "### 3.b affichage des données du RDD => operation de recuperation des données"
   ]
  },
  {
   "cell_type": "code",
   "execution_count": 13,
   "id": "c0960c87-4441-4d34-933e-9cafb4bbb563",
   "metadata": {
    "tags": []
   },
   "outputs": [
    {
     "data": {
      "text/plain": [
       "['Project Gutenberg’s',\n",
       " 'Alice’s Adventures in Wonderland',\n",
       " 'by Lewis Carroll',\n",
       " 'This eBook is for the use',\n",
       " 'of anyone anywhere',\n",
       " 'at no cost and with']"
      ]
     },
     "execution_count": 13,
     "metadata": {},
     "output_type": "execute_result"
    }
   ],
   "source": [
    "words_list = rdd01.collect()\n",
    "words_list[:6]"
   ]
  },
  {
   "cell_type": "code",
   "execution_count": 14,
   "id": "b4d2dd63-3435-40b7-9609-8c0321715179",
   "metadata": {
    "tags": []
   },
   "outputs": [
    {
     "data": {
      "text/plain": [
       "{'project': 9,\n",
       " 'gutenberg': 9,\n",
       " 's': 27,\n",
       " 'alice': 18,\n",
       " 'adventures': 18,\n",
       " 'in': 18,\n",
       " 'wonderland': 18,\n",
       " 'by': 18,\n",
       " 'lewis': 18,\n",
       " 'carroll': 18,\n",
       " 'this': 27,\n",
       " 'ebook': 27,\n",
       " 'is': 27,\n",
       " 'for': 27,\n",
       " 'the': 27,\n",
       " 'use': 27,\n",
       " 'of': 27,\n",
       " 'anyone': 27,\n",
       " 'anywhere': 27,\n",
       " 'at': 27,\n",
       " 'no': 27,\n",
       " 'cost': 27,\n",
       " 'and': 27,\n",
       " 'with': 27,\n",
       " 'poulet': 1}"
      ]
     },
     "execution_count": 14,
     "metadata": {},
     "output_type": "execute_result"
    }
   ],
   "source": [
    "import re\n",
    "\n",
    "words_list = rdd01.flatMap(lambda x: re.split(r'\\W', x)).collect()\n",
    "words_lowercase_list = [w.lower() for w in words_list]\n",
    "words_count_dict = {w: words_lowercase_list.count(w) for w in words_lowercase_list}\n",
    "words_count_dict"
   ]
  },
  {
   "cell_type": "markdown",
   "id": "074143d6-f335-4fc0-93e2-5902865a84bc",
   "metadata": {},
   "source": [
    "### 4. Afficher le nombre de lignes dans le fichier"
   ]
  },
  {
   "cell_type": "code",
   "execution_count": 15,
   "id": "a87c25e3-3af9-476d-bfb0-f94458db8727",
   "metadata": {},
   "outputs": [
    {
     "data": {
      "text/plain": [
       "127"
      ]
     },
     "execution_count": 15,
     "metadata": {},
     "output_type": "execute_result"
    }
   ],
   "source": [
    "rdd01.count()"
   ]
  },
  {
   "cell_type": "markdown",
   "id": "63b3a65a-3da1-4e4e-939a-379269ab3eec",
   "metadata": {},
   "source": [
    "### 5. Afficher les 10 premières lignes du fichier"
   ]
  },
  {
   "cell_type": "code",
   "execution_count": 16,
   "id": "affe3dd7-c76b-4312-9024-fec043425590",
   "metadata": {},
   "outputs": [
    {
     "data": {
      "text/plain": [
       "['Project Gutenberg’s',\n",
       " 'Alice’s Adventures in Wonderland',\n",
       " 'by Lewis Carroll',\n",
       " 'This eBook is for the use',\n",
       " 'of anyone anywhere',\n",
       " 'at no cost and with',\n",
       " 'Alice’s Adventures in Wonderland',\n",
       " 'by Lewis Carroll',\n",
       " 'This eBook is for the use',\n",
       " 'of anyone anywhere']"
      ]
     },
     "execution_count": 16,
     "metadata": {},
     "output_type": "execute_result"
    }
   ],
   "source": [
    "rdd01.take(10)"
   ]
  },
  {
   "cell_type": "markdown",
   "id": "fa3f8029-97e1-4acc-a6a7-192837d7ddf3",
   "metadata": {},
   "source": [
    "### 6. Filtrer les lignes qui contiennent le mot \"Lewis\""
   ]
  },
  {
   "cell_type": "code",
   "execution_count": 37,
   "id": "d51e572c-c22b-4ccf-b40b-2574cc6bec28",
   "metadata": {},
   "outputs": [
    {
     "data": {
      "text/plain": [
       "['by Lewis Carroll',\n",
       " 'by Lewis Carroll',\n",
       " 'by Lewis Carroll',\n",
       " 'by Lewis Carroll',\n",
       " 'by Lewis Carroll',\n",
       " 'by Lewis Carroll',\n",
       " 'by Lewis Carroll',\n",
       " 'by Lewis Carroll',\n",
       " 'by Lewis Carroll',\n",
       " 'by Lewis Carroll',\n",
       " 'by Lewis Carroll',\n",
       " 'by Lewis Carroll',\n",
       " 'by Lewis Carroll',\n",
       " 'by Lewis Carroll',\n",
       " 'by Lewis Carroll',\n",
       " 'by Lewis Carroll',\n",
       " 'by Lewis Carroll',\n",
       " 'by Lewis Carroll']"
      ]
     },
     "execution_count": 37,
     "metadata": {},
     "output_type": "execute_result"
    }
   ],
   "source": [
    "rdd_lignes_contenant_lewis = rdd01.filter(lambda line: 'lewis'.casefold() in line.casefold()).collect()\n",
    "rdd_lignes_contenant_lewis"
   ]
  },
  {
   "cell_type": "markdown",
   "id": "571efcbb-a3df-4e94-9b38-e928cc8edb3d",
   "metadata": {},
   "source": [
    "### 7. Transformer les lignes qui contiennent lewis en majuscule\n",
    "### cas 1 : à partir du debut"
   ]
  },
  {
   "cell_type": "code",
   "execution_count": 43,
   "id": "83939362-5134-4853-a984-11748eacab7a",
   "metadata": {},
   "outputs": [
    {
     "data": {
      "text/plain": [
       "['Project Gutenberg’s',\n",
       " 'Alice’s Adventures in Wonderland',\n",
       " 'BY LEWIS CARROLL',\n",
       " 'This eBook is for the use',\n",
       " 'of anyone anywhere',\n",
       " 'at no cost and with',\n",
       " 'Alice’s Adventures in Wonderland',\n",
       " 'BY LEWIS CARROLL',\n",
       " 'This eBook is for the use',\n",
       " 'of anyone anywhere',\n",
       " 'at no cost and with',\n",
       " 'This eBook is for the use',\n",
       " 'of anyone anywhere',\n",
       " 'at no cost and with',\n",
       " 'Project Gutenberg’s',\n",
       " 'Alice’s Adventures in Wonderland',\n",
       " 'BY LEWIS CARROLL',\n",
       " 'This eBook is for the use',\n",
       " 'of anyone anywhere',\n",
       " 'at no cost and with']"
      ]
     },
     "execution_count": 43,
     "metadata": {},
     "output_type": "execute_result"
    }
   ],
   "source": [
    "rdd01.map(lambda line: line.upper() if 'lewis'.casefold() in line.casefold() else line)\\\n",
    "     .collect()[:20]"
   ]
  },
  {
   "cell_type": "markdown",
   "id": "46d3bb25-6b2f-4961-8277-40f6e2e6e437",
   "metadata": {
    "tags": []
   },
   "source": [
    "### cas 2 : en réutilisant un RDD cree precedemment"
   ]
  },
  {
   "cell_type": "code",
   "execution_count": 44,
   "id": "d406d92f-aeb1-48d9-950d-59da125f96e7",
   "metadata": {},
   "outputs": [
    {
     "data": {
      "text/plain": [
       "['Project Gutenberg’s',\n",
       " 'Alice’s Adventures in Wonderland',\n",
       " 'BY LEWIS CARROLL',\n",
       " 'This eBook is for the use',\n",
       " 'of anyone anywhere',\n",
       " 'at no cost and with',\n",
       " 'Alice’s Adventures in Wonderland',\n",
       " 'BY LEWIS CARROLL',\n",
       " 'This eBook is for the use',\n",
       " 'of anyone anywhere',\n",
       " 'at no cost and with',\n",
       " 'This eBook is for the use',\n",
       " 'of anyone anywhere',\n",
       " 'at no cost and with',\n",
       " 'Project Gutenberg’s',\n",
       " 'Alice’s Adventures in Wonderland',\n",
       " 'BY LEWIS CARROLL',\n",
       " 'This eBook is for the use',\n",
       " 'of anyone anywhere',\n",
       " 'at no cost and with']"
      ]
     },
     "execution_count": 44,
     "metadata": {},
     "output_type": "execute_result"
    }
   ],
   "source": [
    "rdd01.map(lambda line: line.upper() if line in rdd_lignes_contenant_lewis else line)\\\n",
    "     .collect()[:20]"
   ]
  },
  {
   "cell_type": "markdown",
   "id": "8d5ca485-0c03-4858-9134-8fb6a176af9e",
   "metadata": {},
   "source": [
    "### 8. Compter le nombre d'occurences du mot \"Wonderland\" dans chaque ligne"
   ]
  },
  {
   "cell_type": "code",
   "execution_count": 71,
   "id": "507c2755-8fdf-48c8-9047-8264a127ed04",
   "metadata": {},
   "outputs": [
    {
     "data": {
      "text/plain": [
       "'[0, 1, 0, 0, 0, 0, 1, 0, 0, 0, 0, 0, 0, 0, 0, 1, 0, 0, 0, 0, 1, 0, 0, 0, 0, 0, 0, 0, 0, 1, 0, 0, 0, 0, 1, 0, 0, 0, 0, 0, 0, 0, 0, 1, 0, 0, 0, 0, 1, 0, 0, 0, 0, 0, 0, 0, 0, 1, 0, 0, 0, 0, 1, 0, 0, 0, 0, 0, 0, 0, 0, 1, 0, 0, 0, 0, 1, 0, 0, 0, 0, 0, 0, 0, 0, 1, 0, 0, 0, 0, 1, 0, 0, 0, 0, 0, 0, 0, 0, 1, 0, 0, 0, 0, 1, 0, 0, 0, 0, 0, 0, 0, 0, 1, 0, 0, 0, 0, 0, 1, 0, 0, 0, 0, 0, 0, 0]'"
      ]
     },
     "execution_count": 71,
     "metadata": {},
     "output_type": "execute_result"
    }
   ],
   "source": [
    "rdd01.map(lambda line: line.count('Wonderland'))\\\n",
    "     .collect().__repr__()"
   ]
  },
  {
   "cell_type": "code",
   "execution_count": 70,
   "id": "b62df9ba-534d-4cd4-b7f3-251dbbb04bfe",
   "metadata": {
    "tags": []
   },
   "outputs": [
    {
     "data": {
      "text/plain": [
       "[('Project Gutenberg’s', 0),\n",
       " ('Alice’s Adventures in Wonderland', 1),\n",
       " ('by Lewis Carroll', 0),\n",
       " ('This eBook is for the use', 0),\n",
       " ('of anyone anywhere', 0),\n",
       " ('at no cost and with', 0),\n",
       " ('Alice’s Adventures in Wonderland', 1),\n",
       " ('by Lewis Carroll', 0),\n",
       " ('This eBook is for the use', 0),\n",
       " ('of anyone anywhere', 0),\n",
       " ('at no cost and with', 0),\n",
       " ('This eBook is for the use', 0),\n",
       " ('of anyone anywhere', 0),\n",
       " ('at no cost and with', 0),\n",
       " ('Project Gutenberg’s', 0),\n",
       " ('Alice’s Adventures in Wonderland', 1),\n",
       " ('by Lewis Carroll', 0),\n",
       " ('This eBook is for the use', 0),\n",
       " ('of anyone anywhere', 0),\n",
       " ('at no cost and with', 0),\n",
       " ('Alice’s Adventures in Wonderland', 1),\n",
       " ('by Lewis Carroll', 0),\n",
       " ('This eBook is for the use', 0),\n",
       " ('of anyone anywhere', 0),\n",
       " ('at no cost and with', 0),\n",
       " ('This eBook is for the use', 0),\n",
       " ('of anyone anywhere', 0),\n",
       " ('at no cost and with', 0),\n",
       " ('Project Gutenberg’s', 0),\n",
       " ('Alice’s Adventures in Wonderland', 1),\n",
       " ('by Lewis Carroll', 0),\n",
       " ('This eBook is for the use', 0),\n",
       " ('of anyone anywhere', 0),\n",
       " ('at no cost and with', 0),\n",
       " ('Alice’s Adventures in Wonderland', 1),\n",
       " ('by Lewis Carroll', 0),\n",
       " ('This eBook is for the use', 0),\n",
       " ('of anyone anywhere', 0),\n",
       " ('at no cost and with', 0),\n",
       " ('This eBook is for the use', 0),\n",
       " ('of anyone anywhere', 0),\n",
       " ('at no cost and with', 0),\n",
       " ('Project Gutenberg’s', 0),\n",
       " ('Alice’s Adventures in Wonderland', 1),\n",
       " ('by Lewis Carroll', 0),\n",
       " ('This eBook is for the use', 0),\n",
       " ('of anyone anywhere', 0),\n",
       " ('at no cost and with', 0),\n",
       " ('Alice’s Adventures in Wonderland', 1),\n",
       " ('by Lewis Carroll', 0),\n",
       " ('This eBook is for the use', 0),\n",
       " ('of anyone anywhere', 0),\n",
       " ('at no cost and with', 0),\n",
       " ('This eBook is for the use', 0),\n",
       " ('of anyone anywhere', 0),\n",
       " ('at no cost and with', 0),\n",
       " ('Project Gutenberg’s', 0),\n",
       " ('Alice’s Adventures in Wonderland', 1),\n",
       " ('by Lewis Carroll', 0),\n",
       " ('This eBook is for the use', 0),\n",
       " ('of anyone anywhere', 0),\n",
       " ('at no cost and with', 0),\n",
       " ('Alice’s Adventures in Wonderland', 1),\n",
       " ('by Lewis Carroll', 0),\n",
       " ('This eBook is for the use', 0),\n",
       " ('of anyone anywhere', 0),\n",
       " ('at no cost and with', 0),\n",
       " ('This eBook is for the use', 0),\n",
       " ('of anyone anywhere', 0),\n",
       " ('at no cost and with', 0),\n",
       " ('Project Gutenberg’s', 0),\n",
       " ('Alice’s Adventures in Wonderland', 1),\n",
       " ('by Lewis Carroll', 0),\n",
       " ('This eBook is for the use', 0),\n",
       " ('of anyone anywhere', 0),\n",
       " ('at no cost and with', 0),\n",
       " ('Alice’s Adventures in Wonderland', 1),\n",
       " ('by Lewis Carroll', 0),\n",
       " ('This eBook is for the use', 0),\n",
       " ('of anyone anywhere', 0),\n",
       " ('at no cost and with', 0),\n",
       " ('This eBook is for the use', 0),\n",
       " ('of anyone anywhere', 0),\n",
       " ('at no cost and with', 0),\n",
       " ('Project Gutenberg’s', 0),\n",
       " ('Alice’s Adventures in Wonderland', 1),\n",
       " ('by Lewis Carroll', 0),\n",
       " ('This eBook is for the use', 0),\n",
       " ('of anyone anywhere', 0),\n",
       " ('at no cost and with', 0),\n",
       " ('Alice’s Adventures in Wonderland', 1),\n",
       " ('by Lewis Carroll', 0),\n",
       " ('This eBook is for the use', 0),\n",
       " ('of anyone anywhere', 0),\n",
       " ('at no cost and with', 0),\n",
       " ('This eBook is for the use', 0),\n",
       " ('of anyone anywhere', 0),\n",
       " ('at no cost and with', 0),\n",
       " ('Project Gutenberg’s', 0),\n",
       " ('Alice’s Adventures in Wonderland', 1),\n",
       " ('by Lewis Carroll', 0),\n",
       " ('This eBook is for the use', 0),\n",
       " ('of anyone anywhere', 0),\n",
       " ('at no cost and with', 0),\n",
       " ('Alice’s Adventures in Wonderland', 1),\n",
       " ('by Lewis Carroll', 0),\n",
       " ('This eBook is for the use', 0),\n",
       " ('of anyone anywhere', 0),\n",
       " ('at no cost and with', 0),\n",
       " ('This eBook is for the use', 0),\n",
       " ('of anyone anywhere', 0),\n",
       " ('at no cost and with', 0),\n",
       " ('Project Gutenberg’s', 0),\n",
       " ('Alice’s Adventures in Wonderland', 1),\n",
       " ('by Lewis Carroll', 0),\n",
       " ('Poulet', 0),\n",
       " ('This eBook is for the use', 0),\n",
       " ('of anyone anywhere', 0),\n",
       " ('at no cost and with', 0),\n",
       " ('Alice’s Adventures in Wonderland', 1),\n",
       " ('by Lewis Carroll', 0),\n",
       " ('This eBook is for the use', 0),\n",
       " ('of anyone anywhere', 0),\n",
       " ('at no cost and with', 0),\n",
       " ('This eBook is for the use', 0),\n",
       " ('of anyone anywhere', 0),\n",
       " ('at no cost and with', 0)]"
      ]
     },
     "execution_count": 70,
     "metadata": {},
     "output_type": "execute_result"
    }
   ],
   "source": [
    "rdd01.zipWithIndex()\\\n",
    "     .map(lambda tupl: (tupl[1], tupl[0], tupl[0].count('Wonderland')))\\\n",
    "     .map(lambda tupl: (tupl[1], tupl[2]))\\\n",
    "     .collect()"
   ]
  }
 ],
 "metadata": {
  "kernelspec": {
   "display_name": "Python 3 (ipykernel)",
   "language": "python",
   "name": "python3"
  },
  "language_info": {
   "codemirror_mode": {
    "name": "ipython",
    "version": 3
   },
   "file_extension": ".py",
   "mimetype": "text/x-python",
   "name": "python",
   "nbconvert_exporter": "python",
   "pygments_lexer": "ipython3",
   "version": "3.10.11"
  },
  "vscode": {
   "interpreter": {
    "hash": "bd6f263fc755eebb9705a1037789dd7cb01391d5841f7a8e7a78f9bd6260bb09"
   }
  }
 },
 "nbformat": 4,
 "nbformat_minor": 5
}
