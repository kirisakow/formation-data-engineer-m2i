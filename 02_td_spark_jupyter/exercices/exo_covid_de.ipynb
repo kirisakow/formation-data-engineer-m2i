{
 "cells": [
  {
   "cell_type": "markdown",
   "id": "d97b9418-cd42-4602-8e6e-e52e8e9fa0a7",
   "metadata": {},
   "source": [
    "# TD Spark Jupyter\n",
    "\n",
    "## Télécharger l'image et lancer le container Docker `jupyter/all-spark-notebook:latest`\n",
    "\n",
    "```bash\n",
    "docker run -dit -p 8888:8888 -p 4040:4040 jupyter/all-spark-notebook:latest\n",
    "```\n",
    "\n",
    "## Se connecter à l'adresse généré et affiché en sortie par Docker\n",
    "\n",
    "## Glisser-déposer le fichier `covid_de.csv`\n",
    "\n",
    "## Le TD :"
   ]
  },
  {
   "cell_type": "code",
   "execution_count": 1,
   "id": "c6626963-edbd-4a7c-a289-72c7bb635064",
   "metadata": {
    "tags": []
   },
   "outputs": [],
   "source": [
    "from pyspark.sql import SparkSession\n",
    "\n",
    "spark = SparkSession.builder.getOrCreate()\n",
    "data = spark.read.csv('../data/covid_de.csv', header=True, inferSchema=True)"
   ]
  },
  {
   "cell_type": "code",
   "execution_count": 2,
   "id": "e56583d4-8643-4846-b915-9352c76748f8",
   "metadata": {
    "tags": []
   },
   "outputs": [
    {
     "name": "stdout",
     "output_type": "stream",
     "text": [
      "root\n",
      " |-- state: string (nullable = true)\n",
      " |-- county: string (nullable = true)\n",
      " |-- age_group: string (nullable = true)\n",
      " |-- gender: string (nullable = true)\n",
      " |-- date: date (nullable = true)\n",
      " |-- cases: integer (nullable = true)\n",
      " |-- deaths: integer (nullable = true)\n",
      " |-- recovered: integer (nullable = true)\n",
      "\n"
     ]
    }
   ],
   "source": [
    "data.printSchema()"
   ]
  },
  {
   "cell_type": "code",
   "execution_count": 3,
   "id": "f8452294-8f21-41a1-87da-7299759051d2",
   "metadata": {
    "tags": []
   },
   "outputs": [
    {
     "name": "stdout",
     "output_type": "stream",
     "text": [
      "+------------------+------------------+---------+------+----------+-----+------+---------+\n",
      "|             state|            county|age_group|gender|      date|cases|deaths|recovered|\n",
      "+------------------+------------------+---------+------+----------+-----+------+---------+\n",
      "|Baden-Wuerttemberg|LK Alb-Donau-Kreis|    00-04|     F|2020-03-27|    1|     0|        1|\n",
      "|Baden-Wuerttemberg|LK Alb-Donau-Kreis|    00-04|     F|2020-03-28|    1|     0|        1|\n",
      "|Baden-Wuerttemberg|LK Alb-Donau-Kreis|    00-04|     F|2020-04-03|    1|     0|        1|\n",
      "|Baden-Wuerttemberg|LK Alb-Donau-Kreis|    00-04|     M|2020-04-05|    1|     0|        1|\n",
      "|Baden-Wuerttemberg|LK Alb-Donau-Kreis|    00-04|     M|2020-05-18|    1|     0|        1|\n",
      "|Baden-Wuerttemberg|LK Alb-Donau-Kreis|    05-14|     F|2020-03-17|    1|     0|        1|\n",
      "|Baden-Wuerttemberg|LK Alb-Donau-Kreis|    05-14|     F|2020-03-25|    1|     0|        1|\n",
      "|Baden-Wuerttemberg|LK Alb-Donau-Kreis|    05-14|     F|2020-03-26|    1|     0|        1|\n",
      "|Baden-Wuerttemberg|LK Alb-Donau-Kreis|    05-14|     F|2020-03-29|    1|     0|        1|\n",
      "|Baden-Wuerttemberg|LK Alb-Donau-Kreis|    05-14|     F|2020-03-31|    1|     0|        1|\n",
      "|Baden-Wuerttemberg|LK Alb-Donau-Kreis|    05-14|     F|2020-04-01|    1|     0|        1|\n",
      "|Baden-Wuerttemberg|LK Alb-Donau-Kreis|    05-14|     F|2020-04-09|    1|     0|        1|\n",
      "|Baden-Wuerttemberg|LK Alb-Donau-Kreis|    05-14|     F|2020-04-17|    1|     0|        1|\n",
      "|Baden-Wuerttemberg|LK Alb-Donau-Kreis|    05-14|     F|2020-04-27|    1|     0|        1|\n",
      "|Baden-Wuerttemberg|LK Alb-Donau-Kreis|    05-14|     F|2020-05-11|    1|     0|        1|\n",
      "|Baden-Wuerttemberg|LK Alb-Donau-Kreis|    05-14|     F|2020-05-23|    1|     0|        1|\n",
      "|Baden-Wuerttemberg|LK Alb-Donau-Kreis|    05-14|     M|2020-03-26|    1|     0|        1|\n",
      "|Baden-Wuerttemberg|LK Alb-Donau-Kreis|    05-14|     M|2020-03-30|    1|     0|        1|\n",
      "|Baden-Wuerttemberg|LK Alb-Donau-Kreis|    05-14|     M|2020-04-01|    2|     0|        2|\n",
      "|Baden-Wuerttemberg|LK Alb-Donau-Kreis|    05-14|     M|2020-05-23|    1|     0|        1|\n",
      "+------------------+------------------+---------+------+----------+-----+------+---------+\n",
      "only showing top 20 rows\n",
      "\n"
     ]
    }
   ],
   "source": [
    "data.createOrReplaceTempView('covid')\n",
    "table = spark.table('covid')\n",
    "table.show()"
   ]
  },
  {
   "cell_type": "code",
   "execution_count": 4,
   "id": "dfd8a09c-a816-4a01-ba6f-207b64646f45",
   "metadata": {
    "tags": []
   },
   "outputs": [
    {
     "name": "stdout",
     "output_type": "stream",
     "text": [
      "+------------------+------------------+---------+------+----------+-----+------+---------+\n",
      "|             state|            county|age_group|gender|      date|cases|deaths|recovered|\n",
      "+------------------+------------------+---------+------+----------+-----+------+---------+\n",
      "|Baden-Wuerttemberg|LK Alb-Donau-Kreis|    00-04|     F|2020-03-27|    1|     0|        1|\n",
      "|Baden-Wuerttemberg|LK Alb-Donau-Kreis|    00-04|     F|2020-03-28|    1|     0|        1|\n",
      "|Baden-Wuerttemberg|LK Alb-Donau-Kreis|    00-04|     F|2020-04-03|    1|     0|        1|\n",
      "|Baden-Wuerttemberg|LK Alb-Donau-Kreis|    00-04|     M|2020-04-05|    1|     0|        1|\n",
      "|Baden-Wuerttemberg|LK Alb-Donau-Kreis|    00-04|     M|2020-05-18|    1|     0|        1|\n",
      "|Baden-Wuerttemberg|LK Alb-Donau-Kreis|    05-14|     F|2020-03-17|    1|     0|        1|\n",
      "|Baden-Wuerttemberg|LK Alb-Donau-Kreis|    05-14|     F|2020-03-25|    1|     0|        1|\n",
      "|Baden-Wuerttemberg|LK Alb-Donau-Kreis|    05-14|     F|2020-03-26|    1|     0|        1|\n",
      "|Baden-Wuerttemberg|LK Alb-Donau-Kreis|    05-14|     F|2020-03-29|    1|     0|        1|\n",
      "|Baden-Wuerttemberg|LK Alb-Donau-Kreis|    05-14|     F|2020-03-31|    1|     0|        1|\n",
      "|Baden-Wuerttemberg|LK Alb-Donau-Kreis|    05-14|     F|2020-04-01|    1|     0|        1|\n",
      "|Baden-Wuerttemberg|LK Alb-Donau-Kreis|    05-14|     F|2020-04-09|    1|     0|        1|\n",
      "|Baden-Wuerttemberg|LK Alb-Donau-Kreis|    05-14|     F|2020-04-17|    1|     0|        1|\n",
      "|Baden-Wuerttemberg|LK Alb-Donau-Kreis|    05-14|     F|2020-04-27|    1|     0|        1|\n",
      "|Baden-Wuerttemberg|LK Alb-Donau-Kreis|    05-14|     F|2020-05-11|    1|     0|        1|\n",
      "|Baden-Wuerttemberg|LK Alb-Donau-Kreis|    05-14|     F|2020-05-23|    1|     0|        1|\n",
      "|Baden-Wuerttemberg|LK Alb-Donau-Kreis|    05-14|     M|2020-03-26|    1|     0|        1|\n",
      "|Baden-Wuerttemberg|LK Alb-Donau-Kreis|    05-14|     M|2020-03-30|    1|     0|        1|\n",
      "|Baden-Wuerttemberg|LK Alb-Donau-Kreis|    05-14|     M|2020-04-01|    2|     0|        2|\n",
      "|Baden-Wuerttemberg|LK Alb-Donau-Kreis|    05-14|     M|2020-05-23|    1|     0|        1|\n",
      "+------------------+------------------+---------+------+----------+-----+------+---------+\n",
      "only showing top 20 rows\n",
      "\n"
     ]
    }
   ],
   "source": [
    "spark.sql('SELECT * FROM covid').show()"
   ]
  },
  {
   "cell_type": "code",
   "execution_count": 5,
   "id": "f44a4849-b8b0-43fc-99a3-6bf395131e51",
   "metadata": {
    "tags": []
   },
   "outputs": [
    {
     "name": "stdout",
     "output_type": "stream",
     "text": [
      "+------------------+------------------+\n",
      "|             state|            county|\n",
      "+------------------+------------------+\n",
      "|Baden-Wuerttemberg|LK Alb-Donau-Kreis|\n",
      "|Baden-Wuerttemberg|LK Alb-Donau-Kreis|\n",
      "|Baden-Wuerttemberg|LK Alb-Donau-Kreis|\n",
      "|Baden-Wuerttemberg|LK Alb-Donau-Kreis|\n",
      "|Baden-Wuerttemberg|LK Alb-Donau-Kreis|\n",
      "|Baden-Wuerttemberg|LK Alb-Donau-Kreis|\n",
      "|Baden-Wuerttemberg|LK Alb-Donau-Kreis|\n",
      "|Baden-Wuerttemberg|LK Alb-Donau-Kreis|\n",
      "|Baden-Wuerttemberg|LK Alb-Donau-Kreis|\n",
      "|Baden-Wuerttemberg|LK Alb-Donau-Kreis|\n",
      "|Baden-Wuerttemberg|LK Alb-Donau-Kreis|\n",
      "|Baden-Wuerttemberg|LK Alb-Donau-Kreis|\n",
      "|Baden-Wuerttemberg|LK Alb-Donau-Kreis|\n",
      "|Baden-Wuerttemberg|LK Alb-Donau-Kreis|\n",
      "|Baden-Wuerttemberg|LK Alb-Donau-Kreis|\n",
      "|Baden-Wuerttemberg|LK Alb-Donau-Kreis|\n",
      "|Baden-Wuerttemberg|LK Alb-Donau-Kreis|\n",
      "|Baden-Wuerttemberg|LK Alb-Donau-Kreis|\n",
      "|Baden-Wuerttemberg|LK Alb-Donau-Kreis|\n",
      "|Baden-Wuerttemberg|LK Alb-Donau-Kreis|\n",
      "+------------------+------------------+\n",
      "only showing top 20 rows\n",
      "\n"
     ]
    }
   ],
   "source": [
    "table.select('state', 'county').show()"
   ]
  },
  {
   "cell_type": "code",
   "execution_count": 6,
   "id": "a3465139-4126-4092-ba63-a3fe8a888c76",
   "metadata": {
    "tags": []
   },
   "outputs": [
    {
     "name": "stdout",
     "output_type": "stream",
     "text": [
      "+--------------------+--------------------+\n",
      "|               state|              county|\n",
      "+--------------------+--------------------+\n",
      "|              Bayern|           SK Passau|\n",
      "|       Niedersachsen|            SK Emden|\n",
      "|              Hessen|        SK Offenbach|\n",
      "|  Baden-Wuerttemberg|             LK Calw|\n",
      "|              Bayern|       LK Ostallgaeu|\n",
      "|              Bayern|    SK Aschaffenburg|\n",
      "|         Brandenburg|         LK Prignitz|\n",
      "| Nordrhein-Westfalen| LK Rhein-Sieg-Kreis|\n",
      "|              Bayern| LK Nuernberger Land|\n",
      "| Nordrhein-Westfalen|        LK Heinsberg|\n",
      "| Nordrhein-Westfalen|            LK Wesel|\n",
      "|         Brandenburg|       LK Oder-Spree|\n",
      "|Mecklenburg-Vorpo...|LK Ludwigslust-Pa...|\n",
      "| Nordrhein-Westfalen|       LK Euskirchen|\n",
      "|              Bayern|           LK Dachau|\n",
      "|              Bayern|  LK Straubing-Bogen|\n",
      "|              Bayern|       LK Altoetting|\n",
      "|              Bayern|           SK Amberg|\n",
      "|              Hessen|  LK Lahn-Dill-Kreis|\n",
      "|              Hessen|        LK Offenbach|\n",
      "+--------------------+--------------------+\n",
      "only showing top 20 rows\n",
      "\n"
     ]
    }
   ],
   "source": [
    "state_county = table.select('state', 'county').distinct()\n",
    "state_county.show()"
   ]
  },
  {
   "cell_type": "code",
   "execution_count": 7,
   "id": "c946100d-d9db-4443-9d91-d60134016045",
   "metadata": {
    "tags": []
   },
   "outputs": [
    {
     "name": "stdout",
     "output_type": "stream",
     "text": [
      "+------------------+--------------------+\n",
      "|             state|              county|\n",
      "+------------------+--------------------+\n",
      "|            Bayern|           SK Passau|\n",
      "|Baden-Wuerttemberg|             LK Calw|\n",
      "|            Bayern|       LK Ostallgaeu|\n",
      "|            Bayern|    SK Aschaffenburg|\n",
      "|       Brandenburg|         LK Prignitz|\n",
      "|            Bayern| LK Nuernberger Land|\n",
      "|       Brandenburg|       LK Oder-Spree|\n",
      "|            Bayern|           LK Dachau|\n",
      "|            Bayern|  LK Straubing-Bogen|\n",
      "|            Bayern|       LK Altoetting|\n",
      "|            Bayern|           SK Amberg|\n",
      "|            Berlin| SK Berlin Neukoelln|\n",
      "|Baden-Wuerttemberg|        SK Stuttgart|\n",
      "|Baden-Wuerttemberg|         LK Enzkreis|\n",
      "|            Bayern|          LK Bamberg|\n",
      "|            Bayern|      LK Lichtenfels|\n",
      "|Baden-Wuerttemberg|LK Main-Tauber-Kreis|\n",
      "|            Bayern|       SK Regensburg|\n",
      "|            Bayern|          LK Ansbach|\n",
      "|            Bayern|     LK Unterallgaeu|\n",
      "+------------------+--------------------+\n",
      "only showing top 20 rows\n",
      "\n"
     ]
    }
   ],
   "source": [
    "from pyspark.sql.functions import *\n",
    "\n",
    "state_county.filter(col('state').startswith('B')).show()"
   ]
  },
  {
   "cell_type": "code",
   "execution_count": 8,
   "id": "69e4d517-4fa1-4f59-9e9c-dae6c4bd80ab",
   "metadata": {
    "tags": []
   },
   "outputs": [
    {
     "name": "stdout",
     "output_type": "stream",
     "text": [
      "+------------------+------------------+---------+------+----------+-----+------+---------+\n",
      "|             state|            county|age_group|gender|      date|cases|deaths|recovered|\n",
      "+------------------+------------------+---------+------+----------+-----+------+---------+\n",
      "|Baden-Wuerttemberg|LK Alb-Donau-Kreis|    00-04|     F|2020-03-27|    1|     0|        1|\n",
      "|Baden-Wuerttemberg|LK Alb-Donau-Kreis|    00-04|     F|2020-03-28|    1|     0|        1|\n",
      "|Baden-Wuerttemberg|LK Alb-Donau-Kreis|    00-04|     F|2020-04-03|    1|     0|        1|\n",
      "|Baden-Wuerttemberg|LK Alb-Donau-Kreis|    05-14|     F|2020-03-17|    1|     0|        1|\n",
      "|Baden-Wuerttemberg|LK Alb-Donau-Kreis|    05-14|     F|2020-03-25|    1|     0|        1|\n",
      "|Baden-Wuerttemberg|LK Alb-Donau-Kreis|    05-14|     F|2020-03-26|    1|     0|        1|\n",
      "|Baden-Wuerttemberg|LK Alb-Donau-Kreis|    05-14|     F|2020-03-29|    1|     0|        1|\n",
      "|Baden-Wuerttemberg|LK Alb-Donau-Kreis|    05-14|     F|2020-03-31|    1|     0|        1|\n",
      "|Baden-Wuerttemberg|LK Alb-Donau-Kreis|    05-14|     F|2020-04-01|    1|     0|        1|\n",
      "|Baden-Wuerttemberg|LK Alb-Donau-Kreis|    05-14|     F|2020-04-09|    1|     0|        1|\n",
      "|Baden-Wuerttemberg|LK Alb-Donau-Kreis|    05-14|     F|2020-04-17|    1|     0|        1|\n",
      "|Baden-Wuerttemberg|LK Alb-Donau-Kreis|    05-14|     F|2020-04-27|    1|     0|        1|\n",
      "|Baden-Wuerttemberg|LK Alb-Donau-Kreis|    05-14|     F|2020-05-11|    1|     0|        1|\n",
      "|Baden-Wuerttemberg|LK Alb-Donau-Kreis|    05-14|     F|2020-05-23|    1|     0|        1|\n",
      "|Baden-Wuerttemberg|LK Alb-Donau-Kreis|    15-34|     F|2020-03-14|    1|     0|        1|\n",
      "|Baden-Wuerttemberg|LK Alb-Donau-Kreis|    15-34|     F|2020-03-15|    1|     0|        1|\n",
      "|Baden-Wuerttemberg|LK Alb-Donau-Kreis|    15-34|     F|2020-03-16|    1|     0|        1|\n",
      "|Baden-Wuerttemberg|LK Alb-Donau-Kreis|    15-34|     F|2020-03-18|    1|     0|        1|\n",
      "|Baden-Wuerttemberg|LK Alb-Donau-Kreis|    15-34|     F|2020-03-19|    1|     0|        1|\n",
      "|Baden-Wuerttemberg|LK Alb-Donau-Kreis|    15-34|     F|2020-03-20|    1|     0|        1|\n",
      "+------------------+------------------+---------+------+----------+-----+------+---------+\n",
      "only showing top 20 rows\n",
      "\n"
     ]
    }
   ],
   "source": [
    "women_recovered = table.filter((col('gender') == 'F') & (col('recovered') == 1)).show()"
   ]
  },
  {
   "cell_type": "code",
   "execution_count": 9,
   "id": "5b80e0e2-78b6-46bd-b175-b6a6176ecc8f",
   "metadata": {
    "tags": []
   },
   "outputs": [
    {
     "data": {
      "text/plain": [
       "25318"
      ]
     },
     "execution_count": 9,
     "metadata": {},
     "output_type": "execute_result"
    }
   ],
   "source": [
    "count_women_recovered = table.filter((col('gender') == 'F') & (col('recovered') == 1)).count()\n",
    "count_women_recovered"
   ]
  },
  {
   "cell_type": "code",
   "execution_count": 10,
   "id": "bab100b8-a0e8-4c9f-b3cb-fe14bd21963c",
   "metadata": {
    "tags": []
   },
   "outputs": [
    {
     "data": {
      "text/plain": [
       "24299"
      ]
     },
     "execution_count": 10,
     "metadata": {},
     "output_type": "execute_result"
    }
   ],
   "source": [
    "bayern_ou_brandenburg = table.filter(col('state').isin('Bayern', 'Brandenburg')).count()\n",
    "bayern_ou_brandenburg"
   ]
  },
  {
   "cell_type": "code",
   "execution_count": 11,
   "id": "c1cc33d2-3146-4c88-9408-a5f5bea38b7f",
   "metadata": {
    "tags": []
   },
   "outputs": [
    {
     "name": "stdout",
     "output_type": "stream",
     "text": [
      "+-------------------+--------------------+---------+------+----------+-----+------+---------+\n",
      "|              state|              county|age_group|gender|      date|cases|deaths|recovered|\n",
      "+-------------------+--------------------+---------+------+----------+-----+------+---------+\n",
      "|             Bayern|        LK Starnberg|    35-59|     M|2020-01-28|    1|     0|        1|\n",
      "|             Bayern| LK Landsberg a.Lech|    15-34|     M|2020-01-28|    1|     0|        1|\n",
      "|             Bayern|LK Fuerstenfeldbruck|    15-34|     M|2020-01-29|    1|     0|        1|\n",
      "|             Bayern|         SK Muenchen|    15-34|     F|2020-01-29|    1|     0|        1|\n",
      "|             Bayern|LK Fuerstenfeldbruck|    35-59|     M|2020-01-31|    1|     0|        1|\n",
      "|             Bayern|       LK Traunstein|    35-59|     M|2020-01-31|    1|     0|        1|\n",
      "|             Bayern|       LK Traunstein|    00-04|     F|2020-01-31|    1|     0|        1|\n",
      "|             Bayern|         SK Muenchen|    15-34|     M|2020-02-03|    1|     0|        1|\n",
      "|             Bayern|         LK Muenchen|    35-59|     M|2020-02-04|    1|     0|        1|\n",
      "|      Niedersachsen|      SK Delmenhorst|    35-59|     M|2020-02-04|    1|     0|        1|\n",
      "|             Bayern| LK Landsberg a.Lech|    15-34|     M|2020-02-04|    1|     0|        1|\n",
      "|             Bayern|       LK Traunstein|    00-04|     M|2020-02-04|    1|     0|        1|\n",
      "|             Bayern|       LK Traunstein|    35-59|     F|2020-02-06|    1|     0|        1|\n",
      "|             Bayern|LK Fuerstenfeldbruck|    35-59|     F|2020-02-07|    1|     0|        1|\n",
      "|             Bayern|         SK Muenchen|    35-59|     M|2020-02-11|    1|     0|        1|\n",
      "|             Bayern|        LK Starnberg|    00-04|     M|2020-02-11|    1|     0|        1|\n",
      "|Nordrhein-Westfalen|            SK Koeln|    60-79|     F|2020-02-12|    1|     0|        1|\n",
      "|             Bayern|         LK Freising|    35-59|     F|2020-02-12|    1|     0|        1|\n",
      "|Nordrhein-Westfalen|            SK Koeln|    80-99|     F|2020-02-20|    1|     0|        1|\n",
      "|Nordrhein-Westfalen|            SK Koeln|    80-99|     F|2020-02-22|    1|     0|        1|\n",
      "+-------------------+--------------------+---------+------+----------+-----+------+---------+\n",
      "only showing top 20 rows\n",
      "\n"
     ]
    }
   ],
   "source": [
    "sorted_table = table.sort(col('date').asc(), col('age_group').desc())\n",
    "sorted_table.show()"
   ]
  },
  {
   "cell_type": "code",
   "execution_count": 12,
   "id": "52554d26-faf7-4cf8-b8c1-a58a3397fc46",
   "metadata": {
    "tags": []
   },
   "outputs": [
    {
     "name": "stdout",
     "output_type": "stream",
     "text": [
      "+------+-----+\n",
      "|gender|somme|\n",
      "+------+-----+\n",
      "|     F| 4066|\n",
      "|    NA|    5|\n",
      "|     M| 5030|\n",
      "+------+-----+\n",
      "\n"
     ]
    }
   ],
   "source": [
    "deaths_by_gender = table.select('gender', 'deaths')\\\n",
    "                        .groupby('gender')\\\n",
    "                        .agg(\n",
    "                            sum(col('deaths')).alias('somme')\n",
    "                        )\n",
    "deaths_by_gender.show()"
   ]
  },
  {
   "cell_type": "code",
   "execution_count": 13,
   "id": "24e2a274-fef4-42a7-af3b-df5be14bcb35",
   "metadata": {
    "tags": []
   },
   "outputs": [
    {
     "name": "stdout",
     "output_type": "stream",
     "text": [
      "+------+-----+\n",
      "|gender|somme|\n",
      "+------+-----+\n",
      "|     M| 5030|\n",
      "+------+-----+\n",
      "\n"
     ]
    }
   ],
   "source": [
    "deaths_by_gender_5k = table.select('gender', 'deaths')\\\n",
    "                        .groupby('gender')\\\n",
    "                        .agg(\n",
    "                            sum(col('deaths')).alias('somme')\n",
    "                        )\\\n",
    "                        .filter(col('somme') > 5000)\n",
    "deaths_by_gender_5k.show()"
   ]
  },
  {
   "cell_type": "code",
   "execution_count": 14,
   "id": "3bc8d8ec-9b50-4c05-bc55-9a1888d40052",
   "metadata": {
    "tags": []
   },
   "outputs": [
    {
     "name": "stdout",
     "output_type": "stream",
     "text": [
      "+------------------+------------------+---------+------+----------+-----+------+---------+-------+\n",
      "|             state|            county|age_group|gender|      date|cases|deaths|recovered|new_col|\n",
      "+------------------+------------------+---------+------+----------+-----+------+---------+-------+\n",
      "|Baden-Wuerttemberg|LK Alb-Donau-Kreis|    00-04|     F|2020-03-27|    1|     0|        1|   True|\n",
      "|Baden-Wuerttemberg|LK Alb-Donau-Kreis|    00-04|     F|2020-03-28|    1|     0|        1|   True|\n",
      "|Baden-Wuerttemberg|LK Alb-Donau-Kreis|    00-04|     F|2020-04-03|    1|     0|        1|   True|\n",
      "|Baden-Wuerttemberg|LK Alb-Donau-Kreis|    00-04|     M|2020-04-05|    1|     0|        1|   True|\n",
      "|Baden-Wuerttemberg|LK Alb-Donau-Kreis|    00-04|     M|2020-05-18|    1|     0|        1|   True|\n",
      "|Baden-Wuerttemberg|LK Alb-Donau-Kreis|    05-14|     F|2020-03-17|    1|     0|        1|   True|\n",
      "|Baden-Wuerttemberg|LK Alb-Donau-Kreis|    05-14|     F|2020-03-25|    1|     0|        1|   True|\n",
      "|Baden-Wuerttemberg|LK Alb-Donau-Kreis|    05-14|     F|2020-03-26|    1|     0|        1|   True|\n",
      "|Baden-Wuerttemberg|LK Alb-Donau-Kreis|    05-14|     F|2020-03-29|    1|     0|        1|   True|\n",
      "|Baden-Wuerttemberg|LK Alb-Donau-Kreis|    05-14|     F|2020-03-31|    1|     0|        1|   True|\n",
      "|Baden-Wuerttemberg|LK Alb-Donau-Kreis|    05-14|     F|2020-04-01|    1|     0|        1|   True|\n",
      "|Baden-Wuerttemberg|LK Alb-Donau-Kreis|    05-14|     F|2020-04-09|    1|     0|        1|   True|\n",
      "|Baden-Wuerttemberg|LK Alb-Donau-Kreis|    05-14|     F|2020-04-17|    1|     0|        1|   True|\n",
      "|Baden-Wuerttemberg|LK Alb-Donau-Kreis|    05-14|     F|2020-04-27|    1|     0|        1|   True|\n",
      "|Baden-Wuerttemberg|LK Alb-Donau-Kreis|    05-14|     F|2020-05-11|    1|     0|        1|   True|\n",
      "|Baden-Wuerttemberg|LK Alb-Donau-Kreis|    05-14|     F|2020-05-23|    1|     0|        1|   True|\n",
      "|Baden-Wuerttemberg|LK Alb-Donau-Kreis|    05-14|     M|2020-03-26|    1|     0|        1|   True|\n",
      "|Baden-Wuerttemberg|LK Alb-Donau-Kreis|    05-14|     M|2020-03-30|    1|     0|        1|   True|\n",
      "|Baden-Wuerttemberg|LK Alb-Donau-Kreis|    05-14|     M|2020-04-01|    2|     0|        2|   True|\n",
      "|Baden-Wuerttemberg|LK Alb-Donau-Kreis|    05-14|     M|2020-05-23|    1|     0|        1|   True|\n",
      "+------------------+------------------+---------+------+----------+-----+------+---------+-------+\n",
      "only showing top 20 rows\n",
      "\n"
     ]
    }
   ],
   "source": [
    "with_new_column = table.withColumn('new_col', lit('True'))\n",
    "with_new_column.show()"
   ]
  }
 ],
 "metadata": {
  "kernelspec": {
   "display_name": "Python 3 (ipykernel)",
   "language": "python",
   "name": "python3"
  },
  "language_info": {
   "codemirror_mode": {
    "name": "ipython",
    "version": 3
   },
   "file_extension": ".py",
   "mimetype": "text/x-python",
   "name": "python",
   "nbconvert_exporter": "python",
   "pygments_lexer": "ipython3",
   "version": "3.10.11"
  }
 },
 "nbformat": 4,
 "nbformat_minor": 5
}
