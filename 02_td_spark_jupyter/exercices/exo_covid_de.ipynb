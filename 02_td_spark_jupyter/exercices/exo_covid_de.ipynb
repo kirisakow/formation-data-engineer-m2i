{
 "cells": [
  {
   "cell_type": "markdown",
   "id": "cae85c16-c9f2-4552-af3a-d59865318d5a",
   "metadata": {},
   "source": [
    "# Exercice 03 \n",
    "\n",
    "but analyse données du COVID19 - Allemagne\n",
    "\n",
    "## Présentation des données\n",
    "\n",
    "Le jeu de données pour cet exercice est composé de deux fichiers :\n",
    "\n",
    "- covid_de.csv :\n",
    "  - state : nom de l'état.\n",
    "  - county : arrondissement.\n",
    "  - age_group : tranche d'âge (00-04, 05-14, 15-34, 35-59, 60-79, 80-99).\n",
    "  - gender : sexe (M -> homme, F -> femme).\n",
    "  - date : date de relevé.\n",
    "  - cases : nombre de cas.\n",
    "  - deaths : nombre de morts.\n",
    "  - recovered : nombre de guérisons.\n",
    "  \n",
    "- demographics_de.csv :\n",
    "  - state : nom de l'état.\n",
    "  - gender : sexe (male -> homme, femelle -> femme).\n",
    "  - age_group : tranche d'âge (00-04, 05-14, 15-34, 35-59, 60-79, 80-99).\n",
    "  - population : total du nombre de personnes du groupe.\n",
    "\n",
    "Les données sont disponibles sur le site [kaggle.com](https://www.kaggle.com/headsortails/covid19-tracking-germany/).\n",
    "\n",
    "## Exercices : partie 1\n",
    "\n",
    "1. Récupérer le nombre d'entrées dans le fichier covid19_de.csv.\n",
    "2. Récupérer le nomdre d'arrondissements (county).\n",
    "3. Récupérer le nombre d'états (state).\n",
    "4. Collecter le nombre d'arrondissements par état.\n",
    "Afficher pour chaque état son nombre d'arrondissements.\n",
    "5. Récupérer le nombre de cas positifs par état\n",
    "6. Récupérer le nombre de morts par état.\n",
    "7. Récupérer le nombre de cas positifs par état au 1er avril (inclus).\n",
    "8. Récupérer le nombre de morts par tranche d'âge.\n",
    "9. Calculer le rapport du nombre de morts par tranche d'age / nombre de morts total.\n",
    "10. Récupérer le nombre de morts par sexe.\n",
    "11. Calculer le rapport du nombre de morts par sexe / nombre de morts total.\n",
    "12. Calculer le rapport du nombre de morts / population pour chaque région.\n",
    "\n",
    "BONUS pour les questions 9, 11 et 12: afficher le résultat dans la table sous forme de fraction et de pourcentage   \n"
   ]
  },
  {
   "cell_type": "code",
   "execution_count": 3,
   "id": "c6626963-edbd-4a7c-a289-72c7bb635064",
   "metadata": {
    "tags": []
   },
   "outputs": [],
   "source": [
    "from pyspark.sql import SparkSession\n",
    "import pyspark.sql.functions as sqlf\n",
    "\n",
    "spark = SparkSession.builder.getOrCreate()\n",
    "df_covid = spark.read.csv('../data/covid_de.csv', header=True, inferSchema=True)"
   ]
  },
  {
   "cell_type": "code",
   "execution_count": 4,
   "id": "e56583d4-8643-4846-b915-9352c76748f8",
   "metadata": {
    "tags": []
   },
   "outputs": [
    {
     "name": "stdout",
     "output_type": "stream",
     "text": [
      "root\n",
      " |-- state: string (nullable = true)\n",
      " |-- county: string (nullable = true)\n",
      " |-- age_group: string (nullable = true)\n",
      " |-- gender: string (nullable = true)\n",
      " |-- date: date (nullable = true)\n",
      " |-- cases: integer (nullable = true)\n",
      " |-- deaths: integer (nullable = true)\n",
      " |-- recovered: integer (nullable = true)\n",
      "\n"
     ]
    }
   ],
   "source": [
    "df_covid.printSchema()"
   ]
  },
  {
   "cell_type": "code",
   "execution_count": 7,
   "id": "71e09377-fe30-4f6b-b44e-c574997013e2",
   "metadata": {
    "tags": []
   },
   "outputs": [
    {
     "data": {
      "text/plain": [
       "94055"
      ]
     },
     "execution_count": 7,
     "metadata": {},
     "output_type": "execute_result"
    }
   ],
   "source": [
    "# 1. Récupérer le nombre d'entrées dans le fichier covid19_de.csv.\n",
    "df_covid.count()"
   ]
  },
  {
   "cell_type": "code",
   "execution_count": 8,
   "id": "6b43f9cd-ef86-4e5f-b218-9b0c767ca6e0",
   "metadata": {
    "tags": []
   },
   "outputs": [
    {
     "data": {
      "text/plain": [
       "412"
      ]
     },
     "execution_count": 8,
     "metadata": {},
     "output_type": "execute_result"
    }
   ],
   "source": [
    "# 2. Récupérer le nomdre d'arrondissements (county).\n",
    "df_covid.select('county').distinct().count()"
   ]
  },
  {
   "cell_type": "code",
   "execution_count": 9,
   "id": "d5c1d137-6711-4915-a0e3-e09596fd890c",
   "metadata": {
    "tags": []
   },
   "outputs": [
    {
     "data": {
      "text/plain": [
       "16"
      ]
     },
     "execution_count": 9,
     "metadata": {},
     "output_type": "execute_result"
    }
   ],
   "source": [
    "# 3. Récupérer le nombre d'états (state).\n",
    "df_covid.select('state').distinct().count()"
   ]
  },
  {
   "cell_type": "code",
   "execution_count": 10,
   "id": "e11a46e6-cf61-4100-a2f2-dd7e56aba7a9",
   "metadata": {
    "tags": []
   },
   "outputs": [
    {
     "name": "stdout",
     "output_type": "stream",
     "text": [
      "+--------------------+-----------------------+\n",
      "|               state|nb_de_couties_per_state|\n",
      "+--------------------+-----------------------+\n",
      "|      Sachsen-Anhalt|                     14|\n",
      "|       Niedersachsen|                     45|\n",
      "|         Brandenburg|                     18|\n",
      "|              Berlin|                     12|\n",
      "|              Bayern|                     96|\n",
      "|             Sachsen|                     13|\n",
      "|             Hamburg|                      1|\n",
      "|              Bremen|                      2|\n",
      "| Nordrhein-Westfalen|                     53|\n",
      "|  Baden-Wuerttemberg|                     44|\n",
      "|              Hessen|                     26|\n",
      "|Mecklenburg-Vorpo...|                      8|\n",
      "|            Saarland|                      6|\n",
      "|  Schleswig-Holstein|                     15|\n",
      "|          Thueringen|                     23|\n",
      "|     Rheinland-Pfalz|                     36|\n",
      "+--------------------+-----------------------+\n",
      "\n"
     ]
    }
   ],
   "source": [
    "# 4. Collecter le nombre d'arrondissements par état. Afficher pour chaque état son nombre d'arrondissements.\n",
    "df_covid.groupby('state')\\\n",
    "        .agg(sqlf.count_distinct('county').alias('nb_de_couties_per_state'))\\\n",
    "        .show()"
   ]
  },
  {
   "cell_type": "code",
   "execution_count": 11,
   "id": "fe77b67d-d662-4f1a-bf99-2254625480b3",
   "metadata": {
    "tags": []
   },
   "outputs": [
    {
     "name": "stdout",
     "output_type": "stream",
     "text": [
      "+--------------------+--------+\n",
      "|               state|nb_cases|\n",
      "+--------------------+--------+\n",
      "|              Bayern|   50048|\n",
      "| Nordrhein-Westfalen|   46613|\n",
      "|  Baden-Wuerttemberg|   36565|\n",
      "|       Niedersachsen|   14132|\n",
      "|              Hessen|   11534|\n",
      "|              Berlin|    8860|\n",
      "|     Rheinland-Pfalz|    7374|\n",
      "|             Sachsen|    5503|\n",
      "|             Hamburg|    5250|\n",
      "|         Brandenburg|    3510|\n",
      "|          Thueringen|    3327|\n",
      "|  Schleswig-Holstein|    3292|\n",
      "|            Saarland|    2840|\n",
      "|      Sachsen-Anhalt|    1973|\n",
      "|              Bremen|    1727|\n",
      "|Mecklenburg-Vorpo...|     815|\n",
      "+--------------------+--------+\n",
      "\n"
     ]
    }
   ],
   "source": [
    "# 5. Récupérer le nombre de cas positifs par état\n",
    "df_covid.groupby('state')\\\n",
    "      .agg(sqlf.sum('cases').alias('nb_cases'))\\\n",
    "      .orderBy(sqlf.col('nb_cases').desc())\\\n",
    "      .show()"
   ]
  },
  {
   "cell_type": "code",
   "execution_count": 12,
   "id": "9315c25b-a643-4dcf-b9ae-ee15393c0735",
   "metadata": {
    "tags": []
   },
   "outputs": [
    {
     "name": "stdout",
     "output_type": "stream",
     "text": [
      "+--------------------+---------+\n",
      "|               state|nb_deaths|\n",
      "+--------------------+---------+\n",
      "|              Bayern|     2618|\n",
      "|  Baden-Wuerttemberg|     1838|\n",
      "| Nordrhein-Westfalen|     1721|\n",
      "|       Niedersachsen|      647|\n",
      "|              Hessen|      516|\n",
      "|             Hamburg|      261|\n",
      "|     Rheinland-Pfalz|      238|\n",
      "|             Sachsen|      225|\n",
      "|              Berlin|      222|\n",
      "|          Thueringen|      182|\n",
      "|            Saarland|      174|\n",
      "|         Brandenburg|      167|\n",
      "|  Schleswig-Holstein|      155|\n",
      "|      Sachsen-Anhalt|       62|\n",
      "|              Bremen|       55|\n",
      "|Mecklenburg-Vorpo...|       20|\n",
      "+--------------------+---------+\n",
      "\n"
     ]
    }
   ],
   "source": [
    "# 6. Récupérer le nombre de morts par état.\n",
    "df_covid.groupby('state')\\\n",
    "      .agg(sqlf.sum('deaths').alias('nb_deaths'))\\\n",
    "      .orderBy(sqlf.col('nb_deaths').desc())\\\n",
    "      .show()"
   ]
  },
  {
   "cell_type": "code",
   "execution_count": 13,
   "id": "bd7c0180-cf2d-4e5c-8653-6bfa9922e811",
   "metadata": {
    "tags": []
   },
   "outputs": [
    {
     "name": "stdout",
     "output_type": "stream",
     "text": [
      "+--------------------+------------------------+\n",
      "|               state|nb_cases_as_of_april_1st|\n",
      "+--------------------+------------------------+\n",
      "|              Bayern|                   20234|\n",
      "| Nordrhein-Westfalen|                   16818|\n",
      "|  Baden-Wuerttemberg|                   16582|\n",
      "|       Niedersachsen|                    5168|\n",
      "|              Hessen|                    3905|\n",
      "|     Rheinland-Pfalz|                    3321|\n",
      "|              Berlin|                    3088|\n",
      "|             Hamburg|                    2715|\n",
      "|             Sachsen|                    2473|\n",
      "|  Schleswig-Holstein|                    1377|\n",
      "|         Brandenburg|                    1125|\n",
      "|            Saarland|                    1086|\n",
      "|          Thueringen|                     944|\n",
      "|      Sachsen-Anhalt|                     815|\n",
      "|Mecklenburg-Vorpo...|                     448|\n",
      "|              Bremen|                     328|\n",
      "+--------------------+------------------------+\n",
      "\n"
     ]
    }
   ],
   "source": [
    "# 7. Récupérer le nombre de cas positifs par état au 1er avril (inclus).\n",
    "df_covid.filter(sqlf.col('date') <= '2020-04-01')\\\n",
    "      .groupby('state')\\\n",
    "      .agg(sqlf.sum('cases').alias('nb_cases_as_of_april_1st'))\\\n",
    "      .orderBy(sqlf.col('nb_cases_as_of_april_1st').desc())\\\n",
    "      .show()"
   ]
  },
  {
   "cell_type": "code",
   "execution_count": 14,
   "id": "f0bb60dc-bf73-46d2-a2a2-845382e5e11d",
   "metadata": {
    "tags": []
   },
   "outputs": [
    {
     "name": "stdout",
     "output_type": "stream",
     "text": [
      "+---------+---------+\n",
      "|age_group|nb_deaths|\n",
      "+---------+---------+\n",
      "|    80-99|     5733|\n",
      "|       NA|        0|\n",
      "|    05-14|        0|\n",
      "|    35-59|      418|\n",
      "|    60-79|     2931|\n",
      "|    00-04|        1|\n",
      "|    15-34|       18|\n",
      "+---------+---------+\n",
      "\n"
     ]
    }
   ],
   "source": [
    "# 8. Récupérer le nombre de morts par tranche d'âge.\n",
    "df_covid.groupby('age_group')\\\n",
    "      .agg(sqlf.sum('deaths').alias('nb_deaths'))\\\n",
    "      .show()"
   ]
  },
  {
   "cell_type": "code",
   "execution_count": 46,
   "id": "bdb1a657-5740-4440-bd6a-48287cf2fdda",
   "metadata": {
    "tags": []
   },
   "outputs": [
    {
     "name": "stdout",
     "output_type": "stream",
     "text": [
      "+---------+---------+--------------+----------------------+----------------------+\n",
      "|age_group|nb_deaths|ratio_to_total|ratio_to_total_as_frac|ratio_to_total_as_perc|\n",
      "+---------+---------+--------------+----------------------+----------------------+\n",
      "|    80-99|     5733|        0.6299|           5733 / 9101|              62.9931%|\n",
      "|       NA|        0|        0.0000|              0 / 9101|               0.0000%|\n",
      "|    05-14|        0|        0.0000|              0 / 9101|               0.0000%|\n",
      "|    35-59|      418|        0.0459|            418 / 9101|               4.5929%|\n",
      "|    60-79|     2931|        0.3221|           2931 / 9101|              32.2053%|\n",
      "|    00-04|        1|        0.0001|              1 / 9101|               0.0110%|\n",
      "|    15-34|       18|        0.0020|             18 / 9101|               0.1978%|\n",
      "+---------+---------+--------------+----------------------+----------------------+\n",
      "\n"
     ]
    }
   ],
   "source": [
    "# 9. Calculer le rapport du nombre de morts par tranche d'age / nombre de morts total.\n",
    "# BONUS: afficher le résultat dans la table sous forme de fraction et de pourcentage\n",
    "total_deaths = df_covid.agg(sqlf.sum('deaths')).collect()[0][0]\n",
    "df_covid.groupby('age_group')\\\n",
    "      .agg(sqlf.sum('deaths').alias('nb_deaths'))\\\n",
    "      .withColumn('ratio_to_total', sqlf.format_string('%.4f', \n",
    "                     sqlf.col('nb_deaths') / total_deaths))\\\n",
    "      .withColumn('ratio_to_total_as_frac', sqlf.format_string('%d / %d', \n",
    "                     sqlf.col('nb_deaths'),\n",
    "                     sqlf.lit(total_deaths)))\\\n",
    "      .withColumn('ratio_to_total_as_perc', \n",
    "                  sqlf.format_string('%.4f%%', sqlf.col('nb_deaths') / total_deaths * 100)\n",
    "                 )\\\n",
    "      .show()"
   ]
  },
  {
   "cell_type": "code",
   "execution_count": 53,
   "id": "8b4c92ac-7855-4504-bf8d-06496a22bc23",
   "metadata": {
    "tags": []
   },
   "outputs": [
    {
     "name": "stdout",
     "output_type": "stream",
     "text": [
      "+------+---------+\n",
      "|gender|nb_deaths|\n",
      "+------+---------+\n",
      "|     F|     4066|\n",
      "|    NA|        5|\n",
      "|     M|     5030|\n",
      "+------+---------+\n",
      "\n"
     ]
    }
   ],
   "source": [
    "# 10. Récupérer le nombre de morts par sexe.\n",
    "df_covid.groupby('gender')\\\n",
    "      .agg(sqlf.sum('deaths').alias('nb_deaths'))\\\n",
    "      .show()"
   ]
  },
  {
   "cell_type": "code",
   "execution_count": 54,
   "id": "6dd9a53d-540c-4e26-8bd1-6e3869c863aa",
   "metadata": {
    "tags": []
   },
   "outputs": [
    {
     "name": "stdout",
     "output_type": "stream",
     "text": [
      "+------+---------+--------------+----------------------+----------------------+\n",
      "|gender|nb_deaths|ratio_to_total|ratio_to_total_as_frac|ratio_to_total_as_perc|\n",
      "+------+---------+--------------+----------------------+----------------------+\n",
      "|     F|     4066|         0.447|           4066 / 9101|               44.676%|\n",
      "|    NA|        5|         0.001|              5 / 9101|                0.055%|\n",
      "|     M|     5030|         0.553|           5030 / 9101|               55.269%|\n",
      "+------+---------+--------------+----------------------+----------------------+\n",
      "\n"
     ]
    }
   ],
   "source": [
    "# 11. Calculer le rapport du nombre de morts par sexe / nombre de morts total.\n",
    "# BONUS: afficher le résultat dans la table sous forme de fraction et de pourcentage\n",
    "total_deaths = df.agg(sqlf.sum('deaths')).collect()[0][0]\n",
    "df_covid.groupby('gender')\\\n",
    "      .agg(sqlf.sum('deaths').alias('nb_deaths'))\\\n",
    "      .withColumn('ratio_to_total',\n",
    "                 sqlf.round(\n",
    "                     sqlf.col('nb_deaths') / total_deaths,\n",
    "                     3\n",
    "                 ))\\\n",
    "      .withColumn('ratio_to_total_as_frac',\n",
    "                 sqlf.format_string('%d / %d',\n",
    "                    sqlf.col('nb_deaths'),\n",
    "                    sqlf.lit(total_deaths),\n",
    "                 ))\\\n",
    "      .withColumn('ratio_to_total_as_perc',\n",
    "                 sqlf.format_string('%.3f%%',\n",
    "                     sqlf.col('nb_deaths') / total_deaths * 100,\n",
    "                 ))\\\n",
    "      .show()"
   ]
  },
  {
   "cell_type": "code",
   "execution_count": 55,
   "id": "f72197b9-6bd4-4221-b4bf-2f6df5c3268b",
   "metadata": {
    "tags": []
   },
   "outputs": [
    {
     "name": "stdout",
     "output_type": "stream",
     "text": [
      "+--------------------+----------------+---------+--------------------------+----------------------------------+----------------------------------+\n",
      "|               state|state_population|nb_deaths|ratio_deaths_to_population|ratio_deaths_to_population_as_frac|ratio_deaths_to_population_as_perc|\n",
      "+--------------------+----------------+---------+--------------------------+----------------------------------+----------------------------------+\n",
      "|       Niedersachsen|         7982448|      647|                0.00008105|                     647 / 7982448|                           0.0081%|\n",
      "|         Brandenburg|         2511917|      167|                0.00006648|                     167 / 2511917|                           0.0066%|\n",
      "|              Berlin|         3644826|      222|                0.00006091|                     222 / 3644826|                           0.0061%|\n",
      "|              Bayern|        13076721|     2618|                0.00020020|                   2618 / 13076721|                           0.0200%|\n",
      "|             Hamburg|         1841179|      261|                0.00014176|                     261 / 1841179|                           0.0142%|\n",
      "|              Bremen|          682986|       55|                0.00008053|                       55 / 682986|                           0.0081%|\n",
      "| Nordrhein-Westfalen|        17932651|     1721|                0.00009597|                   1721 / 17932651|                           0.0096%|\n",
      "|  Baden-Wuerttemberg|        11069533|     1838|                0.00016604|                   1838 / 11069533|                           0.0166%|\n",
      "|              Hessen|         6265809|      516|                0.00008235|                     516 / 6265809|                           0.0082%|\n",
      "|Mecklenburg-Vorpo...|         1609675|       20|                0.00001242|                      20 / 1609675|                           0.0012%|\n",
      "|      Sachsen-Anhalt|         2208321|       62|                0.00002808|                      62 / 2208321|                           0.0028%|\n",
      "|             Sachsen|         4077937|      225|                0.00005517|                     225 / 4077937|                           0.0055%|\n",
      "|            Saarland|          990509|      174|                0.00017567|                      174 / 990509|                           0.0176%|\n",
      "|  Schleswig-Holstein|         2896712|      155|                0.00005351|                     155 / 2896712|                           0.0054%|\n",
      "|          Thueringen|         2143145|      182|                0.00008492|                     182 / 2143145|                           0.0085%|\n",
      "|     Rheinland-Pfalz|         4084844|      238|                0.00005826|                     238 / 4084844|                           0.0058%|\n",
      "+--------------------+----------------+---------+--------------------------+----------------------------------+----------------------------------+\n",
      "\n"
     ]
    }
   ],
   "source": [
    "# 12. Calculer le rapport du nombre de morts / population pour chaque région.\n",
    "# BONUS: afficher le résultat dans la table sous forme de fraction et de pourcentage\n",
    "df_population = spark.read.csv('../data/demographics_de.csv', header=True, inferSchema=True)\n",
    "df_population.groupby('state')\\\n",
    "              .agg(sqlf.sum('population').alias('state_population'))\\\n",
    "              .sort(sqlf.col('state_population').desc())\\\n",
    "              .join(\n",
    "                df_covid.groupby('state')\\\n",
    "                  .agg(sqlf.sum('deaths').alias('nb_deaths')),\n",
    "                on='state')\\\n",
    "              .withColumn('ratio_deaths_to_population', sqlf.format_string('%.8f',\n",
    "                            sqlf.col('nb_deaths') / sqlf.col('state_population')))\\\n",
    "              .withColumn('ratio_deaths_to_population_as_frac', sqlf.format_string('%d / %d',\n",
    "                            sqlf.col('nb_deaths'),\n",
    "                            sqlf.col('state_population')))\\\n",
    "              .withColumn('ratio_deaths_to_population_as_perc', sqlf.format_string('%.4f%%', \n",
    "                            sqlf.col('nb_deaths') / sqlf.col('state_population') * 100))\\\n",
    "              .show()"
   ]
  }
 ],
 "metadata": {
  "kernelspec": {
   "display_name": "Python 3 (ipykernel)",
   "language": "python",
   "name": "python3"
  },
  "language_info": {
   "codemirror_mode": {
    "name": "ipython",
    "version": 3
   },
   "file_extension": ".py",
   "mimetype": "text/x-python",
   "name": "python",
   "nbconvert_exporter": "python",
   "pygments_lexer": "ipython3",
   "version": "3.10.11"
  }
 },
 "nbformat": 4,
 "nbformat_minor": 5
}
