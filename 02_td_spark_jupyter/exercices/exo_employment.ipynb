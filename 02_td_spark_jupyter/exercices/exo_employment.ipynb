{
 "cells": [
  {
   "cell_type": "markdown",
   "id": "4e8b334c-88da-4363-85a7-604cf6d4d2ef",
   "metadata": {},
   "source": [
    "# Analyse de données\n",
    "\n",
    "## Préambule\n",
    "\n",
    "Le jeu de données pour l'exercice est le suivant : https://www.kaggle.com/etiennelq/french-employment-by-town\n",
    "\n",
    "Ce jeu de données comprend :\n",
    "\n",
    "- 5 fichiers CSV\n",
    "- 2 fichiers GeoJSON\n",
    "\n",
    "Le descriptif de chaque fichier est inclus dans le lien Kaggle ci-dessus.\n",
    "\n",
    "## Les 3 fichiers à utiliser dans l'exercice sont :\n",
    "\n",
    "- base_etablissement_par_tranche_effectif.csv\n",
    "- population.csv\n",
    "- name_geographic_information_modified.csv\n",
    "- net_salary_per_town_categories.csv\n",
    "\n",
    "## Questions\n",
    "\n",
    "1. Trouver le top 3 des communes ayant le salaire moyen le plus élevé.\n",
    "2. Trouver la liste des communes où les femmes gagnent en moyenne plus que les hommes.\n",
    "3. Trouver le top 3 des communes ayant le plus de personnes de 15-30 ans (inclus).\n",
    "4. Trouver le top 3 des communes ayant le plus grand rapport de 15-30 ans / population totale de la commune, pour les communes de plus de 100 000 habitants.\n",
    "5. Trouver le top 3 des communes ayant le salaire moyen le plus élevé, parmi les communes de plus de 100 000 habitants.\n",
    "6. Trouver le top 3 des communes ayant le salaire moyen le plus bas, parmi les communes de plus de 100 000 habitants.\n",
    "7. Trouver le top 3 des regions ayant le plus de communes.\n"
   ]
  },
  {
   "cell_type": "code",
   "execution_count": null,
   "id": "2eadf82d-e173-451f-b124-eeb5f9a3188a",
   "metadata": {
    "tags": []
   },
   "outputs": [],
   "source": [
    "from pyspark.sql import SparkSession\n",
    "import pyspark.sql.functions as sqlf\n",
    "\n",
    "spark = SparkSession.builder.getOrCreate()\n",
    "df_employment = spark.read.csv('../data/employment/net_salary_per_town_categories.csv', header=True, inferSchema=True)"
   ]
  },
  {
   "cell_type": "code",
   "execution_count": 75,
   "id": "275044af-9ade-4b7e-a0ff-e6bd70c2afbb",
   "metadata": {
    "tags": []
   },
   "outputs": [
    {
     "name": "stdout",
     "output_type": "stream",
     "text": [
      "+----------+--------------------+-------------+\n",
      "|cp_commune|         nom_commune|salaire_moyen|\n",
      "+----------+--------------------+-------------+\n",
      "|     78571|Saint-Nom-la-Bret...|         43.3|\n",
      "|     78233|        Feucherolles|         38.7|\n",
      "|     78251|           Fourqueux|         38.6|\n",
      "+----------+--------------------+-------------+\n",
      "\n"
     ]
    }
   ],
   "source": [
    "# 1. Trouver le top 3 des communes ayant le salaire moyen le plus élevé.\n",
    "df_employment.select('CODGEO', 'LIBGEO', 'SNHM14')\\\n",
    "            .withColumnsRenamed({'CODGEO': 'cp_commune',\n",
    "                                 'LIBGEO': 'nom_commune',\n",
    "                                 'SNHM14': 'salaire_moyen'})\\\n",
    "            .orderBy(sqlf.col('salaire_moyen').desc())\\\n",
    "            .limit(3)\\\n",
    "            .show()"
   ]
  },
  {
   "cell_type": "code",
   "execution_count": 15,
   "id": "3fb39bca-2b59-4c08-a592-53fa61421716",
   "metadata": {
    "tags": []
   },
   "outputs": [
    {
     "name": "stdout",
     "output_type": "stream",
     "text": [
      "+----------+--------------------+\n",
      "|cp_commune|         nom_commune|\n",
      "+----------+--------------------+\n",
      "|     97109|           Gourbeyre|\n",
      "|     97313|Montsinéry-Tonneg...|\n",
      "+----------+--------------------+\n",
      "\n"
     ]
    }
   ],
   "source": [
    "# 2. Trouver la liste des communes où les femmes gagnent en moyenne plus que les hommes.\n",
    "df_employment.filter(sqlf.col('SNHMF14') > sqlf.col('SNHMH14'))\\\n",
    "            .select('CODGEO', 'LIBGEO')\\\n",
    "            .withColumnsRenamed({'CODGEO': 'cp_commune',\n",
    "                                 'LIBGEO': 'nom_commune'})\\\n",
    "            .show()"
   ]
  },
  {
   "cell_type": "code",
   "execution_count": null,
   "id": "fd2f4236-194c-4bda-8c5b-086369884822",
   "metadata": {
    "tags": []
   },
   "outputs": [],
   "source": [
    "df_population = spark.read.csv('../data/employment/population.csv', header=True, inferSchema=True)"
   ]
  },
  {
   "cell_type": "code",
   "execution_count": 55,
   "id": "01943d12-38b7-4972-95ae-d0f1dd91c642",
   "metadata": {
    "tags": []
   },
   "outputs": [
    {
     "name": "stdout",
     "output_type": "stream",
     "text": [
      "+------+---------+----------------------+\n",
      "|CODGEO|   LIBGEO|nb_personnes_15_29_ans|\n",
      "+------+---------+----------------------+\n",
      "| 75056|    Paris|                500790|\n",
      "| 13055|Marseille|                159319|\n",
      "| 31555| Toulouse|                143981|\n",
      "+------+---------+----------------------+\n",
      "\n",
      "+------+---------+----------------------+\n",
      "|CODGEO|   LIBGEO|nb_personnes_15_34_ans|\n",
      "+------+---------+----------------------+\n",
      "| 75056|    Paris|                685809|\n",
      "| 13055|Marseille|                214987|\n",
      "| 31555| Toulouse|                184883|\n",
      "+------+---------+----------------------+\n",
      "\n"
     ]
    }
   ],
   "source": [
    "# 3. Trouver le top 3 des communes ayant le plus de personnes de 15-30 ans (inclus).\n",
    "df_population.filter(sqlf.col('AGEQ80_17').isin(list(range(15, 30))))\\\n",
    "            .groupby('CODGEO', 'LIBGEO')\\\n",
    "            .agg(sqlf.sum('NB').alias('nb_personnes_15_29_ans'))\\\n",
    "            .orderBy(sqlf.col('nb_personnes_15_29_ans').desc())\\\n",
    "            .limit(3)\\\n",
    "            .show()\n",
    "\n",
    "df_population.filter(sqlf.col('AGEQ80_17').isin(list(range(15, 34))))\\\n",
    "            .groupby('CODGEO', 'LIBGEO')\\\n",
    "            .agg(sqlf.sum('NB').alias('nb_personnes_15_34_ans'))\\\n",
    "            .orderBy(sqlf.col('nb_personnes_15_34_ans').desc())\\\n",
    "            .limit(3)\\\n",
    "            .show()"
   ]
  },
  {
   "cell_type": "code",
   "execution_count": 72,
   "id": "0bf2730a-ffed-40f6-9b6e-43f9a0df492b",
   "metadata": {
    "tags": []
   },
   "outputs": [
    {
     "name": "stdout",
     "output_type": "stream",
     "text": [
      "+------+--------+-----------------+----------------------+----------------------------+\n",
      "|CODGEO|  LIBGEO|population_totale|nb_personnes_15_34_ans|ratio_15_34_sur_popul_totale|\n",
      "+------+--------+-----------------+----------------------+----------------------------+\n",
      "| 59350|   Lille|           225680|                100536|                      0.4455|\n",
      "| 31555|Toulouse|           455548|                184883|                      0.4058|\n",
      "| 35238|  Rennes|           202962|                 81445|                      0.4013|\n",
      "+------+--------+-----------------+----------------------+----------------------------+\n",
      "\n"
     ]
    }
   ],
   "source": [
    "# 4. Trouver le top 3 des communes ayant le plus grand rapport de 15-30 ans / population totale de la commune, pour les communes de plus de 100 000 habitants.\n",
    "df_population.groupby('CODGEO', 'LIBGEO')\\\n",
    "            .agg(sqlf.sum('NB').alias('population_totale'))\\\n",
    "            .filter(sqlf.col('population_totale') > 100000)\\\n",
    "            .join(df_population.filter(sqlf.col('AGEQ80_17').isin(list(range(15, 34))))\\\n",
    "                                .groupby('CODGEO', 'LIBGEO')\\\n",
    "                                .agg(sqlf.sum('NB').alias('nb_personnes_15_34_ans')),\n",
    "                  on=['CODGEO', 'LIBGEO'])\\\n",
    "            .withColumn('ratio_15_34_sur_popul_totale',\n",
    "                        sqlf.round(sqlf.col('nb_personnes_15_34_ans') / sqlf.col('population_totale'), 4))\\\n",
    "            .orderBy(sqlf.col('ratio_15_34_sur_popul_totale').desc())\\\n",
    "            .limit(3)\\\n",
    "            .show()"
   ]
  },
  {
   "cell_type": "code",
   "execution_count": 76,
   "id": "9f40e6a3-7021-40d2-abc1-8113abddbb5d",
   "metadata": {
    "tags": []
   },
   "outputs": [
    {
     "name": "stdout",
     "output_type": "stream",
     "text": [
      "+------+--------------------+-----------------+-------------+\n",
      "|CODGEO|              LIBGEO|population_totale|salaire_moyen|\n",
      "+------+--------------------+-----------------+-------------+\n",
      "| 92012|Boulogne-Billancourt|           114959|         24.4|\n",
      "| 75056|               Paris|          2173279|         22.2|\n",
      "| 13001|     Aix-en-Provence|           134257|         16.1|\n",
      "+------+--------------------+-----------------+-------------+\n",
      "\n"
     ]
    }
   ],
   "source": [
    "# 5. Trouver le top 3 des communes ayant le salaire moyen le plus élevé, parmi les communes de plus de 100 000 habitants.\n",
    "df_population.groupby('CODGEO', 'LIBGEO')\\\n",
    "            .agg(sqlf.sum('NB').alias('population_totale'))\\\n",
    "            .filter(sqlf.col('population_totale') > 100000)\\\n",
    "            .join(df_employment.select('CODGEO', 'LIBGEO', 'SNHM14')\\\n",
    "                                .withColumnsRenamed({'SNHM14': 'salaire_moyen'}),\n",
    "                 on=['CODGEO', 'LIBGEO'])\\\n",
    "            .orderBy(sqlf.col('salaire_moyen').desc())\\\n",
    "            .limit(3)\\\n",
    "            .show()"
   ]
  },
  {
   "cell_type": "code",
   "execution_count": 77,
   "id": "8aca59a6-452c-4ef5-a362-17d6fae22e30",
   "metadata": {
    "tags": []
   },
   "outputs": [
    {
     "name": "stdout",
     "output_type": "stream",
     "text": [
      "+------+---------+-----------------+-------------+\n",
      "|CODGEO|   LIBGEO|population_totale|salaire_moyen|\n",
      "+------+---------+-----------------+-------------+\n",
      "| 66136|Perpignan|           117199|         11.8|\n",
      "| 68224| Mulhouse|           107352|         12.1|\n",
      "| 29019|    Brest|           134216|         12.5|\n",
      "+------+---------+-----------------+-------------+\n",
      "\n"
     ]
    }
   ],
   "source": [
    "# 6. Trouver le top 3 des communes ayant le salaire moyen le plus bas, parmi les communes de plus de 100 000 habitants.\n",
    "df_population.groupby('CODGEO', 'LIBGEO')\\\n",
    "            .agg(sqlf.sum('NB').alias('population_totale'))\\\n",
    "            .filter(sqlf.col('population_totale') > 100000)\\\n",
    "            .join(df_employment.select('CODGEO', 'LIBGEO', 'SNHM14')\\\n",
    "                                .withColumnsRenamed({'SNHM14': 'salaire_moyen'}),\n",
    "                 on=['CODGEO', 'LIBGEO'])\\\n",
    "            .orderBy(sqlf.col('salaire_moyen'))\\\n",
    "            .limit(3)\\\n",
    "            .show()"
   ]
  },
  {
   "cell_type": "code",
   "execution_count": 81,
   "id": "11535968-c176-4687-9a9c-7406b4321f99",
   "metadata": {
    "tags": []
   },
   "outputs": [
    {
     "name": "stdout",
     "output_type": "stream",
     "text": [
      "+-----------+--------------------+--------------+\n",
      "|code_région|          nom_région|nb_de_communes|\n",
      "+-----------+--------------------+--------------+\n",
      "|         73|       Midi-Pyrénées|          3028|\n",
      "|         82|         Rhône-Alpes|          2890|\n",
      "|         41|            Lorraine|          2336|\n",
      "|         72|           Aquitaine|          2300|\n",
      "|         22|            Picardie|          2295|\n",
      "|         26|           Bourgogne|          2050|\n",
      "|         21|   Champagne-Ardenne|          1954|\n",
      "|         24|              Centre|          1849|\n",
      "|         25|     Basse-Normandie|          1815|\n",
      "|         43|       Franche-Comté|          1787|\n",
      "|         31|  Nord-Pas-de-Calais|          1558|\n",
      "|         91|Languedoc-Roussillon|          1552|\n",
      "|         52|    Pays de la Loire|          1515|\n",
      "|         54|    Poitou-Charentes|          1465|\n",
      "|         23|     Haute-Normandie|          1423|\n",
      "|         11|       Île-de-France|          1314|\n",
      "|         83|            Auvergne|          1313|\n",
      "|         53|            Bretagne|          1273|\n",
      "|         93|Provence-Alpes-Cô...|           975|\n",
      "|         42|              Alsace|           907|\n",
      "+-----------+--------------------+--------------+\n",
      "only showing top 20 rows\n",
      "\n"
     ]
    }
   ],
   "source": [
    "# 7. Trouver le top 3 des regions ayant le plus de communes.\n",
    "spark = SparkSession.builder.getOrCreate()\n",
    "df_geo = spark.read.csv('../data/employment/name_geographic_information.csv', header=True, inferSchema=True)\n",
    "df_geo.groupby('code_région', 'nom_région')\\\n",
    "        .agg(sqlf.count('*').alias('nb_de_communes'))\\\n",
    "        .orderBy(sqlf.col('nb_de_communes').desc())\\\n",
    "        .show()"
   ]
  }
 ],
 "metadata": {
  "kernelspec": {
   "display_name": "Python 3 (ipykernel)",
   "language": "python",
   "name": "python3"
  },
  "language_info": {
   "codemirror_mode": {
    "name": "ipython",
    "version": 3
   },
   "file_extension": ".py",
   "mimetype": "text/x-python",
   "name": "python",
   "nbconvert_exporter": "python",
   "pygments_lexer": "ipython3",
   "version": "3.10.11"
  }
 },
 "nbformat": 4,
 "nbformat_minor": 5
}
