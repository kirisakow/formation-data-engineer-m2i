{
 "cells": [
  {
   "attachments": {},
   "cell_type": "markdown",
   "metadata": {},
   "source": [
    "# Exercice 03 \n",
    "\n",
    "but analyse données du COVID19 - Allemagne\n",
    "\n",
    "## Présentation des données\n",
    "\n",
    "Le jeu de données pour cet exercice est composé de deux fichiers :\n",
    "\n",
    "- covid_de.csv :\n",
    "  - state : nom de l'état.\n",
    "  - county : arrondissement.\n",
    "  - age_group : tranche d'âge (00-04, 05-14, 15-34, 35-59, 60-79, 80-99).\n",
    "  - gender : sexe (M -> homme, F -> femme).\n",
    "  - date : date de relevé.\n",
    "  - cases : nombre de cas.\n",
    "  - deaths : nombre de morts.\n",
    "  - recovered : nombre de guérisons.\n",
    "  \n",
    "- demographics_de.csv :\n",
    "  - state : nom de l'état.\n",
    "  - gender : sexe (male -> homme, femelle -> femme).\n",
    "  - age_group : tranche d'âge (00-04, 05-14, 15-34, 35-59, 60-79, 80-99).\n",
    "  - population : total du nombre de personnes du groupe.\n",
    "\n",
    "Les données sont disponibles sur le site [kaggle.com](https://www.kaggle.com/headsortails/covid19-tracking-germany/).\n",
    "\n",
    "## Exercices : partie 1\n",
    "\n",
    "1. Récupérer le nombre d'entrées dans le fichier covid19_de.csv.\n",
    "2. Récupérer le nomdre d'arrondissements (county).\n",
    "3. Récupérer le nombre d'états (state).\n",
    "4. Collecter le nombre d'arrondissements par état.\n",
    "Afficher pour chaque état son nombre d'arrondissements.\n",
    "5. Récupérer le nombre de cas positifs par état\n",
    "6. Récupérer le nombre de morts par état.\n",
    "7. Récupérer le nombre de cas positifs par état au 1er avril (inclus).\n",
    "8. Récupérer le nombre de morts par tranche d'âge.\n",
    "9. Calculer le rapport du nombre de morts par tranche d'age / nombre de morts total.\n",
    "10. Récupérer le nombre de morts par sexe.\n",
    "11. Calculer le rapport du nombre de morts par sexe / nombre de morts total.\n",
    "12. Calculer le rapport du nombre de morts / population pour chaque région.\n",
    "BONUS pour les questions 9, 11 et 12:\n",
    "  afficher le résultat dans la table sous forme de fraction et de pourcentage   \n"
   ]
  },
  {
   "cell_type": "code",
   "execution_count": null,
   "metadata": {},
   "outputs": [],
   "source": [
    "# 1. Récupérer le nombre d'entrées dans le fichier covid19_de.csv.\n",
    "\n",
    "# 2. Récupérer le nomdre d'arrondissements (county).\n",
    "\n",
    "# 3. Récupérer le nombre d'états (state).\n",
    "\n",
    "# 4. Collecter le nombre d'arrondissements par état.\n",
    "# Afficher pour chaque état son nombre d'arrondissements.\n",
    "\n",
    "# 5. Récupérer le nombre de cas positifs par état\n",
    "\n",
    "# 6. Récupérer le nombre de morts par état.\n",
    "\n",
    "# 7. Récupérer le nombre de cas positifs par état au 1er avril (inclus).\n",
    "\n",
    "# 8. Récupérer le nombre de morts par tranche d'âge.\n",
    "\n",
    "# 9. Calculer le rapport du nombre de morts par tranche d'age / nombre de morts total.\n",
    "# BONUS : afficher le résultat sous forme de fraction et de pourcentage\n",
    "\n",
    "# 9.1. Calculer le nombre de morts total\n",
    "\n",
    "# 9.2. Calculer le nombre de morts par tranche d'age\n",
    "\n",
    "# 10. Récupérer le nombre de morts par sexe.\n",
    "\n",
    "# 11. Calculer le rapport du nombre de morts par sexe / nombre de morts total.\n",
    "\n",
    "# 12. Calculer le rapport du nombre de morts / population pour chaque région.\n",
    "\n",
    "  \n"
   ]
  }
 ],
 "metadata": {
  "kernelspec": {
   "display_name": "Python 3",
   "language": "python",
   "name": "python3"
  },
  "language_info": {
   "name": "python",
   "version": "3.10.10"
  },
  "orig_nbformat": 4,
  "vscode": {
   "interpreter": {
    "hash": "bd6f263fc755eebb9705a1037789dd7cb01391d5841f7a8e7a78f9bd6260bb09"
   }
  }
 },
 "nbformat": 4,
 "nbformat_minor": 2
}
