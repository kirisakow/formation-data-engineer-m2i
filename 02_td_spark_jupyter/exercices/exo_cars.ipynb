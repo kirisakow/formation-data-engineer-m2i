{
 "cells": [
  {
   "cell_type": "markdown",
   "id": "6313d457-a0be-4c70-8c9d-b265424aa441",
   "metadata": {},
   "source": [
    "### Exercice 1: Calculer la moyenne de la puissance administrative (puiss_admin_98) pour chaque marque de voiture (lib_mrq).\n",
    "\n"
   ]
  },
  {
   "cell_type": "code",
   "execution_count": 62,
   "id": "0c3f8157-739e-4ecd-a643-533b99391e6d",
   "metadata": {
    "tags": []
   },
   "outputs": [],
   "source": [
    "from pyspark.sql import SparkSession\n",
    "from pyspark.sql.functions import *\n",
    "\n",
    "spark = SparkSession.builder.getOrCreate()\n",
    "df = spark.read.csv('../data/car.csv', header=True, inferSchema=True, sep=';')"
   ]
  },
  {
   "cell_type": "code",
   "execution_count": 63,
   "id": "f0a32a1b-5a8d-4792-91c8-ab092c4f4222",
   "metadata": {
    "tags": []
   },
   "outputs": [
    {
     "name": "stdout",
     "output_type": "stream",
     "text": [
      "+-----------+------------------+\n",
      "|    lib_mrq|avg_puiss_admin_98|\n",
      "+-----------+------------------+\n",
      "|   MERCEDES|             10.99|\n",
      "|LAMBORGHINI|             53.39|\n",
      "|    HYUNDAI|              6.94|\n",
      "|      DACIA|              5.14|\n",
      "|       FIAT|               6.3|\n",
      "|    CITROEN|              6.47|\n",
      "|    BENTLEY|             48.15|\n",
      "|       LADA|               6.0|\n",
      "|   INFINITI|             17.69|\n",
      "|       AUDI|             12.92|\n",
      "|       FORD|              7.41|\n",
      "|    FERRARI|             52.44|\n",
      "|  CHEVROLET|             14.43|\n",
      "|     JAGUAR|             26.67|\n",
      "| ALFA-ROMEO|               7.8|\n",
      "|      LEXUS|             18.83|\n",
      "|       JEEP|             16.43|\n",
      "|      MAZDA|              8.07|\n",
      "|        BMW|             14.36|\n",
      "|   MASERATI|             29.08|\n",
      "+-----------+------------------+\n",
      "only showing top 20 rows\n",
      "\n"
     ]
    }
   ],
   "source": [
    "df.groupby(df.lib_mrq)\\\n",
    "  .agg(\n",
    "    round(avg(df.puiss_admin_98), 2).alias('avg_puiss_admin_98')\n",
    "  )\\\n",
    "  .show()"
   ]
  },
  {
   "cell_type": "markdown",
   "id": "e869a729-043d-4ca6-811f-6f043187f544",
   "metadata": {},
   "source": [
    "### Exercice 2: Trouver la voiture ayant la consommation mixte (conso_mixte) la plus basse.\n",
    "\n"
   ]
  },
  {
   "cell_type": "code",
   "execution_count": 64,
   "id": "04065b2e-074f-45ea-9eaf-d0afe578ac74",
   "metadata": {
    "tags": []
   },
   "outputs": [
    {
     "data": {
      "text/plain": [
       "{'lib_mrq': 'BMW',\n",
       " 'lib_mod_doss': 'SERIE I',\n",
       " 'lib_mod': 'I3',\n",
       " 'dscom': \"i3 avec Prolongateur d'autonomie\",\n",
       " 'cnit': 'M10BM2VP0000008',\n",
       " 'tvv': 'BMWi-11Z416A040000',\n",
       " 'cod_cbr': 'EE',\n",
       " 'hybride': 'oui',\n",
       " 'puiss_admin_98': 3,\n",
       " 'puiss_max': '28',\n",
       " 'typ_boite_nb_rapp': 'V 0',\n",
       " 'conso_urb': None,\n",
       " 'conso_exurb': None,\n",
       " 'conso_mixte': '0,600000024',\n",
       " 'co2': 13,\n",
       " 'co_typ_1': '0,052999999',\n",
       " 'hc': '0,004',\n",
       " 'nox': '0,002',\n",
       " 'hcnox': None,\n",
       " 'ptcl': None,\n",
       " 'masse_ordma_min': 1390,\n",
       " 'masse_ordma_max': 1390,\n",
       " 'champ_v9': '715/2007*195/2013EURO6',\n",
       " 'date_maj': 'mars-14',\n",
       " 'Carrosserie': 'BERLINE',\n",
       " 'gamme': 'INFERIEURE',\n",
       " '_c26': None,\n",
       " '_c27': None,\n",
       " '_c28': None,\n",
       " '_c29': None}"
      ]
     },
     "execution_count": 64,
     "metadata": {},
     "output_type": "execute_result"
    }
   ],
   "source": [
    "min_conso_mixte = df.agg(min(df.conso_mixte)).collect()[0][0]\n",
    "df.filter(df.conso_mixte == min_conso_mixte)\\\n",
    "  .collect()[0].asDict()"
   ]
  },
  {
   "cell_type": "markdown",
   "id": "602847c2-154c-430e-8a6d-dab987bf2ef0",
   "metadata": {},
   "source": [
    "### Exercice 3: Filtrer les voitures dont la puissance maximale (puiss_max) est supérieure à 200 chevaux.\n",
    "\n"
   ]
  },
  {
   "cell_type": "code",
   "execution_count": 65,
   "id": "b6c4f9c9-81db-45cf-9a2b-2c8775731d9b",
   "metadata": {
    "tags": []
   },
   "outputs": [
    {
     "data": {
      "text/plain": [
       "1781"
      ]
     },
     "execution_count": 65,
     "metadata": {},
     "output_type": "execute_result"
    }
   ],
   "source": [
    "df.filter(df.puiss_max > 200)\\\n",
    "  .count()"
   ]
  },
  {
   "cell_type": "markdown",
   "id": "1adb63ad-213f-42d3-bc16-01e06ceb9a32",
   "metadata": {},
   "source": [
    "### Exercice 4: Calculer le nombre de voitures hybrides par carrosserie.\n",
    "\n"
   ]
  },
  {
   "cell_type": "code",
   "execution_count": 66,
   "id": "5359660b-cbd0-4b2a-8abc-433bf941c6f7",
   "metadata": {
    "tags": []
   },
   "outputs": [
    {
     "name": "stdout",
     "output_type": "stream",
     "text": [
      "+-------------------+-------+-----+\n",
      "|        Carrosserie|hybride|count|\n",
      "+-------------------+-------+-----+\n",
      "|          MINISPACE|    oui|    1|\n",
      "|              BREAK|    oui|   11|\n",
      "|TS TERRAINS/CHEMINS|    oui|   47|\n",
      "|              COUPE|    oui|    5|\n",
      "|            BERLINE|    oui|  325|\n",
      "+-------------------+-------+-----+\n",
      "\n"
     ]
    }
   ],
   "source": [
    "df.filter(df.hybride == 'oui')\\\n",
    "  .groupby(df.Carrosserie, df.hybride)\\\n",
    "  .count()\\\n",
    "  .show()"
   ]
  },
  {
   "cell_type": "markdown",
   "id": "c6c3a836-56f9-44c0-b064-22ad65a5bfa4",
   "metadata": {},
   "source": [
    "### Exercice 5: Calculer le pourcentage de voitures émettant moins de 120 g/km de CO<sub>2</sub> (co2) par gamme de voiture.\n",
    "\n"
   ]
  },
  {
   "cell_type": "code",
   "execution_count": 67,
   "id": "578b476b-8158-45f2-bcfd-f5227a0ea4e2",
   "metadata": {
    "tags": []
   },
   "outputs": [
    {
     "name": "stdout",
     "output_type": "stream",
     "text": [
      "+----------+--------+------------------+-------------------+\n",
      "|     gamme|nb_total|nb_cars_co2_lt_120|percentage_of_total|\n",
      "+----------+--------+------------------+-------------------+\n",
      "| MOY-INFER|   33438|               762|               2.28|\n",
      "|SUPERIEURE|    1513|               156|              10.31|\n",
      "|ECONOMIQUE|     269|               171|              63.57|\n",
      "|      LUXE|    3597|               112|               3.11|\n",
      "|INFERIEURE|    1073|               473|              44.08|\n",
      "| MOY-SUPER|   15098|               148|               0.98|\n",
      "+----------+--------+------------------+-------------------+\n",
      "\n"
     ]
    }
   ],
   "source": [
    "df.groupby(df.gamme).count()\\\n",
    "  .withColumnRenamed('count', 'nb_total')\\\n",
    "  .join(\n",
    "    df.filter(df.co2 < 120)\\\n",
    "      .groupby(df.gamme).count()\\\n",
    "      .withColumnRenamed('count', 'nb_cars_co2_lt_120'),\n",
    "    on='gamme'\n",
    "  ).withColumn('percentage_of_total', \n",
    "              round(\n",
    "                  col('nb_cars_co2_lt_120') / col('nb_total') * 100,\n",
    "                  2\n",
    "              ))\\\n",
    "  .show()"
   ]
  },
  {
   "cell_type": "markdown",
   "id": "1d6da144-b754-406f-a15c-a41a71dc4794",
   "metadata": {},
   "source": [
    "### Exercice 6: Trouver la carrosserie la plus courante parmi les voitures de chaque gamme.\n",
    "\n"
   ]
  },
  {
   "cell_type": "code",
   "execution_count": 68,
   "id": "130fdb35-6811-43eb-8295-4d44ed8132fc",
   "metadata": {},
   "outputs": [],
   "source": [
    "df = df.withColumn(\"gamme\", regexp_replace(col(\"gamme\"), 'MOY-INFERIEURE', 'MOY-INFER'))"
   ]
  },
  {
   "cell_type": "code",
   "execution_count": 69,
   "id": "d73bf88c-f14c-4dc5-a593-569b82079cd3",
   "metadata": {
    "tags": []
   },
   "outputs": [
    {
     "name": "stdout",
     "output_type": "stream",
     "text": [
      "+----------+---------------------------+-----+\n",
      "|     gamme|top_carrosserie_de_la_gamme|count|\n",
      "+----------+---------------------------+-----+\n",
      "|ECONOMIQUE|                    BERLINE|  179|\n",
      "|INFERIEURE|                    BERLINE|  542|\n",
      "|      LUXE|                    BERLINE| 1615|\n",
      "| MOY-INFER|                    MINIBUS|31828|\n",
      "| MOY-SUPER|                    MINIBUS|14279|\n",
      "|SUPERIEURE|                    BERLINE|  799|\n",
      "+----------+---------------------------+-----+\n",
      "\n"
     ]
    }
   ],
   "source": [
    "df.groupby('gamme', 'Carrosserie')\\\n",
    "  .agg(count('*').alias('count'))\\\n",
    "  .orderBy('gamme', col('count').desc())\\\n",
    "  .groupby('gamme')\\\n",
    "  .agg(first(\"Carrosserie\").alias('top_carrosserie_de_la_gamme'), first('count').alias('count')) \\\n",
    "  .show()"
   ]
  },
  {
   "cell_type": "markdown",
   "id": "1bb84805-cfbe-4229-80f4-d7efbf371d66",
   "metadata": {},
   "source": [
    "### Exercice 7: Calculer la différence entre la puissance maximale (puiss_max) et la puissance administrative (puiss_admin_98) pour chaque voiture.\n",
    "\n"
   ]
  },
  {
   "cell_type": "code",
   "execution_count": 93,
   "id": "9af5cd51-ff8b-4196-a736-9d57ff073be4",
   "metadata": {},
   "outputs": [
    {
     "name": "stdout",
     "output_type": "stream",
     "text": [
      "+---------+--------------+--------------+\n",
      "|puiss_max|puiss_admin_98|diff_puissance|\n",
      "+---------+--------------+--------------+\n",
      "|      147|            12|           135|\n",
      "|      147|            12|           135|\n",
      "|      100|             7|            93|\n",
      "|      100|             7|            93|\n",
      "|      125|             9|           116|\n",
      "|      125|             9|           116|\n",
      "|      125|             9|           116|\n",
      "|      100|             7|            93|\n",
      "|      100|             7|            93|\n",
      "|      125|             9|           116|\n",
      "|      125|             9|           116|\n",
      "|      125|             9|           116|\n",
      "|      177|            14|           163|\n",
      "|      331|            38|           293|\n",
      "|      331|            38|           293|\n",
      "|      147|            12|           135|\n",
      "|      147|            12|           135|\n",
      "|      125|             9|           116|\n",
      "|      125|             9|           116|\n",
      "|      120|             9|           111|\n",
      "+---------+--------------+--------------+\n",
      "only showing top 20 rows\n",
      "\n"
     ]
    }
   ],
   "source": [
    "df.withColumn('diff_puissance', col('puiss_max').astype('int') - col('puiss_admin_98'))\\\n",
    "  .select('puiss_max', 'puiss_admin_98', 'diff_puissance')\\\n",
    "  .show()"
   ]
  },
  {
   "cell_type": "markdown",
   "id": "1d8fa931-2cb8-42bc-975e-2f14ce65b068",
   "metadata": {},
   "source": [
    "### Exercice 8: Trouver les marques de voiture (lib_mrq) dont la consommation urbaine (conso_urb) est inférieure à la consommation mixte (conso_mixte)."
   ]
  },
  {
   "cell_type": "code",
   "execution_count": 94,
   "id": "f1829687-6407-43f8-adaf-28e4fe29663c",
   "metadata": {},
   "outputs": [
    {
     "name": "stdout",
     "output_type": "stream",
     "text": [
      "+-------+---------+-----------+\n",
      "|lib_mrq|conso_urb|conso_mixte|\n",
      "+-------+---------+-----------+\n",
      "+-------+---------+-----------+\n",
      "\n"
     ]
    }
   ],
   "source": [
    "df.filter(col('conso_urb').cast('float') < col('conso_mixte').cast('float'))\\\n",
    "  .select('lib_mrq', 'conso_urb', 'conso_mixte')\\\n",
    "  .show()"
   ]
  },
  {
   "cell_type": "markdown",
   "id": "c6544838-cf72-47c0-b53c-c8c64e03a1dc",
   "metadata": {},
   "source": [
    "### Exercice 9: Calculer la moyenne des émissions de CO<sub>2</sub> (co2) par année de mise à jour (annee_maj).\n",
    "\n"
   ]
  },
  {
   "cell_type": "code",
   "execution_count": 98,
   "id": "e620f887-01f6-4802-b236-dbb6c86447e4",
   "metadata": {
    "editable": true,
    "slideshow": {
     "slide_type": ""
    },
    "tags": []
   },
   "outputs": [
    {
     "name": "stdout",
     "output_type": "stream",
     "text": [
      "+---------+-------+\n",
      "|annee_maj|avg_co2|\n",
      "+---------+-------+\n",
      "|     2013|  189.3|\n",
      "|     null| 203.78|\n",
      "|     2014| 165.15|\n",
      "+---------+-------+\n",
      "\n"
     ]
    }
   ],
   "source": [
    "df.withColumn('annee_maj', 2000 + col('date_maj').substr(-2, 2).astype('int'))\\\n",
    "  .select('annee_maj', 'co2')\\\n",
    "  .groupby('annee_maj')\\\n",
    "  .agg(round(avg('co2'), 2).alias('avg_co2'))\\\n",
    "  .show()"
   ]
  },
  {
   "cell_type": "markdown",
   "id": "a88baecb-fa37-4695-843d-d9ecb5916276",
   "metadata": {},
   "source": [
    "### Exercice 10: Trouver les voitures dont la masse_ordma_max est supérieure à la moyenne de la masse_ordma_max de toutes les voitures."
   ]
  },
  {
   "cell_type": "code",
   "execution_count": 112,
   "id": "0f6974c1-01e2-47b5-ba83-7cec81653797",
   "metadata": {},
   "outputs": [
    {
     "data": {
      "text/plain": [
       "29413"
      ]
     },
     "execution_count": 112,
     "metadata": {},
     "output_type": "execute_result"
    }
   ],
   "source": [
    "avg_masse_ordma_max = df.agg(avg('masse_ordma_max')).collect()[0][0]\n",
    "df.filter(col('masse_ordma_max') > avg_masse_ordma_max)\\\n",
    "  .count()"
   ]
  }
 ],
 "metadata": {
  "kernelspec": {
   "display_name": "Python 3 (ipykernel)",
   "language": "python",
   "name": "python3"
  },
  "language_info": {
   "codemirror_mode": {
    "name": "ipython",
    "version": 3
   },
   "file_extension": ".py",
   "mimetype": "text/x-python",
   "name": "python",
   "nbconvert_exporter": "python",
   "pygments_lexer": "ipython3",
   "version": "3.10.11"
  }
 },
 "nbformat": 4,
 "nbformat_minor": 5
}
