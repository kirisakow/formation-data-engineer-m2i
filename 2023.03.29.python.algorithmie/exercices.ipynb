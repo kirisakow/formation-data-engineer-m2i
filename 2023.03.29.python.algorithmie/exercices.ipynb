{
 "cells": [
  {
   "attachments": {},
   "cell_type": "markdown",
   "metadata": {},
   "source": [
    "### 0.1. Paire ou impaire\n",
    "\n",
    "Créer un script qui demande un nombre. Le script doit afficher si le nombre est pair ou impair\n"
   ]
  },
  {
   "cell_type": "code",
   "execution_count": 3,
   "metadata": {},
   "outputs": [
    {
     "name": "stdout",
     "output_type": "stream",
     "text": [
      "5 est impair.\n"
     ]
    }
   ],
   "source": [
    "# Programme principal\n",
    "i = int(input(\"Entrez un entier strictement positif : \"))\n",
    "while i < 1:\n",
    "    i = int(input(\"Entrez un entier STRICTEMENT POSITIF, s.v.p. :\"))\n",
    "\n",
    "# utilisation du modulo : reste de la division entiere\n",
    "if i%2 == 0:\n",
    "    print(i, \"est pair.\")\n",
    "else :\n",
    "    print(i, \"est impair.\")"
   ]
  },
  {
   "attachments": {},
   "cell_type": "markdown",
   "metadata": {},
   "source": [
    "### 0.2. Puissance 2 \n",
    "\n",
    "Écrire un script qui determine le nombre de fois qu'un nombre est divisible par 2"
   ]
  },
  {
   "cell_type": "code",
   "execution_count": 5,
   "metadata": {},
   "outputs": [
    {
     "name": "stdout",
     "output_type": "stream",
     "text": [
      "12 est 2 fois divisible par 2.\n",
      "il reste :  3  qui n'est pas divisible par 2.\n"
     ]
    }
   ],
   "source": [
    "# Programme principal\n",
    "i = int(input(\"Entrez un entier strictement positif :\"))\n",
    "while i < 1:\n",
    "    i = int(input(\"Entrez un entier STRICTEMENT POSITIF, s.v.p. :\"))\n",
    "save = i\n",
    "\n",
    "cpt = 0\n",
    "while i%2 == 0:\n",
    "    i //= 2\n",
    "    cpt += 1\n",
    "\n",
    "print(save, \"est\", cpt, \"fois divisible par 2.\")\n",
    "# reste un chiffre impaire\n",
    "if i != 1:\n",
    "    print(\"il reste : \",i,\" qui n'est pas divisible par 2.\")\n",
    "# reste 1 donc c'est une puissance de 2\n",
    "else :\n",
    "    print(\"c'est une puissance de 2 : 2^\",cpt)"
   ]
  },
  {
   "attachments": {},
   "cell_type": "markdown",
   "metadata": {},
   "source": [
    "### 0.3. Nombre premier\n",
    "\n",
    "Créer un script qui permet de déterminer\n",
    "si un nombre est premier ou non.\n",
    "\n",
    "S'il ne l'est pas, le script doit donner ses diviseurs.\n",
    "\n",
    "**Rappel :** un nombre premier n'est divisible \n",
    "que par 1 et par lui-même\n"
   ]
  },
  {
   "cell_type": "code",
   "execution_count": 4,
   "metadata": {},
   "outputs": [
    {
     "name": "stdout",
     "output_type": "stream",
     "text": [
      "Diviseurs propres sans répétition de 5  : aucun ! Il est premier.\n"
     ]
    }
   ],
   "source": [
    "# Programme principal\n",
    "i = int(input(\"Entrez un entier strictement positif :\"))\n",
    "while i < 1:\n",
    "    i = int(input(\"Entrez un entier STRICTEMENT POSITIF, s.v.p. :\"))\n",
    "\n",
    "i = 2 # plus petit diviseur possible de n\n",
    "cpt = 0 # initialise le compteur de divisions\n",
    "p = i/2 # calculé une fois dans la boucle\n",
    "\n",
    "print(\"Diviseurs propres sans répétition de\", i, \" :\", end=' ')\n",
    "while i <= p :\n",
    "    # si division complete, reste 0\n",
    "    if i%i == 0:\n",
    "        cpt += 1\n",
    "        print(i, end=' ')\n",
    "    i += 1\n",
    "\n",
    "if not cpt :\n",
    "    print(\"aucun ! Il est premier.\")\n",
    "else :\n",
    "    print(\"(soit\", cpt, \"diviseurs propres)\")"
   ]
  },
  {
   "attachments": {},
   "cell_type": "markdown",
   "metadata": {},
   "source": [
    "### 0.4. Age de l'enfant\n",
    "\n",
    "Écrire un algorithme qui demande d'entrer l'âge d'un enfant et qui vérifie dans quel catégorie il est :\n",
    "* si âge >= 12 -> Cadet\n",
    "* si âge >= 10 -> Minime\n",
    "* si âge >= 8 -> Pupille\n",
    "* sinon -> Poussin\n"
   ]
  },
  {
   "cell_type": "code",
   "execution_count": 6,
   "metadata": {},
   "outputs": [
    {
     "name": "stdout",
     "output_type": "stream",
     "text": [
      "Catégorie Poussin\n"
     ]
    }
   ],
   "source": [
    "# variable qui attend une entrée utilisateur de type int , soit un nombre entier positif\n",
    "age = int(input(\"Entrez l'âge de l'enfant : \"))\n",
    "\n",
    "if age >= 12: # condtion SI SINON SI en 4 étape qui vérifie si l'age est supérieur a 12\n",
    "    print(\"Catégorie Cadet\") # retour si la 1er condition est vrai\n",
    "elif age >= 10:\n",
    "    print(\"Catégorie Minime\") # retour si la 2eme condition est vrai\n",
    "elif age >= 8:\n",
    "    print(\"Catégorie Pupille\") # retour si la 3eme condition est vrai\n",
    "else:\n",
    "    print(\"Catégorie Poussin\") # retour aucune condition n'est vrai"
   ]
  },
  {
   "attachments": {},
   "cell_type": "markdown",
   "metadata": {},
   "source": [
    "### 1.1. Triangle\n",
    "\n",
    "**But de l'exercice :**\n",
    "\n",
    "Votre programme demande un nombre positif à \n",
    "l'utilisateur.\n",
    "\n",
    "Il affiche un triangle d'astérisques qui pointe vers la droite et dont\n",
    "la taille dépend du nombre choisi.\n",
    "\n",
    "Exemple : pour le nombre 5 le programme affiche :\n",
    "```\n",
    "*\n",
    "**\n",
    "***\n",
    "****\n",
    "*****\n",
    "```"
   ]
  },
  {
   "cell_type": "code",
   "execution_count": 18,
   "metadata": {},
   "outputs": [
    {
     "name": "stdout",
     "output_type": "stream",
     "text": [
      "*\n",
      "**\n",
      "***\n",
      "****\n",
      "*****\n"
     ]
    }
   ],
   "source": [
    "max_width = int(input(\"Donnez un nombre entier positif: \"))\n",
    "for width in range(1, max_width + 1):\n",
    "    print('*' * width)"
   ]
  },
  {
   "attachments": {},
   "cell_type": "markdown",
   "metadata": {},
   "source": [
    "### 1.2. Triangle 2\n",
    "\n",
    "**But de l'exercice :**\n",
    "\n",
    "Votre programme demande un nombre positif à \n",
    "l'utilisateur.\n",
    "\n",
    "Il affiche un triangle d'astérisques qui pointe vers la droite et dont\n",
    "la taille dépend du nombre choisi.\n",
    "\n",
    "Exemple : pour le nombre 5 le programme affiche :\n",
    "```\n",
    "*\n",
    "**\n",
    "***\n",
    "****\n",
    "*****\n",
    "****\n",
    "***\n",
    "**\n",
    "*\n",
    "```"
   ]
  },
  {
   "cell_type": "code",
   "execution_count": 19,
   "metadata": {},
   "outputs": [
    {
     "name": "stdout",
     "output_type": "stream",
     "text": [
      "*\n",
      "**\n",
      "***\n",
      "****\n",
      "*****\n",
      "****\n",
      "***\n",
      "**\n",
      "*\n"
     ]
    }
   ],
   "source": [
    "max_width = int(input(\"Donnez un nombre entier positif: \"))\n",
    "for line in range(1, max_width):\n",
    "    print('*' * line)\n",
    "for line in range(max_width, 0, -1):\n",
    "    print('*' * line)\n"
   ]
  },
  {
   "attachments": {},
   "cell_type": "markdown",
   "metadata": {},
   "source": [
    "### 1.3. Pyramide\n",
    "\n",
    "**But de l'exercice :**\n",
    "\n",
    "Reprendre l'exercice `1.1. Triangle`\n",
    "\n",
    "Votre programme demande un nombre positif à l'utilisateur.\n",
    "\n",
    "Il affiche un triangle d'astérisques dont la taille dépend du nombre choisi, mais cette fois présenté sous forme d'un pyramide symétrique.\n",
    "\n",
    "Exemple : pour le nombre 5 le programme affiche :\n",
    "```\n",
    "     *\n",
    "    * *\n",
    "   * * *\n",
    "  * * * *\n",
    " * * * * *\n",
    " ```"
   ]
  },
  {
   "cell_type": "code",
   "execution_count": 20,
   "metadata": {},
   "outputs": [
    {
     "name": "stdout",
     "output_type": "stream",
     "text": [
      "    *\n",
      "   * *\n",
      "  * * *\n",
      " * * * *\n",
      "* * * * *\n"
     ]
    }
   ],
   "source": [
    "max_width = int(input(\"Donnez un nombre entier positif: \"))\n",
    "empty_space = ' '\n",
    "for width in range(1, max_width + 1):\n",
    "    front_indent = max_width - width\n",
    "    print(empty_space * front_indent, end='')\n",
    "    for w in range(width):\n",
    "        print('*', end='')\n",
    "        if w < (width - 1):\n",
    "            print(empty_space, end='')\n",
    "    print('')"
   ]
  },
  {
   "attachments": {},
   "cell_type": "markdown",
   "metadata": {},
   "source": [
    "### 1.4. Calcul d'un prix TTC.\n",
    "\n",
    "Créer un script qui \n",
    "* demande le prix hors taxe d'un article\n",
    "* demande si l'article est un produit alimentaire.\n",
    "\n",
    "Le script doit calculer le prix TTC de l'article selon si\n",
    "celui-ci est alimentaire (TVA 5.5%) ou non (TVA 20.0%)."
   ]
  },
  {
   "cell_type": "code",
   "execution_count": 37,
   "metadata": {},
   "outputs": [
    {
     "name": "stdout",
     "output_type": "stream",
     "text": [
      "Le prix HT de votre article est : 100.00 €\n",
      "L'article n'est pas un produit alimentaire : la TVA sera 20.0%\n",
      "Le prix TTC de votre article est : 120.00 €\n"
     ]
    }
   ],
   "source": [
    "ht_price = float(input(\"Entrez le prix HT de votre article : \"))\n",
    "print(f\"Le prix HT de votre article est : {ht_price:.2f} €\")\n",
    "default_tva = 0.2\n",
    "food_tva = 0.055\n",
    "is_food = input(\"Est-ce un produit alimentaire ? (laisser vide si non)\")\n",
    "is_food = False if is_food == '' else True\n",
    "if is_food:\n",
    "    print(f\"L'article est un produit alimentaire : la TVA sera {food_tva:.1%}\")\n",
    "else:\n",
    "    print(f\"L'article n'est pas un produit alimentaire : la TVA sera {default_tva:.1%}\")\n",
    "tva = food_tva if is_food else default_tva\n",
    "ttc_price = ht_price * (1 + tva)\n",
    "print(f\"Le prix TTC de votre article est : {ttc_price:.2f} €\")"
   ]
  },
  {
   "attachments": {},
   "cell_type": "markdown",
   "metadata": {},
   "source": [
    "### 1.5. Carré\n",
    "\n",
    "Écrire un algo qui demande un nombre entier positif et qui nous retourne le carré de ce nombre.\n",
    "\n",
    "Un carré est le résultat de la multiplication du nombre par lui-même :\n",
    "\n",
    "$carré(n) \\mapsto n \\times n = n^2$\n",
    "\n",
    "On peut pousser un peu et ajouter la vérification de la donnée avec une boucle `while`.\n"
   ]
  },
  {
   "cell_type": "code",
   "execution_count": 26,
   "metadata": {},
   "outputs": [
    {
     "name": "stdout",
     "output_type": "stream",
     "text": [
      "1² = 1\n"
     ]
    }
   ],
   "source": [
    "i = 0\n",
    "while i <= 0:\n",
    "    i = int(input(\"Donnez un nombre entier positif: \"))\n",
    "print(f\"{i}² = {i**2}\")"
   ]
  },
  {
   "attachments": {},
   "cell_type": "markdown",
   "metadata": {},
   "source": [
    "### 1.6. Cinéma\n",
    "\n",
    "Donner un algorithme qui détermine le prix d'entrée dans un cinéma. \n",
    "\n",
    "(Les mineurs payent 5 euros, les autres 10 euros)."
   ]
  },
  {
   "cell_type": "code",
   "execution_count": 28,
   "metadata": {},
   "outputs": [
    {
     "name": "stdout",
     "output_type": "stream",
     "text": [
      "Le prix d'entrée pour une personne de 55 ans est : 10 €\n"
     ]
    }
   ],
   "source": [
    "age = int(input(\"Donnez l'âge de la personne : \"))\n",
    "prix = 5 if age < 18 else 10\n",
    "print(f\"Le prix d'entrée pour une personne de {age} ans est : {prix} €\")"
   ]
  },
  {
   "attachments": {},
   "cell_type": "markdown",
   "metadata": {},
   "source": [
    "### 1.7. Cinéma avec un `dict`\n",
    "\n",
    "Réaliser l'exercice précédent avec un `dict` (dictionnaire de données)"
   ]
  },
  {
   "cell_type": "code",
   "execution_count": 30,
   "metadata": {},
   "outputs": [
    {
     "name": "stdout",
     "output_type": "stream",
     "text": [
      "Le prix d'entrée pour une personne de 5 ans est : 5 €\n"
     ]
    }
   ],
   "source": [
    "ref_ages = {\"âge pivot\": 18}\n",
    "ref_prix = {\"prix mineurs\": 5, \"prix adultes\": 10}\n",
    "age = int(input(\"Donnez l'âge de la personne : \"))\n",
    "prix = ref_prix[\"prix mineurs\"] if age < ref_ages[\"âge pivot\"] else ref_prix[\"prix adultes\"]\n",
    "print(f\"Le prix d'entrée pour une personne de {age} ans est : {prix} €\")"
   ]
  },
  {
   "attachments": {},
   "cell_type": "markdown",
   "metadata": {},
   "source": [
    "### 1.8. Le signe d'un nombre\n",
    "\n",
    "Écrire un algo qui demande un nombre à l'utilisateur et qui va vérifier si ce nombre est positif, négatif ou nul"
   ]
  },
  {
   "cell_type": "code",
   "execution_count": null,
   "metadata": {},
   "outputs": [],
   "source": [
    "i = float(input(\"Donnez un nombre quelconque : \"))\n",
    "if i < 0:\n",
    "    ...\n",
    "elif i == 0:\n",
    "    ...\n",
    "else:\n",
    "    ..."
   ]
  },
  {
   "attachments": {},
   "cell_type": "markdown",
   "metadata": {},
   "source": [
    "### 1.9. Le signe d'un produit de deux nombres\n",
    "\n",
    "Écrire un algo qui demande deux nombres à l'utilisateur et qui va vérifier, sans réaliser le calcul, si le produit des deux nombres est positif, négatif ou nul"
   ]
  },
  {
   "cell_type": "code",
   "execution_count": null,
   "metadata": {},
   "outputs": [],
   "source": [
    "n1 = float(input(\"Donnez un nombre quelconque : \"))\n",
    "n2 = float(input(\"Donnez un autre nombre quelconque : \"))\n",
    "if (n1 > 0 and n2 > 0) or (n1 < 0 and n2 < 0):\n",
    "    ...\n",
    "elif n1 == 0 or n2 == 0:\n",
    "    ...\n",
    "else:\n",
    "    ..."
   ]
  },
  {
   "attachments": {},
   "cell_type": "markdown",
   "metadata": {},
   "source": [
    "### 2.1. Fizz!Buzz!\n",
    "\n",
    "But de l'exercice :\n",
    "\n",
    "Afficher en console les nombres de 1 à 35 (un par ligne) en remplaçant \n",
    "* les multiples de 3 par `Fizz!`\n",
    "* les multiples de 5 par `Buzz!`\n",
    "* les multiples de 3 et 5 par `Fizz!Buzz!`"
   ]
  },
  {
   "cell_type": "code",
   "execution_count": 10,
   "metadata": {},
   "outputs": [
    {
     "name": "stdout",
     "output_type": "stream",
     "text": [
      "1\n",
      "2\n",
      "Fizz!\n",
      "4\n",
      "Buzz!\n",
      "Fizz!\n",
      "7\n",
      "8\n",
      "Fizz!\n",
      "Buzz!\n",
      "11\n",
      "Fizz!\n",
      "13\n",
      "14\n",
      "Fizz!Buzz!\n",
      "16\n",
      "17\n",
      "Fizz!\n",
      "19\n",
      "Buzz!\n",
      "Fizz!\n",
      "22\n",
      "23\n",
      "Fizz!\n",
      "Buzz!\n",
      "26\n",
      "Fizz!\n",
      "28\n",
      "29\n",
      "Fizz!Buzz!\n",
      "31\n",
      "32\n",
      "Fizz!\n",
      "34\n",
      "Buzz!\n"
     ]
    }
   ],
   "source": [
    "for i in range(1, 36):\n",
    "    ret = ''\n",
    "    if i % 3 == 0:\n",
    "        ret += 'Fizz!'\n",
    "    if i % 5 == 0:\n",
    "        ret += 'Buzz!'\n",
    "    if ret != '':\n",
    "        print(ret)\n",
    "    else:\n",
    "        print(i)"
   ]
  },
  {
   "attachments": {},
   "cell_type": "markdown",
   "metadata": {},
   "source": [
    "### 2.2. Suite100\n",
    "\n",
    "Créer un script qui demande une suite\n",
    "de nombres positifs ou nuls.\n",
    "\n",
    "* Calculez la somme de cette suite\n",
    "à chaque nombre ajouté.\n",
    "* Comptez combien il y avait de données.\n",
    "* Comptez combien en étaient supérieurs à 100.\n",
    "* Affichez le resultat et continer.\n",
    "\n",
    "Entrer un nombre inférieur à 0 indique la fin de la suite."
   ]
  },
  {
   "cell_type": "code",
   "execution_count": 6,
   "metadata": {},
   "outputs": [
    {
     "name": "stdout",
     "output_type": "stream",
     "text": [
      "Somme des nombres : 223.2\n",
      "Nombre des nombres : 3\n",
      "Nombre des nombres > 100 : 3\n"
     ]
    }
   ],
   "source": [
    "import itertools\n",
    "from IPython.display import clear_output\n",
    "\n",
    "nombres = []\n",
    "while True:\n",
    "    i = float(input(\"Donnez un nombre positif quelconque (ou 0 pour terminer) : \"))\n",
    "    if i == 0:\n",
    "        break\n",
    "    if isinstance(i, int) or isinstance(i, float):\n",
    "        if i < 0:\n",
    "            continue\n",
    "        nombres.append(i)\n",
    "        clear_output(wait=True)\n",
    "        print(f\"Somme des nombres : {sum(nombres)}\")\n",
    "        print(f\"Nombre des nombres : {len(nombres)}\")\n",
    "        gt100 = list(itertools.dropwhile(lambda x: x <= 100, nombres))\n",
    "        print(f\"Nombre des nombres > 100 : {len(gt100)}\")"
   ]
  },
  {
   "attachments": {},
   "cell_type": "markdown",
   "metadata": {},
   "source": [
    "### 2.3. Le permis\n",
    "\n",
    "* Un permis de chasse à points possède au départ un capital de 100 points.\n",
    "* Si le chasseur tire sur :\n",
    "    - une poule, il perd 1 point,\n",
    "    - un chien, il perd 3 points,\n",
    "    - une vache, il perd 5 points,\n",
    "    - un autre chasseur, il perd 25.\n",
    "\n",
    "(peu importe si la cible a survécu ou non)\n",
    "\n",
    "- Écrire un script qui permet de calculer le nombre de points perdu.\n",
    "- Sachant qu'un permis coute 200 €, calculer le coût déboursé par ce chasseur en fonction de son tableau de chasse."
   ]
  },
  {
   "cell_type": "code",
   "execution_count": 29,
   "metadata": {},
   "outputs": [
    {
     "name": "stdout",
     "output_type": "stream",
     "text": [
      "          date victime  decote  solde cout_total\n",
      "0   07/04/1993   vache       5     95   200.00 €\n",
      "1   05/05/1994   vache       5     90   200.00 €\n",
      "2   08/06/1994  humain      25     65   200.00 €\n",
      "3   13/06/1994  humain      25     40   200.00 €\n",
      "4   17/03/1996   poule       1     39   200.00 €\n",
      "5   01/12/1998   poule       1     38   200.00 €\n",
      "6   07/12/1999  humain      25     13   200.00 €\n",
      "7   23/01/2000   poule       1     12   200.00 €\n",
      "8   17/12/2000   chien       3      9   200.00 €\n",
      "9   21/11/2001   chien       3      6   200.00 €\n",
      "10  01/04/2003   chien       3      3   200.00 €\n",
      "11  23/05/2006   poule       1      2   200.00 €\n",
      "12  01/09/2008   chien       3    100   400.00 €\n",
      "13  23/11/2010   chien       3     97   400.00 €\n",
      "14  21/09/2013   vache       5     92   400.00 €\n",
      "15  29/06/2014  humain      25     67   400.00 €\n",
      "16  06/11/2015   chien       3     64   400.00 €\n",
      "17  10/02/2016  humain      25     39   400.00 €\n",
      "18  01/08/2016  humain      25     14   400.00 €\n",
      "19  16/06/2017   chien       3     11   400.00 €\n",
      "20  10/03/2020   chien       3      8   400.00 €\n",
      "21  26/03/2021  humain      25    100   600.00 €\n",
      "22  05/10/2021  humain      25     75   600.00 €\n"
     ]
    }
   ],
   "source": [
    "import pandas as pd\n",
    "import random\n",
    "from datetime import datetime\n",
    "from faker import Faker\n",
    "\n",
    "class PermisDeChasse:\n",
    "    \n",
    "    permis_complet = 100\n",
    "    prix_nouveau_permis = 200.0\n",
    "    ref_sanctions = {\n",
    "        'poule': 1,\n",
    "        'chien': 3,\n",
    "        'vache': 5,\n",
    "        'humain': 25,\n",
    "    }\n",
    "    format_date = '%d/%m/%Y'\n",
    "        \n",
    "    def acheter_permis(self):\n",
    "        self.points = PermisDeChasse.permis_complet\n",
    "        self.cout_total += PermisDeChasse.prix_nouveau_permis\n",
    "        \n",
    "    def __init__(self) -> None:\n",
    "        self.cout_total = 0.0\n",
    "        self.acheter_permis()\n",
    "        self.carnet = None\n",
    "    \n",
    "    def _decote_points(self, victime):\n",
    "        self.points -= PermisDeChasse.ref_sanctions[victime]\n",
    "        if self.points <= 0:\n",
    "            self.acheter_permis()\n",
    "    \n",
    "    def _ajouter_infos_au_carnet(self, victime, datte) -> None:\n",
    "        decote_points = PermisDeChasse.ref_sanctions[victime]\n",
    "        if isinstance(datte, str):\n",
    "            datte = datetime.strptime(datte, PermisDeChasse.format_date)\n",
    "        entree_au_carnet = pd.DataFrame([{\n",
    "            'date': datte, 'victime': victime, 'decote': decote_points, 'solde': self.points,\n",
    "            'cout_total': f'{self.cout_total:.2f} €'\n",
    "        }])\n",
    "        if self.carnet is None:\n",
    "            self.carnet = entree_au_carnet\n",
    "        else:\n",
    "            self.carnet = pd.concat([self.carnet, entree_au_carnet]).reset_index(drop=True)\n",
    "\n",
    "    def enregistrer_accident(self, *, victime: str, datte: str) -> None:\n",
    "        self._decote_points(victime)\n",
    "        self._ajouter_infos_au_carnet(victime, datte)\n",
    "    \n",
    "    def recharger_permis(self):\n",
    "        self.points += 100\n",
    "        \n",
    "    def __repr__(self):\n",
    "        return repr(self.carnet)\n",
    "            \n",
    "# Test\n",
    "def test_simulation_permis_chasse(combien_de_cycles):\n",
    "    bon_chasseur = PermisDeChasse()\n",
    "    fake = Faker()\n",
    "    dates_aléatoires = []\n",
    "    for _ in range(combien_de_cycles):\n",
    "        dates_aléatoires.append(\n",
    "            fake.date_time_between(start_date='-30y', end_date='now')\n",
    "        )\n",
    "    dates_aléatoires_triées = sorted(dates_aléatoires)\n",
    "    for date_accident in dates_aléatoires_triées:\n",
    "        victime_aléatoire = random.choice(list(PermisDeChasse.ref_sanctions.keys()))\n",
    "        bon_chasseur.enregistrer_accident(victime=victime_aléatoire, datte=date_accident)\n",
    "    bon_chasseur.carnet.date = bon_chasseur.carnet.date.dt.strftime(PermisDeChasse.format_date)\n",
    "    print(bon_chasseur)\n",
    "\n",
    "test_simulation_permis_chasse(23)"
   ]
  },
  {
   "attachments": {},
   "cell_type": "markdown",
   "metadata": {},
   "source": [
    "### 2.4. Trois noms\n",
    "\n",
    "Écrire un algo qui demande 3 variables de type `str` qui sont des noms et qui vérifie si elles sont entrées dans l'ordre alphabétique.\n",
    "\n",
    "On pourrait pousser l'exercice plus loin en triant les noms s'ils ne le sont pas."
   ]
  },
  {
   "cell_type": "code",
   "execution_count": 35,
   "metadata": {},
   "outputs": [
    {
     "name": "stdout",
     "output_type": "stream",
     "text": [
      "Les noms (Pierrot, Paolo, Jacquot) ne sont pas dans l'ordre.\n",
      "Le bon ordre doit être : Jacquot, Paolo, Pierrot\n"
     ]
    }
   ],
   "source": [
    "def is_dans_lordre(elem1, elem2):\n",
    "    return elem1 < elem2\n",
    "\n",
    "noms = []\n",
    "counter = 1\n",
    "noms_dans_lordre = True\n",
    "for nieme in ['premier', 'deuxième', 'troisième']:\n",
    "    nom = input(f\"Donnez le {nieme} nom : \")\n",
    "    noms.append(nom)\n",
    "for i, nom in enumerate(noms):\n",
    "    if (i > 0 and not is_dans_lordre(noms[i - 1], nom)) \\\n",
    "    or (i < len(noms) - 1 and not is_dans_lordre(nom, noms[i + 1])):\n",
    "        noms_dans_lordre = False\n",
    "if not noms_dans_lordre:\n",
    "    print(f\"Les noms ({', '.join(noms)}) ne sont pas dans l'ordre.\")\n",
    "    print(f\"Le bon ordre doit être : {', '.join(sorted(noms))}\")\n",
    "else:\n",
    "    print(f\"Les noms ({', '.join(noms)}) sont bien dans l'ordre.\")"
   ]
  },
  {
   "attachments": {},
   "cell_type": "markdown",
   "metadata": {},
   "source": [
    "### 3.1. Conjecture de Syracuse\n",
    "\n",
    "**Introduction :** On appelle suite de Syracuse une suite d'entiers naturels définie de la\n",
    "manière suivante :\n",
    "- $n_0 \\in \\mathbb{Z} \\And n > 0$ (On part d'un nombre entier plus grand que zéro)\n",
    "- $n_i \\mod 2 = 0 \\iff f(n) \\mapsto \\frac{n}{2} $ (s’il est pair, on le divise par 2)\n",
    "- $n_i \\mod 2 \\not = 0 \\iff f(n) \\mapsto 3n + 1$ (s’il est impair, on le multiplie par 3 et on ajoute 1).\n",
    "\n",
    "La conjecture de Syracuse est l'hypothèse\n",
    "mathématique selon laquelle\n",
    "la suite de Syracuse de n'importe quel\n",
    "entier strictement positif atteint 1.\n",
    "\n",
    "**But de l'exercice :** Le but de l'exercice est d'implémenter un programme qui part d'un nombre\n",
    "donné par l'utilisateur et qui renvoie le nombre d'étapes pour atteindre 1\n",
    "en utilisant la suite de Syracuse."
   ]
  },
  {
   "cell_type": "code",
   "execution_count": 36,
   "metadata": {},
   "outputs": [
    {
     "name": "stdout",
     "output_type": "stream",
     "text": [
      "200 a convergé vers 1 après 27 iterations\n"
     ]
    }
   ],
   "source": [
    "f = lambda n: 0.5 * n if n % 2 == 0 else 3 * n + 1\n",
    "n0 = int(input(\"Donnez un nombre entier positif : \"))\n",
    "i = n0\n",
    "counter = 1\n",
    "while i > 1:\n",
    "    i = f(i)\n",
    "    counter += 1\n",
    "print(f\"{n0} a convergé vers {int(i)} après {counter} iterations\")"
   ]
  },
  {
   "attachments": {},
   "cell_type": "markdown",
   "metadata": {},
   "source": [
    "### 4.0. Le Juste Prix\n",
    "\n",
    "**But de l'exercice :**\n",
    "\n",
    "1. Votre programme génère un nombre aléatoire\n",
    "entre 1 et 1000.\n",
    "\n",
    "2. Il demande ensuite à l'utilisateur de proposer\n",
    "un nombre.\n",
    "\n",
    "L'utilisateur entre un nombre dans la console :\n",
    "- Si celui-ci est plus petit que le nombre généré, le programme affiche :\n",
    "`\"C'est PLUS !\"` et demande un nouveau nombre.\n",
    "- Si celui-ci est plus grand que le nombre généré, le programme affiche :\n",
    "`\"C'est MOINS !\"` et demande un nouveau nombre.\n",
    "- Si celui-ci est exactement le nombre généré aléatoirement à l'étape 1, le programme affiche :\n",
    "`\"C'est GAGNÉ !\"` et s'arrête.\n",
    "\n",
    "Le nombre d'essais de l'utilisateur est limité à 10 :\n",
    "- Chaque tour, le programme affiche le nombre de tours restants à\n",
    "l'utilisateur\n",
    "- Si au bout de 10 essais l'utilisateur n'a pas trouvé le nombre,\n",
    "le programme affiche : `\"C'est PERDU ! Le nombre était : nombreAleatoire\"` et s'arrête.\n",
    "\n",
    "Pour le nombre aléatoire, utilisez la fonction\n",
    "```py\n",
    "import random\n",
    "random.randint(1, 1000)\n",
    "```"
   ]
  },
  {
   "cell_type": "code",
   "execution_count": 61,
   "metadata": {},
   "outputs": [
    {
     "name": "stdout",
     "output_type": "stream",
     "text": [
      "essai 1 : C'est MOINS que 500 !\n",
      "essai 2 : C'est PLUS que 250 !\n",
      "essai 3 : C'est PLUS que 375 !\n",
      "essai 4 : C'est MOINS que 425 !\n",
      "essai 5 : C'est MOINS que 400 !\n",
      "essai 6 : C'est PLUS que 390 !\n",
      "essai 7 : C'est PLUS que 395 !\n",
      "essai 8 : C'est GAGNÉ ! Le nombre était 397\n"
     ]
    }
   ],
   "source": [
    "import random\n",
    "\n",
    "class Messages:\n",
    "    valeur_n = \"Le nombre était {0}\"\n",
    "    proposez = \"Proposez un nombre entier positif : \"\n",
    "    plus = \"C'est PLUS que {0} !\"\n",
    "    moins = \"C'est MOINS que {0} !\"\n",
    "    gagné = \"C'est GAGNÉ ! \" + valeur_n\n",
    "    perdu = \"C'est PERDU ! \" + valeur_n\n",
    "\n",
    "i = random.randint(1, 1000)\n",
    "nb_de_tentatives_max = 10\n",
    "nb_de_tentatives_utilisé = 0\n",
    "while nb_de_tentatives_utilisé <= nb_de_tentatives_max:\n",
    "    nb_de_tentatives_utilisé += 1\n",
    "    if nb_de_tentatives_utilisé == nb_de_tentatives_max:\n",
    "        print(f\"essai {nb_de_tentatives_utilisé} :\", Messages.perdu.format(i))\n",
    "        break\n",
    "    test = int(input(Messages.proposez))\n",
    "    if test == i:\n",
    "        print(f\"essai {nb_de_tentatives_utilisé} :\", Messages.gagné.format(test))\n",
    "        break\n",
    "    if test < i:\n",
    "        print(f\"essai {nb_de_tentatives_utilisé} :\", Messages.plus.format(test))\n",
    "        continue\n",
    "    if test > i:\n",
    "        print(f\"essai {nb_de_tentatives_utilisé} :\", Messages.moins.format(test))\n",
    "        continue"
   ]
  },
  {
   "attachments": {},
   "cell_type": "markdown",
   "metadata": {},
   "source": [
    "### 4.1. Gardien de phare\n",
    "\n",
    "Un gardien de phare doit se rendre aux toillettes 5 fois par jour.\n",
    "Malheuresement, elle se trouve au rez-de-chaussée.\n",
    "\n",
    "Créer un script qui permet de calculer pour $x$ marches d'escalier, chacune de $h$ cm\n",
    "de hauteur, la distance parcourue par semaine de ce gardien de phare.\n",
    "\n",
    "**Astuce :** une fois ses besoins faits, il doit remonter.\n",
    "\n",
    "**Bonus :** dessiner en console un phare et son escalier. \n",
    "* Le nombre total de marches d'escalier est $x$.\n",
    "* La largeur de la tour (en nombre de marches) est $h$."
   ]
  },
  {
   "cell_type": "code",
   "execution_count": 6,
   "metadata": {},
   "outputs": [
    {
     "name": "stdout",
     "output_type": "stream",
     "text": [
      "nb_de_marches = 20, hauteur_marche = 6 cm\n",
      "Distance parcourue en un aller-retour pipi : 2.4 m\n",
      "Distance parcourue en une journée (5 aller-retours pipi) : 12.0 m\n",
      "Distance parcourue en une journée (5 aller-retours pipi) : 84.0 m\n",
      "\n",
      "  __________\n",
      " /__________\\\n",
      " | |  |     |\n",
      " | |__|   |¯|\n",
      "_|________|_|_\n",
      "|          _||\n",
      "|        _|  |\n",
      "|      _|    |\n",
      "|    _|      |\n",
      "|  _|        |\n",
      "|_|          |\n",
      "|          _||\n",
      "|        _|  |\n",
      "|      _|    |\n",
      "|    _|      |\n",
      "|  _|        |\n",
      "|_|          |\n",
      "|          _||\n",
      "|        _|  |\n",
      "|      _|    |\n",
      "|    _|      |\n",
      "|  _|        |\n",
      "|_|          |\n",
      "|          _||\n",
      "|        _|  |\n"
     ]
    }
   ],
   "source": [
    "def dessiner_phare(nb_de_marches, largeur_phare):\n",
    "    print(\"\"\"\n",
    "  __________\n",
    " /__________\\\\\n",
    " | |  |     |\n",
    " | |__|   |¯|\n",
    "_|________|_|_\"\"\")\n",
    "    mur = '|'\n",
    "    for i in range(nb_de_marches):\n",
    "        front_indent = '  ' * (largeur_phare - i % largeur_phare - 1)\n",
    "        back_indent = '  ' * (i % largeur_phare)\n",
    "        print(mur + front_indent + '_|' + back_indent + mur)\n",
    "\n",
    "nb_de_marches = 20\n",
    "hauteur_marche = 6\n",
    "print(f\"{nb_de_marches = }, {hauteur_marche = } cm\")\n",
    "dist_aller_retour = nb_de_marches * hauteur_marche * 2 / 100\n",
    "print(f\"Distance parcourue en un aller-retour pipi : {dist_aller_retour} m\")\n",
    "dist_aller_retour_journée = 5 * dist_aller_retour\n",
    "print(f\"Distance parcourue en une journée (5 aller-retours pipi) : {dist_aller_retour_journée} m\")\n",
    "dist_aller_retour_semaine = 7 * dist_aller_retour_journée\n",
    "print(f\"Distance parcourue en une journée (5 aller-retours pipi) : {dist_aller_retour_semaine} m\")\n",
    "dessiner_phare(nb_de_marches, largeur_phare=hauteur_marche)"
   ]
  },
  {
   "attachments": {},
   "cell_type": "markdown",
   "metadata": {},
   "source": [
    "### 4.2. Train Paris — Arras\n",
    "\n",
    "Un train est parti de la gare du Nord à 9 h\n",
    "(il y a 170 km entre la gare du Nord et Arras).\n",
    "\n",
    "Écrire un script qui affiche un tableau me permettant de connaître\n",
    "l'heure à laquelle le train passe à Arras.\n",
    "\n",
    "Le tableau prédira les différentes heures possibles :\n",
    "pour toutes les vitesses de 100 km/h à 300 km/h, par pas de 10 km/h,\n",
    "les résultats étant arrondis à la minute inférieure.\n",
    "\n",
    "Écrire une fonction `tchoutchou(vitesse_du_train)` qui\n",
    "retourne l'heure du passage;\n",
    "\n",
    "Écrire le programme principal qui affiche le tableau demandé."
   ]
  },
  {
   "cell_type": "code",
   "execution_count": 127,
   "metadata": {},
   "outputs": [
    {
     "name": "stdout",
     "output_type": "stream",
     "text": [
      "Différentes possibilités d'heure d'arrivée pour un train parti à 09:00 et roulant à une vitesse constante donnée :\n"
     ]
    },
    {
     "data": {
      "text/html": [
       "<div>\n",
       "<style scoped>\n",
       "    .dataframe tbody tr th:only-of-type {\n",
       "        vertical-align: middle;\n",
       "    }\n",
       "\n",
       "    .dataframe tbody tr th {\n",
       "        vertical-align: top;\n",
       "    }\n",
       "\n",
       "    .dataframe thead th {\n",
       "        text-align: right;\n",
       "    }\n",
       "</style>\n",
       "<table border=\"1\" class=\"dataframe\">\n",
       "  <thead>\n",
       "    <tr style=\"text-align: right;\">\n",
       "      <th></th>\n",
       "      <th>vitesse_kmh</th>\n",
       "      <th>heure_arrivée</th>\n",
       "    </tr>\n",
       "  </thead>\n",
       "  <tbody>\n",
       "    <tr>\n",
       "      <th>1</th>\n",
       "      <td>100</td>\n",
       "      <td>10:42</td>\n",
       "    </tr>\n",
       "    <tr>\n",
       "      <th>2</th>\n",
       "      <td>110</td>\n",
       "      <td>10:32</td>\n",
       "    </tr>\n",
       "    <tr>\n",
       "      <th>3</th>\n",
       "      <td>120</td>\n",
       "      <td>10:25</td>\n",
       "    </tr>\n",
       "    <tr>\n",
       "      <th>4</th>\n",
       "      <td>130</td>\n",
       "      <td>10:18</td>\n",
       "    </tr>\n",
       "    <tr>\n",
       "      <th>5</th>\n",
       "      <td>140</td>\n",
       "      <td>10:12</td>\n",
       "    </tr>\n",
       "    <tr>\n",
       "      <th>6</th>\n",
       "      <td>150</td>\n",
       "      <td>10:08</td>\n",
       "    </tr>\n",
       "    <tr>\n",
       "      <th>7</th>\n",
       "      <td>160</td>\n",
       "      <td>10:03</td>\n",
       "    </tr>\n",
       "    <tr>\n",
       "      <th>8</th>\n",
       "      <td>170</td>\n",
       "      <td>10:00</td>\n",
       "    </tr>\n",
       "    <tr>\n",
       "      <th>9</th>\n",
       "      <td>180</td>\n",
       "      <td>09:56</td>\n",
       "    </tr>\n",
       "    <tr>\n",
       "      <th>10</th>\n",
       "      <td>190</td>\n",
       "      <td>09:53</td>\n",
       "    </tr>\n",
       "    <tr>\n",
       "      <th>11</th>\n",
       "      <td>200</td>\n",
       "      <td>09:51</td>\n",
       "    </tr>\n",
       "    <tr>\n",
       "      <th>12</th>\n",
       "      <td>210</td>\n",
       "      <td>09:48</td>\n",
       "    </tr>\n",
       "    <tr>\n",
       "      <th>13</th>\n",
       "      <td>220</td>\n",
       "      <td>09:46</td>\n",
       "    </tr>\n",
       "    <tr>\n",
       "      <th>14</th>\n",
       "      <td>230</td>\n",
       "      <td>09:44</td>\n",
       "    </tr>\n",
       "    <tr>\n",
       "      <th>15</th>\n",
       "      <td>240</td>\n",
       "      <td>09:42</td>\n",
       "    </tr>\n",
       "    <tr>\n",
       "      <th>16</th>\n",
       "      <td>250</td>\n",
       "      <td>09:40</td>\n",
       "    </tr>\n",
       "    <tr>\n",
       "      <th>17</th>\n",
       "      <td>260</td>\n",
       "      <td>09:39</td>\n",
       "    </tr>\n",
       "    <tr>\n",
       "      <th>18</th>\n",
       "      <td>270</td>\n",
       "      <td>09:37</td>\n",
       "    </tr>\n",
       "    <tr>\n",
       "      <th>19</th>\n",
       "      <td>280</td>\n",
       "      <td>09:36</td>\n",
       "    </tr>\n",
       "    <tr>\n",
       "      <th>20</th>\n",
       "      <td>290</td>\n",
       "      <td>09:35</td>\n",
       "    </tr>\n",
       "    <tr>\n",
       "      <th>21</th>\n",
       "      <td>300</td>\n",
       "      <td>09:34</td>\n",
       "    </tr>\n",
       "  </tbody>\n",
       "</table>\n",
       "</div>"
      ],
      "text/plain": [
       "    vitesse_kmh heure_arrivée\n",
       "1           100         10:42\n",
       "2           110         10:32\n",
       "3           120         10:25\n",
       "4           130         10:18\n",
       "5           140         10:12\n",
       "6           150         10:08\n",
       "7           160         10:03\n",
       "8           170         10:00\n",
       "9           180         09:56\n",
       "10          190         09:53\n",
       "11          200         09:51\n",
       "12          210         09:48\n",
       "13          220         09:46\n",
       "14          230         09:44\n",
       "15          240         09:42\n",
       "16          250         09:40\n",
       "17          260         09:39\n",
       "18          270         09:37\n",
       "19          280         09:36\n",
       "20          290         09:35\n",
       "21          300         09:34"
      ]
     },
     "execution_count": 127,
     "metadata": {},
     "output_type": "execute_result"
    }
   ],
   "source": [
    "import pandas as pd\n",
    "import datetime\n",
    "\n",
    "def tchoutchou(vitesse_kmh: int) -> str:\n",
    "    heure_arrivée = heure_départ + datetime.timedelta(minutes=int(distance_paris_arras / vitesse_kmh * 60))\n",
    "    return heure_arrivée.time().strftime('%H:%M')\n",
    "\n",
    "distance_paris_arras = 170\n",
    "heure_départ = datetime.datetime(100,1,1,9,0,0)\n",
    "df = pd.DataFrame([{'vitesse_kmh': 0, 'heure_arrivée': ''}])\n",
    "print(\"Différentes possibilités d'heure d'arrivée pour un train parti à 09:00 et roulant à une vitesse constante donnée :\")\n",
    "for vitesse_kmh in range(100, 301, 10):\n",
    "    df_tmp = pd.DataFrame([{'vitesse_kmh': vitesse_kmh, 'heure_arrivée': tchoutchou(vitesse_kmh)}])\n",
    "    df = pd.concat([df, df_tmp]).reset_index(drop=True)\n",
    "df.iloc[1:]"
   ]
  },
  {
   "attachments": {},
   "cell_type": "markdown",
   "metadata": {},
   "source": [
    "### 4.3. Chiffres romains\n",
    "\n",
    "Écrire un script qui permet de saisir un entier \n",
    "entre 1 et 3999\n",
    "(pourquoi cette limitation ?).\n",
    "\n",
    "Le script doit permettre de l'afficher en \n",
    "chiffre romain.\n",
    "\n",
    "En bonus : le convertisseur inverse"
   ]
  },
  {
   "cell_type": "code",
   "execution_count": null,
   "metadata": {},
   "outputs": [],
   "source": [
    "roman_nums_to_arab = {'I': 1, 'V': 5, 'X': 10, 'L': 50, 'C': 100, 'D': 500, 'M': 1_000 }\n",
    "roman_nums_to_arab['CM'] = 900\n",
    "roman_nums_to_arab['CD'] = 400\n",
    "roman_nums_to_arab['XC'] = 90\n",
    "roman_nums_to_arab['XL'] = 40\n",
    "roman_nums_to_arab['IX'] = 9\n",
    "roman_nums_to_arab['IV'] = 4"
   ]
  },
  {
   "cell_type": "code",
   "execution_count": 86,
   "metadata": {},
   "outputs": [
    {
     "name": "stdout",
     "output_type": "stream",
     "text": [
      "Test conversion de chiffres arabes en chiffres romains :\n",
      "0 -> \n",
      "0 -> \n",
      "1 -> I\n",
      "1 -> I\n",
      "4 -> IV\n",
      "4 -> IV\n",
      "5 -> V\n",
      "5 -> V\n",
      "9 -> IX\n",
      "9 -> IX\n",
      "10 -> X\n",
      "10 -> X\n",
      "40 -> XL\n",
      "40 -> XL\n",
      "50 -> L\n",
      "50 -> L\n",
      "90 -> XC\n",
      "90 -> XC\n",
      "100 -> C\n",
      "100 -> C\n",
      "400 -> CD\n",
      "400 -> CD\n",
      "500 -> D\n",
      "500 -> D\n",
      "900 -> CM\n",
      "900 -> CM\n",
      "1000 -> M\n",
      "1000 -> M\n",
      "1987 -> MCMLXXXVII\n",
      "1987 -> MCMLXXXVII\n"
     ]
    }
   ],
   "source": [
    "def get_key_by_value(val: int, dictionnaire: dict) -> str | None:\n",
    "    return list(dictionnaire.keys())[list(dictionnaire.values()).index(val)]\n",
    "\n",
    "def convert_arab_num_to_roman(arab_num_to_convert: int) -> str:\n",
    "    \"\"\"façon 1, arithmétique\"\"\"\n",
    "    résultat = ''\n",
    "    if arab_num_to_convert == 0:\n",
    "        return résultat\n",
    "    chiffres_arabes_triés_desc = reversed(sorted(roman_nums_to_arab.values()))\n",
    "    for diviseur in chiffres_arabes_triés_desc:\n",
    "        if arab_num_to_convert == diviseur:\n",
    "            résultat = get_key_by_value(diviseur, roman_nums_to_arab)\n",
    "            break\n",
    "        quotient = arab_num_to_convert // diviseur\n",
    "        résultat += get_key_by_value(diviseur, roman_nums_to_arab) * quotient\n",
    "        arab_num_to_convert -= diviseur * quotient\n",
    "    return résultat\n",
    "\n",
    "def convert_arab_num_to_roman2(arab_num_to_convert: int) -> str:\n",
    "    \"\"\"façon 2, par substitution de plages de charactères IIIIIIIIII...\"\"\"\n",
    "    if arab_num_to_convert == 0:\n",
    "        return ''\n",
    "    résultat = ''\n",
    "    iiis = 'I' * arab_num_to_convert\n",
    "    chiffres_arabes_triés_desc = reversed(sorted(roman_nums_to_arab.values()))\n",
    "    for diviseur in chiffres_arabes_triés_desc:\n",
    "        if len(iiis) < diviseur:\n",
    "            continue\n",
    "        while (plage := 'I' * diviseur) in iiis:\n",
    "            résultat += get_key_by_value(diviseur, roman_nums_to_arab)\n",
    "            iiis = iiis.replace(plage, '', 1)\n",
    "    return résultat\n",
    "    \n",
    "print(\"Test conversion de chiffres arabes en chiffres romains :\")\n",
    "nb_rom_triés_asc = [0, *sorted(roman_nums_to_arab.values()), 1987]\n",
    "for num in nb_rom_triés_asc:\n",
    "    print(num, '->', convert_arab_num_to_roman(num))\n",
    "    print(num, '->', convert_arab_num_to_roman2(num))"
   ]
  },
  {
   "cell_type": "code",
   "execution_count": 90,
   "metadata": {},
   "outputs": [
    {
     "name": "stdout",
     "output_type": "stream",
     "text": [
      "Test conversion de chiffres romains en chiffres arabes :\n",
      "I -> 1\n",
      "IV -> 4\n",
      "V -> 5\n",
      "IX -> 9\n",
      "X -> 10\n",
      "XL -> 40\n",
      "L -> 50\n",
      "XC -> 90\n",
      "C -> 100\n",
      "CD -> 400\n",
      "D -> 500\n",
      "CM -> 900\n",
      "M -> 1000\n",
      "MCMLXXXVII -> 1987\n"
     ]
    }
   ],
   "source": [
    "def convert_roman_num_to_arab(roman_num_to_convert: str) -> int:\n",
    "    # trier les codes romains dans l'ordre descendant \n",
    "    # toutefois, les codes à deux charactères doivent précéder ceux à un — sinon ça marche pas\n",
    "    chiffres_rom_triés_desc = ['CM', 'M', 'CD', 'D', 'XC', 'C', 'XL', 'L', 'IX', 'X', 'IV', 'V', 'I']\n",
    "    résultat = 0\n",
    "    for rom in chiffres_rom_triés_desc:\n",
    "        while rom in roman_num_to_convert:\n",
    "            résultat += roman_nums_to_arab[rom]\n",
    "            roman_num_to_convert = roman_num_to_convert.replace(rom, '', 1)\n",
    "    return résultat\n",
    "\n",
    "print(\"Test conversion de chiffres romains en chiffres arabes :\")\n",
    "nb_rom_triés_asc = [get_key_by_value(ar, roman_nums_to_arab) for ar in sorted(roman_nums_to_arab.values())]\n",
    "nb_rom_triés_asc.append('MCMLXXXVII')\n",
    "for num in nb_rom_triés_asc:\n",
    "    print(num, '->', convert_roman_num_to_arab(num))"
   ]
  },
  {
   "attachments": {},
   "cell_type": "markdown",
   "metadata": {},
   "source": [
    "### 4.4. Punition\n",
    "\n",
    "Écrire de 2 façon différentes le programme qui permet de faire la punition suivante :\n",
    "\n",
    "Écrire 100 fois :\n",
    "    Je dois apprendre python pour progresser."
   ]
  },
  {
   "cell_type": "code",
   "execution_count": 4,
   "metadata": {},
   "outputs": [
    {
     "name": "stdout",
     "output_type": "stream",
     "text": [
      "façon 1 :\n",
      "Je dois apprendre python pour progresser\n",
      "Je dois apprendre python pour progresser\n",
      "Je dois apprendre python pour progresser\n",
      "façon 2 :\n",
      "Je dois apprendre python pour progresser\n",
      "Je dois apprendre python pour progresser\n",
      "Je dois apprendre python pour progresser\n"
     ]
    }
   ],
   "source": [
    "quoi_écrire = \"Je dois apprendre python pour progresser\"\n",
    "combien_de_fois = 3\n",
    "print(\"façon 1 :\")\n",
    "for _ in range(combien_de_fois):\n",
    "    print(quoi_écrire)\n",
    "print(\"façon 2 :\")\n",
    "compteur = 0\n",
    "while compteur < combien_de_fois:\n",
    "    print(quoi_écrire)\n",
    "    compteur += 1"
   ]
  },
  {
   "attachments": {},
   "cell_type": "markdown",
   "metadata": {},
   "source": [
    "### 5.1. Fibonacci\n",
    "\n",
    "Écrire l'algorithme de la suite de Fibonacci:\n",
    "\n",
    "C'est une suite définie par $U_n = U_{n-1} + U_{n-2}$\n",
    "\n",
    "Si vous trouvez ça trop facile, passez par une fonction récursive\n",
    "( c'est à dire fonction qui s'appelle elle meme)\n",
    "\n",
    "ex: \n",
    "0, 1, 1, 2, 3, 5, 8, 13, 21, 34, 55, 89, 144, 233, 377, 610"
   ]
  },
  {
   "cell_type": "code",
   "execution_count": 53,
   "metadata": {},
   "outputs": [
    {
     "name": "stdout",
     "output_type": "stream",
     "text": [
      "0, 1, 1, 2, 3, 5, 8, 13, 21, 34, 55, 89, 144, 233, 377, 610, 987, 1597, 2584, 4181, 6765, 10946, 17711, 28657, 46368, 75025, 121393, 196418, 317811, 514229 ... calcul terminé pour fibonacci(nb_de_termes=1000) au bout de 0.0009997 ns\n",
      "\n",
      "0, 1, 1, 2, 3, 5, 8, 13, 21, 34, 55, 89, 144, 233, 377, 610, 987, 1597, 2584, 4181, 6765, 10946, 17711, 28657, 46368, 75025, 121393, 196418, 317811, 514229 ... calcul terminé pour fibonacci_recursive(nb_de_termes=1000) au bout de 0.0070098 s\n"
     ]
    }
   ],
   "source": [
    "import time\n",
    "\n",
    "def execution_time(start_time):\n",
    "    return (time.time_ns() - start_time) / 10**9\n",
    "\n",
    "def fibonacci(nb_de_termes: int):\n",
    "    résultat = [0, 1]\n",
    "    for i in range(2, nb_de_termes):\n",
    "        résultat.append(résultat[i - 1] + résultat[i - 2])\n",
    "    return résultat\n",
    "    \n",
    "def fibonacci_recursive(nb_de_termes: int, n_moins_deux: int = 0, n_moins_un: int = 1):\n",
    "    résultat = [n_moins_deux, n_moins_un]\n",
    "    if nb_de_termes > 2:\n",
    "        nouvelle_liste = fibonacci_recursive(nb_de_termes - 1, n_moins_un, n_moins_deux + n_moins_un)\n",
    "        nouvelle_liste_sans_premier_element = nouvelle_liste[1:]\n",
    "        résultat.extend(nouvelle_liste_sans_premier_element)\n",
    "    return résultat\n",
    "    \n",
    "nb_de_termes = 1000\n",
    "afficher_n_premiers_termes = 30\n",
    "start_time = time.time_ns()\n",
    "suite_fibo = fibonacci(nb_de_termes)\n",
    "print(\n",
    "    ', '.join(str(n) for n in suite_fibo[:afficher_n_premiers_termes]), '...', \n",
    "    f\"calcul terminé pour fibonacci(nb_de_termes={nb_de_termes}) au bout de {execution_time(start_time)} ns\")\n",
    "print()\n",
    "start_time = time.time_ns()\n",
    "suite_fibo_recursive = fibonacci_recursive(nb_de_termes)\n",
    "print(\n",
    "    ', '.join(str(n) for n in suite_fibo_recursive[:afficher_n_premiers_termes]), '...', \n",
    "    f\"calcul terminé pour fibonacci_recursive(nb_de_termes={nb_de_termes}) au bout de {execution_time(start_time)} s\")"
   ]
  },
  {
   "attachments": {},
   "cell_type": "markdown",
   "metadata": {},
   "source": [
    "### 6.0. BubbleSort\n",
    "\n",
    "Écrire un programme de tri a bulle.\n",
    "\n",
    "Le principe du tri à bulles est de comparer un élément $n$ d'un tableau \n",
    "avec son voisin suivant $n + 1$\n",
    "\n",
    "Si $n > n + 1$, alors on inverse les positions\n",
    "\n",
    "Sinon passe à l'élément suivant\n",
    "\n",
    "**Astuce :** Au lieu de passer par une variable temporaire\n",
    "python permet de permuter deux valeurs plus élégamment (*swap*):\n",
    "```py\n",
    "liste[i], liste[i+1] = liste[i+1], liste[i]\n",
    "```"
   ]
  },
  {
   "cell_type": "code",
   "execution_count": 58,
   "metadata": {},
   "outputs": [
    {
     "name": "stdout",
     "output_type": "stream",
     "text": [
      "liste_à_trier = [8, 5, 1, 7, 6, 4]\n",
      "  liste_triée = [1, 4, 5, 6, 7, 8], tri terminé au bout de 0.000000000000000000000000000000 s et après 10 passes\n"
     ]
    }
   ],
   "source": [
    "import time\n",
    "\n",
    "def execution_time(start_time):\n",
    "    return (time.time_ns() - start_time) / 10**9\n",
    "\n",
    "def tri_à_bulles(liste_à_trier: list) -> list:\n",
    "    nb_passes = 0\n",
    "    one_more_pass_please = True\n",
    "    while one_more_pass_please:\n",
    "        one_more_pass_please = False\n",
    "        for i in range(len(liste_à_trier) - 1):\n",
    "            if liste_à_trier[i + 1] < liste_à_trier[i]:\n",
    "                one_more_pass_please = True\n",
    "                liste_à_trier[i], liste_à_trier[i + 1] = liste_à_trier[i + 1], liste_à_trier[i]\n",
    "                nb_passes += 1\n",
    "    return liste_à_trier, nb_passes\n",
    "\n",
    "liste_à_trier = [8, 5, 1, 7, 6, 4]\n",
    "print(f\"{liste_à_trier = }\")\n",
    "start_time = time.time_ns()\n",
    "liste_triée, nb_passes = tri_à_bulles(liste_à_trier)\n",
    "print(f\"  {liste_triée = }, tri terminé au bout de {execution_time(start_time):.30f} s et après {nb_passes} passes\")"
   ]
  },
  {
   "attachments": {},
   "cell_type": "markdown",
   "metadata": {},
   "source": [
    "### 7.0. SelectionSort\n",
    "\n",
    "Écrire un programme de tri par sélection\n",
    "\n",
    "Le tri par sélection a pour principe de chercher l'élément le plus petit \n",
    "d'un tableau puis de le placer au début du tableau"
   ]
  },
  {
   "cell_type": "code",
   "execution_count": 59,
   "metadata": {},
   "outputs": [
    {
     "name": "stdout",
     "output_type": "stream",
     "text": [
      "liste_à_trier = [8, 5, 1, 7, 6, 4]\n",
      "  liste_triée = [1, 4, 5, 6, 7, 8], tri terminé au bout de 0.000000000000000000000000000000 s\n"
     ]
    }
   ],
   "source": [
    "import time\n",
    "\n",
    "def execution_time(start_time):\n",
    "    return (time.time_ns() - start_time) / 10**9\n",
    "\n",
    "def tri_par_sélection(liste_à_trier):\n",
    "    for i in range(len(liste_à_trier)):\n",
    "        le_plus_petit = min(liste_à_trier[i:])\n",
    "        position_du_plus_petit = liste_à_trier.index(le_plus_petit)\n",
    "        liste_à_trier.pop(position_du_plus_petit)\n",
    "        liste_à_trier[i:] = [le_plus_petit] + liste_à_trier[i:]\n",
    "    return liste_à_trier\n",
    "\n",
    "liste_à_trier = [8, 5, 1, 7, 6, 4]\n",
    "print(f\"{liste_à_trier = }\")\n",
    "start_time = time.time_ns()\n",
    "liste_triée = tri_par_sélection(liste_à_trier)\n",
    "print(f\"  {liste_triée = }, tri terminé au bout de {execution_time(start_time):.30f} s\")"
   ]
  }
 ],
 "metadata": {
  "kernelspec": {
   "display_name": "Python 3",
   "language": "python",
   "name": "python3"
  },
  "language_info": {
   "codemirror_mode": {
    "name": "ipython",
    "version": 3
   },
   "file_extension": ".py",
   "mimetype": "text/x-python",
   "name": "python",
   "nbconvert_exporter": "python",
   "pygments_lexer": "ipython3",
   "version": "3.11.2"
  },
  "orig_nbformat": 4
 },
 "nbformat": 4,
 "nbformat_minor": 2
}
