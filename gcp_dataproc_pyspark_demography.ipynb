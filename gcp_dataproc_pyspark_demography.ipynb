{
 "cells": [
  {
   "cell_type": "markdown",
   "id": "004ee6c1-c63a-42b3-ab5f-69dbf7e4be37",
   "metadata": {},
   "source": [
    "# Démographie 2019\n",
    "\n",
    "__Auteur__: Kiril Isakov  \n",
    "__Date de création__: 2023-07-25  \n",
    "__Présentation__: Notebook pour le calcul de la population moyenne des villes françaises en 2019.\n",
    "\n",
    "__Prérequis__: Un bucket gcp pour le stockage des données. (BUCKET_NAME)  \n",
    "\n",
    "__Inputs__: fichier CSV\n",
    "\n",
    "__Params__:\n",
    "- `BUCKET_NAME`: nom du bucket GCP\n",
    "- `INPUT_FILE_NAME`"
   ]
  },
  {
   "cell_type": "code",
   "execution_count": 1,
   "id": "85347740-1c14-48c1-83ad-9227f951c510",
   "metadata": {},
   "outputs": [],
   "source": [
    "BUCKET_NAME = 'data_m2i'\n",
    "INPUT_FILE_NAME = 'data.csv'\n",
    "input_file_uri = f'gs://{BUCKET_NAME}/input/{INPUT_FILE_NAME}'"
   ]
  },
  {
   "cell_type": "code",
   "execution_count": 2,
   "id": "c4f99765-a216-4cef-8505-f62c251d576f",
   "metadata": {},
   "outputs": [],
   "source": [
    "import pyspark.sql.functions as sqlf"
   ]
  },
  {
   "cell_type": "code",
   "execution_count": 3,
   "id": "0fe8b1ac-1e5a-4b7b-9241-76396aba6137",
   "metadata": {},
   "outputs": [
    {
     "name": "stderr",
     "output_type": "stream",
     "text": [
      "                                                                                \r"
     ]
    }
   ],
   "source": [
    "df = spark.read.csv(input_file_uri, header=False)"
   ]
  },
  {
   "cell_type": "code",
   "execution_count": 4,
   "id": "fb9a9768-c453-4def-88a8-27faa990f483",
   "metadata": {},
   "outputs": [
    {
     "name": "stderr",
     "output_type": "stream",
     "text": [
      "[Stage 1:>                                                          (0 + 1) / 1]\r"
     ]
    },
    {
     "name": "stdout",
     "output_type": "stream",
     "text": [
      "+---+--------------------+-----+----+----+----+\n",
      "|_c1|                 _c5|  _c8|_c15|_c16|_c17|\n",
      "+---+--------------------+-----+----+----+----+\n",
      "| 01|                Ozan|01190| 469| 500|  93|\n",
      "| 01|Cormoranche-sur-S...|01290| 903|1000| 107|\n",
      "| 01|              Plagne|01130|  83| 100|  20|\n",
      "| 01|             Tossiat|01250|1111|1400| 138|\n",
      "| 01|            Pouillat|01250|  58| 100|  14|\n",
      "| 01|             Torcieu|01230| 643| 700|  65|\n",
      "| 01|           Replonges|01620|2841|3300| 210|\n",
      "| 01|           Corcelles|01110| 222| 200|  17|\n",
      "| 01|               Péron|01630|1578|1900|  82|\n",
      "| 01|            Relevant|01990| 367| 400|  37|\n",
      "| 01|          Chaveyriat|01660| 810| 900|  54|\n",
      "| 01|       Vaux-en-Bugey|01150|1003|1100| 142|\n",
      "| 01|             Maillat|01430| 664| 700|  59|\n",
      "| 01|            Faramans|01800| 591| 600|  60|\n",
      "| 01|                Béon|01350| 364| 400|  36|\n",
      "| 01|       Saint-Bernard|01600|1281|1400| 436|\n",
      "| 01|           Rossillon|01510| 147| 100|  18|\n",
      "| 01|          Pont-d'Ain|01160|2309|2500| 234|\n",
      "| 01|              Nantua|01460|3922|3600| 290|\n",
      "| 01|Chavannes-sur-Rey...|01190| 580| 700|  41|\n",
      "+---+--------------------+-----+----+----+----+\n",
      "only showing top 20 rows\n",
      "\n"
     ]
    },
    {
     "name": "stderr",
     "output_type": "stream",
     "text": [
      "                                                                                \r"
     ]
    }
   ],
   "source": [
    "colnums_to_show = [1, 5, 8, 15, 16, 17]\n",
    "pop_villes = df.select(*[f'_c{n}' for n in colnums_to_show])\n",
    "pop_villes.show()"
   ]
  },
  {
   "cell_type": "code",
   "execution_count": 5,
   "id": "22906720-50bd-4cad-8838-baea93f577b9",
   "metadata": {},
   "outputs": [
    {
     "name": "stderr",
     "output_type": "stream",
     "text": [
      "[Stage 2:=============================>                             (1 + 1) / 2]\r"
     ]
    },
    {
     "name": "stdout",
     "output_type": "stream",
     "text": [
      "+-------------------------+\n",
      "|population_moy_des_villes|\n",
      "+-------------------------+\n",
      "|       1644.0646049046322|\n",
      "+-------------------------+\n",
      "\n"
     ]
    },
    {
     "name": "stderr",
     "output_type": "stream",
     "text": [
      "                                                                                \r"
     ]
    }
   ],
   "source": [
    "pop_villes.agg(sqlf.avg('_c15').alias('population_moy_des_villes'))\\\n",
    "          .show()"
   ]
  },
  {
   "cell_type": "code",
   "execution_count": 6,
   "id": "1ece30c2-533a-4b55-b5a2-2a2f2f307d11",
   "metadata": {},
   "outputs": [
    {
     "name": "stderr",
     "output_type": "stream",
     "text": [
      "[Stage 5:=============================>                             (1 + 1) / 2]\r"
     ]
    },
    {
     "name": "stdout",
     "output_type": "stream",
     "text": [
      "+---+------------------+\n",
      "|dép|   pop_moy_par_dép|\n",
      "+---+------------------+\n",
      "| 75|         2125851.0|\n",
      "| 92|           39685.5|\n",
      "| 93|           34573.2|\n",
      "|974|29424.166666666668|\n",
      "| 94| 26105.55319148936|\n",
      "| 13|15423.588235294117|\n",
      "|971|12710.970588235294|\n",
      "|976|12508.529411764706|\n",
      "|972|11215.441176470587|\n",
      "|973| 7126.818181818182|\n",
      "| 06| 6207.766871165644|\n",
      "|975|            6080.0|\n",
      "| 95| 5974.183783783784|\n",
      "| 83| 5869.287581699346|\n",
      "| 91|  5785.84693877551|\n",
      "| 69| 5387.109215017065|\n",
      "| 78| 5167.774809160305|\n",
      "| 44|5133.4524886877825|\n",
      "| 59|3845.2553846153846|\n",
      "| 84|3309.0397350993376|\n",
      "+---+------------------+\n",
      "only showing top 20 rows\n",
      "\n"
     ]
    },
    {
     "name": "stderr",
     "output_type": "stream",
     "text": [
      "                                                                                \r"
     ]
    }
   ],
   "source": [
    "pop_villes.withColumnRenamed('_c1', 'dép')\\\n",
    "          .groupby(sqlf.col('dép'))\\\n",
    "          .agg(sqlf.avg('_c15').alias('pop_moy_par_dép'))\\\n",
    "          .sort(sqlf.col('pop_moy_par_dép').desc())\\\n",
    "          .show()"
   ]
  },
  {
   "cell_type": "code",
   "execution_count": 7,
   "id": "ef92bf84-15dd-4a2b-8007-2a8ce3279c80",
   "metadata": {},
   "outputs": [
    {
     "name": "stderr",
     "output_type": "stream",
     "text": [
      "[Stage 11:=============================>                            (1 + 1) / 2]\r"
     ]
    },
    {
     "name": "stdout",
     "output_type": "stream",
     "text": [
      "+---+--------------+----------------------+\n",
      "|dép|population_dép|part_population_totale|\n",
      "+---+--------------+----------------------+\n",
      "| 59|     2499416.0|               4.1424%|\n",
      "| 75|     2125851.0|               3.5233%|\n",
      "| 13|     1835407.0|               3.0419%|\n",
      "| 69|     1578423.0|               2.6160%|\n",
      "| 62|     1441422.0|               2.3889%|\n",
      "| 92|     1428678.0|               2.3678%|\n",
      "| 93|     1382928.0|               2.2920%|\n",
      "| 78|     1353957.0|               2.2440%|\n",
      "| 33|     1287532.0|               2.1339%|\n",
      "| 76|     1239176.0|               2.0538%|\n",
      "| 94|     1226961.0|               2.0335%|\n",
      "| 77|     1193511.0|               1.9781%|\n",
      "| 44|     1134493.0|               1.8803%|\n",
      "| 91|     1134026.0|               1.8795%|\n",
      "| 95|     1105224.0|               1.8317%|\n",
      "| 38|     1093786.0|               1.8128%|\n",
      "| 31|     1046532.0|               1.7345%|\n",
      "| 67|     1026023.0|               1.7005%|\n",
      "| 57|     1023199.0|               1.6958%|\n",
      "| 06|     1011866.0|               1.6770%|\n",
      "+---+--------------+----------------------+\n",
      "only showing top 20 rows\n",
      "\n"
     ]
    },
    {
     "name": "stderr",
     "output_type": "stream",
     "text": [
      "                                                                                \r"
     ]
    }
   ],
   "source": [
    "population_totale = pop_villes.agg(sqlf.sum('_c15'))\\\n",
    "                              .collect()[0][0]\n",
    "pop_villes.withColumnRenamed('_c1', 'dép')\\\n",
    "          .groupby(sqlf.col('dép'))\\\n",
    "          .agg(sqlf.sum('_c15').alias('population_dép'))\\\n",
    "          .sort(sqlf.col('population_dép').desc())\\\n",
    "          .withColumn('part_population_totale',\n",
    "                      sqlf.format_string('%.4f%%', sqlf.col('population_dép') / population_totale * 100)\n",
    "                      )\\\n",
    "          .show()"
   ]
  },
  {
   "cell_type": "code",
   "execution_count": 23,
   "id": "198ec374-b318-4137-8433-f79ade3fac59",
   "metadata": {},
   "outputs": [
    {
     "name": "stdout",
     "output_type": "stream",
     "text": [
      "+---+------------------+--------------------+-----------+---------------+\n",
      "|dép|population_médiane|         nom_commune|code_postal|population_2019|\n",
      "+---+------------------+--------------------+-----------+---------------+\n",
      "| 01|             509.0|Saint-Julien-sur-...|      01560|            509|\n",
      "| 02|             194.0|          Couvrelles|      02220|            194|\n",
      "| 02|             194.0|   Vesles-et-Caumont|      02350|            194|\n",
      "| 03|             332.0|            Arronnes|      03250|            332|\n",
      "| 04|             168.0|           Montfuron|      04110|            168|\n",
      "| 05|             195.0|             Réallon|      05160|            195|\n",
      "| 06|             456.0|          Gréolières|      06620|            456|\n",
      "| 07|             279.0|        Saint-Basile|      07270|            279|\n",
      "| 08|             140.0|              Nouart|      08240|            140|\n",
      "| 08|             140.0|      Chatel-Chéhéry|      08250|            140|\n",
      "| 08|             140.0|         Houdilcourt|      08190|            140|\n",
      "| 08|             140.0|               Mairy|      08140|            140|\n",
      "| 09|             119.0|              Besset|      09500|            119|\n",
      "| 09|             119.0|              Unzent|      09100|            119|\n",
      "| 10|             177.0|           Meurville|      10200|            177|\n",
      "| 11|             140.0|Escueillens-et-Sa...|      11240|            140|\n",
      "| 11|             140.0|            Bouriège|      11300|            140|\n",
      "| 12|             353.0|  Versols-et-Lapeyre|      12400|            353|\n",
      "| 13|            4121.0|               Mimet|      13105|           4121|\n",
      "| 14|             238.0|            Soulangy|      14700|            238|\n",
      "+---+------------------+--------------------+-----------+---------------+\n",
      "only showing top 20 rows\n",
      "\n"
     ]
    }
   ],
   "source": [
    "pop_médiane = pop_villes.withColumnRenamed('_c1', 'dép')\\\n",
    "            .groupby('dép')\\\n",
    "            .agg(\n",
    "                sqlf.percentile_approx('_c15', 0.5, 10).alias('population_médiane')\n",
    "            )\\\n",
    "            .select('dép', 'population_médiane')\n",
    "pop_villes.join(pop_médiane,\n",
    "                on=[sqlf.col('_c15') == pop_médiane['population_médiane'],\n",
    "                    sqlf.col('_c1') == pop_médiane['dép']\n",
    "                   ]\n",
    "               )\\\n",
    "            .select('dép', 'population_médiane', '_c5', '_c8', '_c15')\\\n",
    "            .withColumnRenamed('_c5', 'nom_commune')\\\n",
    "            .withColumnRenamed('_c8', 'code_postal')\\\n",
    "            .withColumnRenamed('_c15', 'population_2019')\\\n",
    "            .show()"
   ]
  }
 ],
 "metadata": {
  "kernelspec": {
   "display_name": "PySpark",
   "language": "python",
   "name": "pyspark"
  },
  "language_info": {
   "codemirror_mode": {
    "name": "ipython",
    "version": 3
   },
   "file_extension": ".py",
   "mimetype": "text/x-python",
   "name": "python",
   "nbconvert_exporter": "python",
   "pygments_lexer": "ipython3",
   "version": "3.10.8"
  }
 },
 "nbformat": 4,
 "nbformat_minor": 5
}