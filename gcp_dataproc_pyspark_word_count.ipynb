{
 "cells": [
  {
   "cell_type": "markdown",
   "id": "0ffe9cc5-8402-41e5-bfe8-a06ef29b365b",
   "metadata": {},
   "source": [
    "# WordCount avec GCP et PySpark\n",
    "\n",
    "__Auteur__: Kiril Isakov  \n",
    "__Date de création__: 2023-07-25  \n",
    "__Présentation__: Ce notebook permet de compter le nombre d'occurence de chaque mot dans un text. Il utilise pour cela \n",
    "pyspark.\n",
    "\n",
    "__Prérequis__: Un bucket gcp pour le stockage des données. (BUCKET_NAME)  \n",
    "__Inputs__: texte d'entrée: `gs://{BUCKET_NAME}/input/{INPUT_FILE_NAME}`  \n",
    "__Outputs__: csv de sortie: `gs://{BUCKET_NAME}/output/{OUTPUT_FILE_NAME}`\n",
    "\n",
    "__Params__:\n",
    "- `BUCKET_NAME`: nom du bucket GCP. DOIT être dans le même projet.\n",
    "- `INPUT_FILE_NAME`: nom du fichier a traiter. DOIT être au format \"txt\"\n",
    "- `OUTPUT_FILE_NAME`: nom du fichier de sortie contenant le résulta."
   ]
  },
  {
   "cell_type": "markdown",
   "id": "8701ca09-5d3b-478e-af95-456d1b914dbe",
   "metadata": {},
   "source": [
    "### Exemple de lecture d'un fichier depuis un bucket GCP avec Python"
   ]
  },
  {
   "cell_type": "code",
   "execution_count": 15,
   "id": "3f19a5b8-231a-4622-8d6f-947445c3b549",
   "metadata": {},
   "outputs": [],
   "source": [
    "BUCKET_NAME = 'data_m2i'\n",
    "PATH_TO_DATA = 'input/exemple.txt'"
   ]
  },
  {
   "cell_type": "code",
   "execution_count": 16,
   "id": "4cba06fd-bdf6-4e46-9d2b-7a57f74dc8f3",
   "metadata": {},
   "outputs": [],
   "source": [
    "from google.cloud import storage\n",
    "import pandas as pd"
   ]
  },
  {
   "cell_type": "code",
   "execution_count": 17,
   "id": "e158590f-54c3-4f64-9e68-9cb7f924c326",
   "metadata": {},
   "outputs": [],
   "source": [
    "client = storage.Client()\n",
    "bucket = client.bucket(BUCKET_NAME)"
   ]
  },
  {
   "cell_type": "code",
   "execution_count": 18,
   "id": "c41c4fc7-3e0f-46e7-b5b8-116e5baf05f1",
   "metadata": {},
   "outputs": [
    {
     "name": "stdout",
     "output_type": "stream",
     "text": [
      "input/\n",
      "input/exemple.txt\n",
      "output/\n"
     ]
    }
   ],
   "source": [
    "file_blob = bucket.blob(PATH_TO_DATA)\n",
    "for blob in client.list_blobs(BUCKET_NAME):\n",
    "    print(blob.name)"
   ]
  },
  {
   "cell_type": "code",
   "execution_count": 19,
   "id": "67c5de62-aeb5-4089-8845-bdfc4292715f",
   "metadata": {},
   "outputs": [],
   "source": [
    "with file_blob.open(mode='r') as f:\n",
    "    data_as_str = f.read()"
   ]
  },
  {
   "cell_type": "code",
   "execution_count": 20,
   "id": "93c9a927-1150-47e9-8c92-f168117f5619",
   "metadata": {},
   "outputs": [
    {
     "data": {
      "text/plain": [
       "'Ceci est un fichier exemple\\nIl ne contient rien de très utile\\nCet exemple peut etre remplacer par un autre\\nDans les couloirs de l hôpital des punks passent\\nDes ministres marinent à proximité en cuisinant\\nJ ai peine à ne guère compromettre les vaisseaux\\nGuy Bedos parie sur une papille\\nLa remplaçante '"
      ]
     },
     "execution_count": 20,
     "metadata": {},
     "output_type": "execute_result"
    }
   ],
   "source": [
    "data_as_str[:300]"
   ]
  },
  {
   "cell_type": "markdown",
   "id": "8841660e-57a9-483e-9ab1-a9185f6673be",
   "metadata": {},
   "source": [
    "### Même exemple avec PySpark"
   ]
  },
  {
   "cell_type": "code",
   "execution_count": 21,
   "id": "e4a6b042-2e02-4bf3-9bca-2f2afed2ecdf",
   "metadata": {},
   "outputs": [
    {
     "name": "stderr",
     "output_type": "stream",
     "text": [
      "23/07/25 12:01:54 WARN GhfsStorageStatistics: Detected potential high latency for operation op_glob_status. latencyMs=134; previousMaxLatencyMs=110; operationCount=3; context=path=gs://data_m2i/input/exemple.txt; pattern=org.apache.hadoop.mapred.FileInputFormat$MultiPathFilter@20143668\n"
     ]
    }
   ],
   "source": [
    "file_uri = f'gs://{BUCKET_NAME}/{PATH_TO_DATA}'\n",
    "text_file = sc.textFile(file_uri)\n",
    "data_as_list = text_file.collect()"
   ]
  },
  {
   "cell_type": "code",
   "execution_count": 22,
   "id": "bdf2f3ab-f02c-4413-853b-df2a6ffef271",
   "metadata": {},
   "outputs": [
    {
     "data": {
      "text/plain": [
       "['Ceci est un fichier exemple',\n",
       " 'Il ne contient rien de très utile',\n",
       " 'Cet exemple peut etre remplacer par un autre',\n",
       " 'Dans les couloirs de l hôpital des punks passent',\n",
       " 'Des ministres marinent à proximité en cuisinant',\n",
       " 'J ai peine à ne guère compromettre les vaisseaux',\n",
       " 'Guy Bedos parie sur une papille',\n",
       " 'La remplaçante dit adieu à tous les colporteurs']"
      ]
     },
     "execution_count": 22,
     "metadata": {},
     "output_type": "execute_result"
    }
   ],
   "source": [
    "data_as_list[:8]"
   ]
  },
  {
   "cell_type": "markdown",
   "id": "73acb07a-d3a1-4c5f-b85c-52e36024a7ea",
   "metadata": {},
   "source": [
    "### WordCount avec Python"
   ]
  },
  {
   "cell_type": "code",
   "execution_count": 23,
   "id": "1d643d23-a28b-45f8-8d9d-1cfe158562cf",
   "metadata": {},
   "outputs": [],
   "source": [
    "def remove_punctuation(s: str):\n",
    "    return ''.join(filter(lambda x: x.isalnum() or x in ['-', \"'\"], s))"
   ]
  },
  {
   "cell_type": "code",
   "execution_count": 24,
   "id": "c8284cfd-7e49-4d7a-ae2a-3a58830b3552",
   "metadata": {},
   "outputs": [],
   "source": [
    "words = []\n",
    "for line in data_as_list:\n",
    "    for word_dirty in line.split(' '):\n",
    "        word_clean = remove_punctuation(word_dirty)\n",
    "        words.append(word_clean.lower())"
   ]
  },
  {
   "cell_type": "code",
   "execution_count": 25,
   "id": "c6c28b98-ce67-4a2b-a267-589fdf327c56",
   "metadata": {},
   "outputs": [],
   "source": [
    "word_count = {}\n",
    "for word in words:\n",
    "    if word in word_count.keys():\n",
    "        word_count[word] += 1\n",
    "    else:\n",
    "        word_count[word] = 1"
   ]
  },
  {
   "cell_type": "code",
   "execution_count": 26,
   "id": "49e54836-19dd-4cac-9551-621cfa601aac",
   "metadata": {},
   "outputs": [
    {
     "data": {
      "text/html": [
       "<div>\n",
       "<style scoped>\n",
       "    .dataframe tbody tr th:only-of-type {\n",
       "        vertical-align: middle;\n",
       "    }\n",
       "\n",
       "    .dataframe tbody tr th {\n",
       "        vertical-align: top;\n",
       "    }\n",
       "\n",
       "    .dataframe thead th {\n",
       "        text-align: right;\n",
       "    }\n",
       "</style>\n",
       "<table border=\"1\" class=\"dataframe\">\n",
       "  <thead>\n",
       "    <tr style=\"text-align: right;\">\n",
       "      <th></th>\n",
       "      <th>word</th>\n",
       "      <th>count</th>\n",
       "    </tr>\n",
       "  </thead>\n",
       "  <tbody>\n",
       "    <tr>\n",
       "      <th>23</th>\n",
       "      <td>des</td>\n",
       "      <td>56</td>\n",
       "    </tr>\n",
       "    <tr>\n",
       "      <th>28</th>\n",
       "      <td>à</td>\n",
       "      <td>55</td>\n",
       "    </tr>\n",
       "    <tr>\n",
       "      <th>9</th>\n",
       "      <td>de</td>\n",
       "      <td>54</td>\n",
       "    </tr>\n",
       "    <tr>\n",
       "      <th>2</th>\n",
       "      <td>un</td>\n",
       "      <td>44</td>\n",
       "    </tr>\n",
       "    <tr>\n",
       "      <th>19</th>\n",
       "      <td>les</td>\n",
       "      <td>36</td>\n",
       "    </tr>\n",
       "    <tr>\n",
       "      <th>...</th>\n",
       "      <td>...</td>\n",
       "      <td>...</td>\n",
       "    </tr>\n",
       "    <tr>\n",
       "      <th>306</th>\n",
       "      <td>occupent</td>\n",
       "      <td>1</td>\n",
       "    </tr>\n",
       "    <tr>\n",
       "      <th>307</th>\n",
       "      <td>athée</td>\n",
       "      <td>1</td>\n",
       "    </tr>\n",
       "    <tr>\n",
       "      <th>308</th>\n",
       "      <td>gouverneur</td>\n",
       "      <td>1</td>\n",
       "    </tr>\n",
       "    <tr>\n",
       "      <th>310</th>\n",
       "      <td>mine</td>\n",
       "      <td>1</td>\n",
       "    </tr>\n",
       "    <tr>\n",
       "      <th>810</th>\n",
       "      <td>succès</td>\n",
       "      <td>1</td>\n",
       "    </tr>\n",
       "  </tbody>\n",
       "</table>\n",
       "<p>811 rows × 2 columns</p>\n",
       "</div>"
      ],
      "text/plain": [
       "           word  count\n",
       "23          des     56\n",
       "28            à     55\n",
       "9            de     54\n",
       "2            un     44\n",
       "19          les     36\n",
       "..          ...    ...\n",
       "306    occupent      1\n",
       "307       athée      1\n",
       "308  gouverneur      1\n",
       "310        mine      1\n",
       "810      succès      1\n",
       "\n",
       "[811 rows x 2 columns]"
      ]
     },
     "execution_count": 26,
     "metadata": {},
     "output_type": "execute_result"
    }
   ],
   "source": [
    "data = {'word': word_count.keys(), 'count': word_count.values()}\n",
    "pd.DataFrame.from_dict(data).sort_values(by='count', ascending=False)"
   ]
  },
  {
   "cell_type": "markdown",
   "id": "e2de210f-d314-45d4-b31a-aa47407279e2",
   "metadata": {},
   "source": [
    "### WordCount avec PySpark"
   ]
  },
  {
   "cell_type": "code",
   "execution_count": 27,
   "id": "12c2e382-ca06-4ef2-9276-ed5d9950779e",
   "metadata": {},
   "outputs": [],
   "source": [
    "file_uri = f'gs://{BUCKET_NAME}/{PATH_TO_DATA}'\n",
    "text_file_rdd = sc.textFile(file_uri)\n",
    "words_rdd = text_file_rdd.flatMap(lambda line: line.split(' '))\n",
    "word_count_rdd = words_rdd.map(lambda word: (remove_punctuation(word).lower(), 1))\\\n",
    "                          .reduceByKey(lambda x, y: (x + y))\\\n",
    "                          .sortBy(lambda x: x[1], ascending=False)"
   ]
  },
  {
   "cell_type": "code",
   "execution_count": 28,
   "id": "5dbe515b-4ffe-4f72-9ef4-491bee36f604",
   "metadata": {},
   "outputs": [
    {
     "data": {
      "text/plain": [
       "[('des', 56),\n",
       " ('à', 55),\n",
       " ('de', 54),\n",
       " ('un', 44),\n",
       " ('les', 36),\n",
       " ('la', 31),\n",
       " ('le', 29),\n",
       " ('l', 23),\n",
       " ('nous', 20),\n",
       " ('d', 18)]"
      ]
     },
     "execution_count": 28,
     "metadata": {},
     "output_type": "execute_result"
    }
   ],
   "source": [
    "word_count_rdd.take(10)"
   ]
  }
 ],
 "metadata": {
  "kernelspec": {
   "display_name": "PySpark",
   "language": "python",
   "name": "pyspark"
  },
  "language_info": {
   "codemirror_mode": {
    "name": "ipython",
    "version": 3
   },
   "file_extension": ".py",
   "mimetype": "text/x-python",
   "name": "python",
   "nbconvert_exporter": "python",
   "pygments_lexer": "ipython3",
   "version": "3.10.8"
  }
 },
 "nbformat": 4,
 "nbformat_minor": 5
}