{
 "cells": [
  {
   "attachments": {},
   "cell_type": "markdown",
   "metadata": {},
   "source": [
    "# L'algorithmie"
   ]
  },
  {
   "attachments": {},
   "cell_type": "markdown",
   "metadata": {},
   "source": [
    "### 0.1. Paire ou impaire\n",
    "\n",
    "Créer un script qui demande un nombre. Le script doit afficher si le nombre est pair ou impair\n"
   ]
  },
  {
   "cell_type": "code",
   "execution_count": 3,
   "metadata": {},
   "outputs": [
    {
     "name": "stdout",
     "output_type": "stream",
     "text": [
      "5 est impair.\n"
     ]
    }
   ],
   "source": [
    "# Programme principal\n",
    "mot = int(input(\"Entrez un entier strictement positif : \"))\n",
    "while mot < 1:\n",
    "    mot = int(input(\"Entrez un entier STRICTEMENT POSITIF, s.v.p. :\"))\n",
    "\n",
    "# utilisation du modulo : reste de la division entiere\n",
    "if mot%2 == 0:\n",
    "    print(mot, \"est pair.\")\n",
    "else :\n",
    "    print(mot, \"est impair.\")"
   ]
  },
  {
   "attachments": {},
   "cell_type": "markdown",
   "metadata": {},
   "source": [
    "### 0.2. Puissance 2 \n",
    "\n",
    "Écrire un script qui determine le nombre de fois qu'un nombre est divisible par 2"
   ]
  },
  {
   "cell_type": "code",
   "execution_count": 5,
   "metadata": {},
   "outputs": [
    {
     "name": "stdout",
     "output_type": "stream",
     "text": [
      "12 est 2 fois divisible par 2.\n",
      "il reste :  3  qui n'est pas divisible par 2.\n"
     ]
    }
   ],
   "source": [
    "# Programme principal\n",
    "mot = int(input(\"Entrez un entier strictement positif :\"))\n",
    "while mot < 1:\n",
    "    mot = int(input(\"Entrez un entier STRICTEMENT POSITIF, s.v.p. :\"))\n",
    "save = mot\n",
    "\n",
    "cpt = 0\n",
    "while mot%2 == 0:\n",
    "    mot //= 2\n",
    "    cpt += 1\n",
    "\n",
    "print(save, \"est\", cpt, \"fois divisible par 2.\")\n",
    "# reste un chiffre impaire\n",
    "if mot != 1:\n",
    "    print(\"il reste : \",mot,\" qui n'est pas divisible par 2.\")\n",
    "# reste 1 donc c'est une puissance de 2\n",
    "else :\n",
    "    print(\"c'est une puissance de 2 : 2^\",cpt)"
   ]
  },
  {
   "attachments": {},
   "cell_type": "markdown",
   "metadata": {},
   "source": [
    "### 0.3. Nombre premier\n",
    "\n",
    "Créer un script qui permet de déterminer\n",
    "si un nombre est premier ou non.\n",
    "\n",
    "S'il ne l'est pas, le script doit donner ses diviseurs.\n",
    "\n",
    "**Rappel :** un nombre premier n'est divisible \n",
    "que par 1 et par lui-même\n"
   ]
  },
  {
   "cell_type": "code",
   "execution_count": 4,
   "metadata": {},
   "outputs": [
    {
     "name": "stdout",
     "output_type": "stream",
     "text": [
      "Diviseurs propres sans répétition de 5  : aucun ! Il est premier.\n"
     ]
    }
   ],
   "source": [
    "# Programme principal\n",
    "mot = int(input(\"Entrez un entier strictement positif :\"))\n",
    "while mot < 1:\n",
    "    mot = int(input(\"Entrez un entier STRICTEMENT POSITIF, s.v.p. :\"))\n",
    "\n",
    "mot = 2 # plus petit diviseur possible de n\n",
    "cpt = 0 # initialise le compteur de divisions\n",
    "p = mot/2 # calculé une fois dans la boucle\n",
    "\n",
    "print(\"Diviseurs propres sans répétition de\", mot, \" :\", end=' ')\n",
    "while mot <= p :\n",
    "    # si division complete, reste 0\n",
    "    if mot%mot == 0:\n",
    "        cpt += 1\n",
    "        print(mot, end=' ')\n",
    "    mot += 1\n",
    "\n",
    "if not cpt :\n",
    "    print(\"aucun ! Il est premier.\")\n",
    "else :\n",
    "    print(\"(soit\", cpt, \"diviseurs propres)\")"
   ]
  },
  {
   "attachments": {},
   "cell_type": "markdown",
   "metadata": {},
   "source": [
    "### 0.4. Age de l'enfant\n",
    "\n",
    "Écrire un algorithme qui demande d'entrer l'âge d'un enfant et qui vérifie dans quel catégorie il est :\n",
    "* si âge >= 12 -> Cadet\n",
    "* si âge >= 10 -> Minime\n",
    "* si âge >= 8 -> Pupille\n",
    "* sinon -> Poussin\n"
   ]
  },
  {
   "cell_type": "code",
   "execution_count": 6,
   "metadata": {},
   "outputs": [
    {
     "name": "stdout",
     "output_type": "stream",
     "text": [
      "Catégorie Poussin\n"
     ]
    }
   ],
   "source": [
    "# variable qui attend une entrée utilisateur de type int , soit un nombre entier positif\n",
    "age = int(input(\"Entrez l'âge de l'enfant : \"))\n",
    "\n",
    "if age >= 12: # condtion SI SINON SI en 4 étape qui vérifie si l'age est supérieur a 12\n",
    "    print(\"Catégorie Cadet\") # retour si la 1er condition est vrai\n",
    "elif age >= 10:\n",
    "    print(\"Catégorie Minime\") # retour si la 2eme condition est vrai\n",
    "elif age >= 8:\n",
    "    print(\"Catégorie Pupille\") # retour si la 3eme condition est vrai\n",
    "else:\n",
    "    print(\"Catégorie Poussin\") # retour aucune condition n'est vrai"
   ]
  },
  {
   "attachments": {},
   "cell_type": "markdown",
   "metadata": {},
   "source": [
    "### 1.1. Triangle\n",
    "\n",
    "**But de l'exercice :**\n",
    "\n",
    "Votre programme demande un nombre positif à \n",
    "l'utilisateur.\n",
    "\n",
    "Il affiche un triangle d'astérisques qui pointe vers la droite et dont\n",
    "la taille dépend du nombre choisi.\n",
    "\n",
    "Exemple : pour le nombre 5 le programme affiche :\n",
    "```\n",
    "*\n",
    "**\n",
    "***\n",
    "****\n",
    "*****\n",
    "```"
   ]
  },
  {
   "cell_type": "code",
   "execution_count": 18,
   "metadata": {},
   "outputs": [
    {
     "name": "stdout",
     "output_type": "stream",
     "text": [
      "*\n",
      "**\n",
      "***\n",
      "****\n",
      "*****\n"
     ]
    }
   ],
   "source": [
    "max_width = int(input(\"Donnez un nombre entier positif: \"))\n",
    "for width in range(1, max_width + 1):\n",
    "    print('*' * width)"
   ]
  },
  {
   "attachments": {},
   "cell_type": "markdown",
   "metadata": {},
   "source": [
    "### 1.2. Triangle 2\n",
    "\n",
    "**But de l'exercice :**\n",
    "\n",
    "Votre programme demande un nombre positif à \n",
    "l'utilisateur.\n",
    "\n",
    "Il affiche un triangle d'astérisques qui pointe vers la droite et dont\n",
    "la taille dépend du nombre choisi.\n",
    "\n",
    "Exemple : pour le nombre 5 le programme affiche :\n",
    "```\n",
    "*\n",
    "**\n",
    "***\n",
    "****\n",
    "*****\n",
    "****\n",
    "***\n",
    "**\n",
    "*\n",
    "```"
   ]
  },
  {
   "cell_type": "code",
   "execution_count": 19,
   "metadata": {},
   "outputs": [
    {
     "name": "stdout",
     "output_type": "stream",
     "text": [
      "*\n",
      "**\n",
      "***\n",
      "****\n",
      "*****\n",
      "****\n",
      "***\n",
      "**\n",
      "*\n"
     ]
    }
   ],
   "source": [
    "max_width = int(input(\"Donnez un nombre entier positif: \"))\n",
    "for line in range(1, max_width):\n",
    "    print('*' * line)\n",
    "for line in range(max_width, 0, -1):\n",
    "    print('*' * line)\n"
   ]
  },
  {
   "attachments": {},
   "cell_type": "markdown",
   "metadata": {},
   "source": [
    "### 1.3. Pyramide\n",
    "\n",
    "**But de l'exercice :**\n",
    "\n",
    "Reprendre l'exercice `1.1. Triangle`\n",
    "\n",
    "Votre programme demande un nombre positif à l'utilisateur.\n",
    "\n",
    "Il affiche un triangle d'astérisques dont la taille dépend du nombre choisi, mais cette fois présenté sous forme d'un pyramide symétrique.\n",
    "\n",
    "Exemple : pour le nombre 5 le programme affiche :\n",
    "```\n",
    "     *\n",
    "    * *\n",
    "   * * *\n",
    "  * * * *\n",
    " * * * * *\n",
    " ```"
   ]
  },
  {
   "cell_type": "code",
   "execution_count": 20,
   "metadata": {},
   "outputs": [
    {
     "name": "stdout",
     "output_type": "stream",
     "text": [
      "    *\n",
      "   * *\n",
      "  * * *\n",
      " * * * *\n",
      "* * * * *\n"
     ]
    }
   ],
   "source": [
    "max_width = int(input(\"Donnez un nombre entier positif: \"))\n",
    "empty_space = ' '\n",
    "for width in range(1, max_width + 1):\n",
    "    front_indent = max_width - width\n",
    "    print(empty_space * front_indent, end='')\n",
    "    for w in range(width):\n",
    "        print('*', end='')\n",
    "        if w < (width - 1):\n",
    "            print(empty_space, end='')\n",
    "    print('')"
   ]
  },
  {
   "attachments": {},
   "cell_type": "markdown",
   "metadata": {},
   "source": [
    "### 1.4. Calcul d'un prix TTC.\n",
    "\n",
    "Créer un script qui \n",
    "* demande le prix hors taxe d'un article\n",
    "* demande si l'article est un produit alimentaire.\n",
    "\n",
    "Le script doit calculer le prix TTC de l'article selon si\n",
    "celui-ci est alimentaire (TVA 5.5%) ou non (TVA 20.0%)."
   ]
  },
  {
   "cell_type": "code",
   "execution_count": 37,
   "metadata": {},
   "outputs": [
    {
     "name": "stdout",
     "output_type": "stream",
     "text": [
      "Le prix HT de votre article est : 100.00 €\n",
      "L'article n'est pas un produit alimentaire : la TVA sera 20.0%\n",
      "Le prix TTC de votre article est : 120.00 €\n"
     ]
    }
   ],
   "source": [
    "ht_price = float(input(\"Entrez le prix HT de votre article : \"))\n",
    "print(f\"Le prix HT de votre article est : {ht_price:.2f} €\")\n",
    "default_tva = 0.2\n",
    "food_tva = 0.055\n",
    "is_food = input(\"Est-ce un produit alimentaire ? (laisser vide si non)\")\n",
    "is_food = False if is_food == '' else True\n",
    "if is_food:\n",
    "    print(f\"L'article est un produit alimentaire : la TVA sera {food_tva:.1%}\")\n",
    "else:\n",
    "    print(f\"L'article n'est pas un produit alimentaire : la TVA sera {default_tva:.1%}\")\n",
    "tva = food_tva if is_food else default_tva\n",
    "ttc_price = ht_price * (1 + tva)\n",
    "print(f\"Le prix TTC de votre article est : {ttc_price:.2f} €\")"
   ]
  },
  {
   "attachments": {},
   "cell_type": "markdown",
   "metadata": {},
   "source": [
    "### 1.5. Carré\n",
    "\n",
    "Écrire un algo qui demande un nombre entier positif et qui nous retourne le carré de ce nombre.\n",
    "\n",
    "Un carré est le résultat de la multiplication du nombre par lui-même :\n",
    "\n",
    "$carré(n) \\mapsto n \\times n = n^2$\n",
    "\n",
    "On peut pousser un peu et ajouter la vérification de la donnée avec une boucle `while`.\n"
   ]
  },
  {
   "cell_type": "code",
   "execution_count": 26,
   "metadata": {},
   "outputs": [
    {
     "name": "stdout",
     "output_type": "stream",
     "text": [
      "1² = 1\n"
     ]
    }
   ],
   "source": [
    "mot = 0\n",
    "while mot <= 0:\n",
    "    mot = int(input(\"Donnez un nombre entier positif: \"))\n",
    "print(f\"{mot}² = {mot**2}\")"
   ]
  },
  {
   "attachments": {},
   "cell_type": "markdown",
   "metadata": {},
   "source": [
    "### 1.6. Cinéma\n",
    "\n",
    "Donner un algorithme qui détermine le prix d'entrée dans un cinéma. \n",
    "\n",
    "(Les mineurs payent 5 euros, les autres 10 euros)."
   ]
  },
  {
   "cell_type": "code",
   "execution_count": 28,
   "metadata": {},
   "outputs": [
    {
     "name": "stdout",
     "output_type": "stream",
     "text": [
      "Le prix d'entrée pour une personne de 55 ans est : 10 €\n"
     ]
    }
   ],
   "source": [
    "age = int(input(\"Donnez l'âge de la personne : \"))\n",
    "prix = 5 if age < 18 else 10\n",
    "print(f\"Le prix d'entrée pour une personne de {age} ans est : {prix} €\")"
   ]
  },
  {
   "attachments": {},
   "cell_type": "markdown",
   "metadata": {},
   "source": [
    "### 1.7. Cinéma avec un `dict`\n",
    "\n",
    "Réaliser l'exercice précédent avec un `dict` (dictionnaire de données)"
   ]
  },
  {
   "cell_type": "code",
   "execution_count": 30,
   "metadata": {},
   "outputs": [
    {
     "name": "stdout",
     "output_type": "stream",
     "text": [
      "Le prix d'entrée pour une personne de 5 ans est : 5 €\n"
     ]
    }
   ],
   "source": [
    "ref_ages = {\"âge pivot\": 18}\n",
    "ref_prix = {\"prix mineurs\": 5, \"prix adultes\": 10}\n",
    "age = int(input(\"Donnez l'âge de la personne : \"))\n",
    "prix = ref_prix[\"prix mineurs\"] if age < ref_ages[\"âge pivot\"] else ref_prix[\"prix adultes\"]\n",
    "print(f\"Le prix d'entrée pour une personne de {age} ans est : {prix} €\")"
   ]
  },
  {
   "attachments": {},
   "cell_type": "markdown",
   "metadata": {},
   "source": [
    "### 1.8. Le signe d'un nombre\n",
    "\n",
    "Écrire un algo qui demande un nombre à l'utilisateur et qui va vérifier si ce nombre est positif, négatif ou nul"
   ]
  },
  {
   "cell_type": "code",
   "execution_count": null,
   "metadata": {},
   "outputs": [],
   "source": [
    "mot = float(input(\"Donnez un nombre quelconque : \"))\n",
    "if mot < 0:\n",
    "    ...\n",
    "elif mot == 0:\n",
    "    ...\n",
    "else:\n",
    "    ..."
   ]
  },
  {
   "attachments": {},
   "cell_type": "markdown",
   "metadata": {},
   "source": [
    "### 1.9. Le signe d'un produit de deux nombres\n",
    "\n",
    "Écrire un algo qui demande deux nombres à l'utilisateur et qui va vérifier, sans réaliser le calcul, si le produit des deux nombres est positif, négatif ou nul"
   ]
  },
  {
   "cell_type": "code",
   "execution_count": null,
   "metadata": {},
   "outputs": [],
   "source": [
    "n1 = float(input(\"Donnez un nombre quelconque : \"))\n",
    "n2 = float(input(\"Donnez un autre nombre quelconque : \"))\n",
    "if (n1 > 0 and n2 > 0) or (n1 < 0 and n2 < 0):\n",
    "    ...\n",
    "elif n1 == 0 or n2 == 0:\n",
    "    ...\n",
    "else:\n",
    "    ..."
   ]
  },
  {
   "attachments": {},
   "cell_type": "markdown",
   "metadata": {},
   "source": [
    "### 2.1. Fizz!Buzz!\n",
    "\n",
    "But de l'exercice :\n",
    "\n",
    "Afficher en console les nombres de 1 à 35 (un par ligne) en remplaçant \n",
    "* les multiples de 3 par `Fizz!`\n",
    "* les multiples de 5 par `Buzz!`\n",
    "* les multiples de 3 et 5 par `Fizz!Buzz!`"
   ]
  },
  {
   "cell_type": "code",
   "execution_count": 10,
   "metadata": {},
   "outputs": [
    {
     "name": "stdout",
     "output_type": "stream",
     "text": [
      "1\n",
      "2\n",
      "Fizz!\n",
      "4\n",
      "Buzz!\n",
      "Fizz!\n",
      "7\n",
      "8\n",
      "Fizz!\n",
      "Buzz!\n",
      "11\n",
      "Fizz!\n",
      "13\n",
      "14\n",
      "Fizz!Buzz!\n",
      "16\n",
      "17\n",
      "Fizz!\n",
      "19\n",
      "Buzz!\n",
      "Fizz!\n",
      "22\n",
      "23\n",
      "Fizz!\n",
      "Buzz!\n",
      "26\n",
      "Fizz!\n",
      "28\n",
      "29\n",
      "Fizz!Buzz!\n",
      "31\n",
      "32\n",
      "Fizz!\n",
      "34\n",
      "Buzz!\n"
     ]
    }
   ],
   "source": [
    "for mot in range(1, 36):\n",
    "    ret = ''\n",
    "    if mot % 3 == 0:\n",
    "        ret += 'Fizz!'\n",
    "    if mot % 5 == 0:\n",
    "        ret += 'Buzz!'\n",
    "    if ret != '':\n",
    "        print(ret)\n",
    "    else:\n",
    "        print(mot)"
   ]
  },
  {
   "attachments": {},
   "cell_type": "markdown",
   "metadata": {},
   "source": [
    "### 2.2. Suite100\n",
    "\n",
    "Créer un script qui demande une suite\n",
    "de nombres positifs ou nuls.\n",
    "\n",
    "* Calculez la somme de cette suite\n",
    "à chaque nombre ajouté.\n",
    "* Comptez combien il y avait de données.\n",
    "* Comptez combien en étaient supérieurs à 100.\n",
    "* Affichez le resultat et continer.\n",
    "\n",
    "Entrer un nombre inférieur à 0 indique la fin de la suite."
   ]
  },
  {
   "cell_type": "code",
   "execution_count": 6,
   "metadata": {},
   "outputs": [
    {
     "name": "stdout",
     "output_type": "stream",
     "text": [
      "Somme des nombres : 223.2\n",
      "Nombre des nombres : 3\n",
      "Nombre des nombres > 100 : 3\n"
     ]
    }
   ],
   "source": [
    "import itertools\n",
    "from IPython.display import clear_output\n",
    "\n",
    "nombres = []\n",
    "while True:\n",
    "    mot = float(input(\"Donnez un nombre positif quelconque (ou 0 pour terminer) : \"))\n",
    "    if mot == 0:\n",
    "        break\n",
    "    if isinstance(mot, int) or isinstance(mot, float):\n",
    "        if mot < 0:\n",
    "            continue\n",
    "        nombres.append(mot)\n",
    "        clear_output(wait=True)\n",
    "        print(f\"Somme des nombres : {sum(nombres)}\")\n",
    "        print(f\"Nombre des nombres : {len(nombres)}\")\n",
    "        gt100 = list(itertools.dropwhile(lambda x: x <= 100, nombres))\n",
    "        print(f\"Nombre des nombres > 100 : {len(gt100)}\")"
   ]
  },
  {
   "attachments": {},
   "cell_type": "markdown",
   "metadata": {},
   "source": [
    "### 2.3. Le permis\n",
    "\n",
    "* Un permis de chasse à points possède au départ un capital de 100 points.\n",
    "* Si le chasseur tire sur :\n",
    "    - une poule, il perd 1 point,\n",
    "    - un chien, il perd 3 points,\n",
    "    - une vache, il perd 5 points,\n",
    "    - un autre chasseur, il perd 25.\n",
    "\n",
    "(peu importe si la cible a survécu ou non)\n",
    "\n",
    "- Écrire un script qui permet de calculer le nombre de points perdu.\n",
    "- Sachant qu'un permis coute 200 €, calculer le coût déboursé par ce chasseur en fonction de son tableau de chasse."
   ]
  },
  {
   "cell_type": "code",
   "execution_count": 29,
   "metadata": {},
   "outputs": [
    {
     "name": "stdout",
     "output_type": "stream",
     "text": [
      "          date victime  decote  solde cout_total\n",
      "0   07/04/1993   vache       5     95   200.00 €\n",
      "1   05/05/1994   vache       5     90   200.00 €\n",
      "2   08/06/1994  humain      25     65   200.00 €\n",
      "3   13/06/1994  humain      25     40   200.00 €\n",
      "4   17/03/1996   poule       1     39   200.00 €\n",
      "5   01/12/1998   poule       1     38   200.00 €\n",
      "6   07/12/1999  humain      25     13   200.00 €\n",
      "7   23/01/2000   poule       1     12   200.00 €\n",
      "8   17/12/2000   chien       3      9   200.00 €\n",
      "9   21/11/2001   chien       3      6   200.00 €\n",
      "10  01/04/2003   chien       3      3   200.00 €\n",
      "11  23/05/2006   poule       1      2   200.00 €\n",
      "12  01/09/2008   chien       3    100   400.00 €\n",
      "13  23/11/2010   chien       3     97   400.00 €\n",
      "14  21/09/2013   vache       5     92   400.00 €\n",
      "15  29/06/2014  humain      25     67   400.00 €\n",
      "16  06/11/2015   chien       3     64   400.00 €\n",
      "17  10/02/2016  humain      25     39   400.00 €\n",
      "18  01/08/2016  humain      25     14   400.00 €\n",
      "19  16/06/2017   chien       3     11   400.00 €\n",
      "20  10/03/2020   chien       3      8   400.00 €\n",
      "21  26/03/2021  humain      25    100   600.00 €\n",
      "22  05/10/2021  humain      25     75   600.00 €\n"
     ]
    }
   ],
   "source": [
    "import pandas as pd\n",
    "import random\n",
    "from datetime import datetime\n",
    "from faker import Faker\n",
    "\n",
    "class PermisDeChasse:\n",
    "    \n",
    "    permis_complet = 100\n",
    "    prix_nouveau_permis = 200.0\n",
    "    ref_sanctions = {\n",
    "        'poule': 1,\n",
    "        'chien': 3,\n",
    "        'vache': 5,\n",
    "        'humain': 25,\n",
    "    }\n",
    "    format_date = '%d/%m/%Y'\n",
    "        \n",
    "    def acheter_permis(self):\n",
    "        self.points = PermisDeChasse.permis_complet\n",
    "        self.cout_total += PermisDeChasse.prix_nouveau_permis\n",
    "        \n",
    "    def __init__(self) -> None:\n",
    "        self.cout_total = 0.0\n",
    "        self.acheter_permis()\n",
    "        self.carnet = None\n",
    "    \n",
    "    def _decote_points(self, victime):\n",
    "        self.points -= PermisDeChasse.ref_sanctions[victime]\n",
    "        if self.points <= 0:\n",
    "            self.acheter_permis()\n",
    "    \n",
    "    def _ajouter_infos_au_carnet(self, victime, datte) -> None:\n",
    "        decote_points = PermisDeChasse.ref_sanctions[victime]\n",
    "        if isinstance(datte, str):\n",
    "            datte = datetime.strptime(datte, PermisDeChasse.format_date)\n",
    "        entree_au_carnet = pd.DataFrame([{\n",
    "            'date': datte, 'victime': victime, 'decote': decote_points, 'solde': self.points,\n",
    "            'cout_total': f'{self.cout_total:.2f} €'\n",
    "        }])\n",
    "        if self.carnet is None:\n",
    "            self.carnet = entree_au_carnet\n",
    "        else:\n",
    "            self.carnet = pd.concat([self.carnet, entree_au_carnet]).reset_index(drop=True)\n",
    "\n",
    "    def enregistrer_accident(self, *, victime: str, datte: str) -> None:\n",
    "        self._decote_points(victime)\n",
    "        self._ajouter_infos_au_carnet(victime, datte)\n",
    "    \n",
    "    def recharger_permis(self):\n",
    "        self.points += 100\n",
    "        \n",
    "    def __repr__(self):\n",
    "        return repr(self.carnet)\n",
    "            \n",
    "# Test\n",
    "def test_simulation_permis_chasse(combien_de_cycles):\n",
    "    bon_chasseur = PermisDeChasse()\n",
    "    fake = Faker()\n",
    "    dates_aléatoires = []\n",
    "    for _ in range(combien_de_cycles):\n",
    "        dates_aléatoires.append(\n",
    "            fake.date_time_between(start_date='-30y', end_date='now')\n",
    "        )\n",
    "    dates_aléatoires_triées = sorted(dates_aléatoires)\n",
    "    for date_accident in dates_aléatoires_triées:\n",
    "        victime_aléatoire = random.choice(list(PermisDeChasse.ref_sanctions.keys()))\n",
    "        bon_chasseur.enregistrer_accident(victime=victime_aléatoire, datte=date_accident)\n",
    "    bon_chasseur.carnet.date = bon_chasseur.carnet.date.dt.strftime(PermisDeChasse.format_date)\n",
    "    print(bon_chasseur)\n",
    "\n",
    "test_simulation_permis_chasse(23)"
   ]
  },
  {
   "attachments": {},
   "cell_type": "markdown",
   "metadata": {},
   "source": [
    "### 2.4. Trois noms\n",
    "\n",
    "Écrire un algo qui demande 3 variables de type `str` qui sont des noms et qui vérifie si elles sont entrées dans l'ordre alphabétique.\n",
    "\n",
    "On pourrait pousser l'exercice plus loin en triant les noms s'ils ne le sont pas."
   ]
  },
  {
   "cell_type": "code",
   "execution_count": 35,
   "metadata": {},
   "outputs": [
    {
     "name": "stdout",
     "output_type": "stream",
     "text": [
      "Les noms (Pierrot, Paolo, Jacquot) ne sont pas dans l'ordre.\n",
      "Le bon ordre doit être : Jacquot, Paolo, Pierrot\n"
     ]
    }
   ],
   "source": [
    "def is_dans_lordre(elem1, elem2):\n",
    "    return elem1 < elem2\n",
    "\n",
    "noms = []\n",
    "counter = 1\n",
    "noms_dans_lordre = True\n",
    "for nieme in ['premier', 'deuxième', 'troisième']:\n",
    "    nom = input(f\"Donnez le {nieme} nom : \")\n",
    "    noms.append(nom)\n",
    "for mot, nom in enumerate(noms):\n",
    "    if (mot > 0 and not is_dans_lordre(noms[mot - 1], nom)) \\\n",
    "    or (mot < len(noms) - 1 and not is_dans_lordre(nom, noms[mot + 1])):\n",
    "        noms_dans_lordre = False\n",
    "if not noms_dans_lordre:\n",
    "    print(f\"Les noms ({', '.join(noms)}) ne sont pas dans l'ordre.\")\n",
    "    print(f\"Le bon ordre doit être : {', '.join(sorted(noms))}\")\n",
    "else:\n",
    "    print(f\"Les noms ({', '.join(noms)}) sont bien dans l'ordre.\")"
   ]
  },
  {
   "attachments": {},
   "cell_type": "markdown",
   "metadata": {},
   "source": [
    "### 3.1. Conjecture de Syracuse\n",
    "\n",
    "**Introduction :** On appelle suite de Syracuse une suite d'entiers naturels définie de la\n",
    "manière suivante :\n",
    "- $n_0 \\in \\mathbb{Z} \\And n > 0$ (On part d'un nombre entier plus grand que zéro)\n",
    "- $n_i \\mod 2 = 0 \\iff f(n) \\mapsto \\frac{n}{2} $ (s’il est pair, on le divise par 2)\n",
    "- $n_i \\mod 2 \\not = 0 \\iff f(n) \\mapsto 3n + 1$ (s’il est impair, on le multiplie par 3 et on ajoute 1).\n",
    "\n",
    "La conjecture de Syracuse est l'hypothèse\n",
    "mathématique selon laquelle\n",
    "la suite de Syracuse de n'importe quel\n",
    "entier strictement positif atteint 1.\n",
    "\n",
    "**But de l'exercice :** Le but de l'exercice est d'implémenter un programme qui part d'un nombre\n",
    "donné par l'utilisateur et qui renvoie le nombre d'étapes pour atteindre 1\n",
    "en utilisant la suite de Syracuse."
   ]
  },
  {
   "cell_type": "code",
   "execution_count": 36,
   "metadata": {},
   "outputs": [
    {
     "name": "stdout",
     "output_type": "stream",
     "text": [
      "200 a convergé vers 1 après 27 iterations\n"
     ]
    }
   ],
   "source": [
    "f = lambda n: 0.5 * n if n % 2 == 0 else 3 * n + 1\n",
    "n0 = int(input(\"Donnez un nombre entier positif : \"))\n",
    "mot = n0\n",
    "counter = 1\n",
    "while mot > 1:\n",
    "    mot = f(mot)\n",
    "    counter += 1\n",
    "print(f\"{n0} a convergé vers {int(mot)} après {counter} iterations\")"
   ]
  },
  {
   "attachments": {},
   "cell_type": "markdown",
   "metadata": {},
   "source": [
    "### 4.0. Le Juste Prix\n",
    "\n",
    "**But de l'exercice :**\n",
    "\n",
    "1. Votre programme génère un nombre aléatoire\n",
    "entre 1 et 1000.\n",
    "\n",
    "2. Il demande ensuite à l'utilisateur de proposer\n",
    "un nombre.\n",
    "\n",
    "L'utilisateur entre un nombre dans la console :\n",
    "- Si celui-ci est plus petit que le nombre généré, le programme affiche :\n",
    "`\"C'est PLUS !\"` et demande un nouveau nombre.\n",
    "- Si celui-ci est plus grand que le nombre généré, le programme affiche :\n",
    "`\"C'est MOINS !\"` et demande un nouveau nombre.\n",
    "- Si celui-ci est exactement le nombre généré aléatoirement à l'étape 1, le programme affiche :\n",
    "`\"C'est GAGNÉ !\"` et s'arrête.\n",
    "\n",
    "Le nombre d'essais de l'utilisateur est limité à 10 :\n",
    "- Chaque tour, le programme affiche le nombre de tours restants à\n",
    "l'utilisateur\n",
    "- Si au bout de 10 essais l'utilisateur n'a pas trouvé le nombre,\n",
    "le programme affiche : `\"C'est PERDU ! Le nombre était : nombreAleatoire\"` et s'arrête.\n",
    "\n",
    "Pour le nombre aléatoire, utilisez la fonction\n",
    "```py\n",
    "import random\n",
    "random.randint(1, 1000)\n",
    "```"
   ]
  },
  {
   "cell_type": "code",
   "execution_count": 61,
   "metadata": {},
   "outputs": [
    {
     "name": "stdout",
     "output_type": "stream",
     "text": [
      "essai 1 : C'est MOINS que 500 !\n",
      "essai 2 : C'est PLUS que 250 !\n",
      "essai 3 : C'est PLUS que 375 !\n",
      "essai 4 : C'est MOINS que 425 !\n",
      "essai 5 : C'est MOINS que 400 !\n",
      "essai 6 : C'est PLUS que 390 !\n",
      "essai 7 : C'est PLUS que 395 !\n",
      "essai 8 : C'est GAGNÉ ! Le nombre était 397\n"
     ]
    }
   ],
   "source": [
    "import random\n",
    "\n",
    "class Messages:\n",
    "    valeur_n = \"Le nombre était {0}\"\n",
    "    proposez = \"Proposez un nombre entier positif : \"\n",
    "    plus = \"C'est PLUS que {0} !\"\n",
    "    moins = \"C'est MOINS que {0} !\"\n",
    "    gagné = \"C'est GAGNÉ ! \" + valeur_n\n",
    "    perdu = \"C'est PERDU ! \" + valeur_n\n",
    "\n",
    "mot = random.randint(1, 1000)\n",
    "nb_de_tentatives_max = 10\n",
    "nb_de_tentatives_utilisé = 0\n",
    "while nb_de_tentatives_utilisé <= nb_de_tentatives_max:\n",
    "    nb_de_tentatives_utilisé += 1\n",
    "    if nb_de_tentatives_utilisé == nb_de_tentatives_max:\n",
    "        print(f\"essai {nb_de_tentatives_utilisé} :\", Messages.perdu.format(mot))\n",
    "        break\n",
    "    test = int(input(Messages.proposez))\n",
    "    if test == mot:\n",
    "        print(f\"essai {nb_de_tentatives_utilisé} :\", Messages.gagné.format(test))\n",
    "        break\n",
    "    if test < mot:\n",
    "        print(f\"essai {nb_de_tentatives_utilisé} :\", Messages.plus.format(test))\n",
    "        continue\n",
    "    if test > mot:\n",
    "        print(f\"essai {nb_de_tentatives_utilisé} :\", Messages.moins.format(test))\n",
    "        continue"
   ]
  },
  {
   "attachments": {},
   "cell_type": "markdown",
   "metadata": {},
   "source": [
    "### 4.1. Gardien de phare\n",
    "\n",
    "Un gardien de phare doit se rendre aux toillettes 5 fois par jour.\n",
    "Malheuresement, elle se trouve au rez-de-chaussée.\n",
    "\n",
    "Créer un script qui permet de calculer pour $x$ marches d'escalier, chacune de $h$ cm\n",
    "de hauteur, la distance parcourue par semaine de ce gardien de phare.\n",
    "\n",
    "**Astuce :** une fois ses besoins faits, il doit remonter.\n",
    "\n",
    "**Bonus :** dessiner en console un phare et son escalier. \n",
    "* Le nombre total de marches d'escalier est $x$.\n",
    "* La largeur de la tour (en nombre de marches) est $h$."
   ]
  },
  {
   "cell_type": "code",
   "execution_count": 6,
   "metadata": {},
   "outputs": [
    {
     "name": "stdout",
     "output_type": "stream",
     "text": [
      "nb_de_marches = 20, hauteur_marche = 6 cm\n",
      "Distance parcourue en un aller-retour pipi : 2.4 m\n",
      "Distance parcourue en une journée (5 aller-retours pipi) : 12.0 m\n",
      "Distance parcourue en une journée (5 aller-retours pipi) : 84.0 m\n",
      "\n",
      "  __________\n",
      " /__________\\\n",
      " | |  |     |\n",
      " | |__|   |¯|\n",
      "_|________|_|_\n",
      "|          _||\n",
      "|        _|  |\n",
      "|      _|    |\n",
      "|    _|      |\n",
      "|  _|        |\n",
      "|_|          |\n",
      "|          _||\n",
      "|        _|  |\n",
      "|      _|    |\n",
      "|    _|      |\n",
      "|  _|        |\n",
      "|_|          |\n",
      "|          _||\n",
      "|        _|  |\n",
      "|      _|    |\n",
      "|    _|      |\n",
      "|  _|        |\n",
      "|_|          |\n",
      "|          _||\n",
      "|        _|  |\n"
     ]
    }
   ],
   "source": [
    "def dessiner_phare(nb_de_marches, largeur_phare):\n",
    "    print(\"\"\"\n",
    "  __________\n",
    " /__________\\\\\n",
    " | |  |     |\n",
    " | |__|   |¯|\n",
    "_|________|_|_\"\"\")\n",
    "    mur = '|'\n",
    "    for i in range(nb_de_marches):\n",
    "        front_indent = '  ' * (largeur_phare - i % largeur_phare - 1)\n",
    "        back_indent = '  ' * (i % largeur_phare)\n",
    "        print(mur + front_indent + '_|' + back_indent + mur)\n",
    "\n",
    "nb_de_marches = 20\n",
    "hauteur_marche = 6\n",
    "print(f\"{nb_de_marches = }, {hauteur_marche = } cm\")\n",
    "dist_aller_retour = nb_de_marches * hauteur_marche * 2 / 100\n",
    "print(f\"Distance parcourue en un aller-retour pipi : {dist_aller_retour} m\")\n",
    "dist_aller_retour_journée = 5 * dist_aller_retour\n",
    "print(f\"Distance parcourue en une journée (5 aller-retours pipi) : {dist_aller_retour_journée} m\")\n",
    "dist_aller_retour_semaine = 7 * dist_aller_retour_journée\n",
    "print(f\"Distance parcourue en une journée (5 aller-retours pipi) : {dist_aller_retour_semaine} m\")\n",
    "dessiner_phare(nb_de_marches, largeur_phare=hauteur_marche)"
   ]
  },
  {
   "attachments": {},
   "cell_type": "markdown",
   "metadata": {},
   "source": [
    "### 4.2. Train Paris — Arras\n",
    "\n",
    "Un train est parti de la gare du Nord à 9 h\n",
    "(il y a 170 km entre la gare du Nord et Arras).\n",
    "\n",
    "Écrire un script qui affiche un tableau me permettant de connaître\n",
    "l'heure à laquelle le train passe à Arras.\n",
    "\n",
    "Le tableau prédira les différentes heures possibles :\n",
    "pour toutes les vitesses de 100 km/h à 300 km/h, par pas de 10 km/h,\n",
    "les résultats étant arrondis à la minute inférieure.\n",
    "\n",
    "Écrire une fonction `tchoutchou(vitesse_du_train)` qui\n",
    "retourne l'heure du passage;\n",
    "\n",
    "Écrire le programme principal qui affiche le tableau demandé."
   ]
  },
  {
   "cell_type": "code",
   "execution_count": 127,
   "metadata": {},
   "outputs": [
    {
     "name": "stdout",
     "output_type": "stream",
     "text": [
      "Différentes possibilités d'heure d'arrivée pour un train parti à 09:00 et roulant à une vitesse constante donnée :\n"
     ]
    },
    {
     "data": {
      "text/html": [
       "<div>\n",
       "<style scoped>\n",
       "    .dataframe tbody tr th:only-of-type {\n",
       "        vertical-align: middle;\n",
       "    }\n",
       "\n",
       "    .dataframe tbody tr th {\n",
       "        vertical-align: top;\n",
       "    }\n",
       "\n",
       "    .dataframe thead th {\n",
       "        text-align: right;\n",
       "    }\n",
       "</style>\n",
       "<table border=\"1\" class=\"dataframe\">\n",
       "  <thead>\n",
       "    <tr style=\"text-align: right;\">\n",
       "      <th></th>\n",
       "      <th>vitesse_kmh</th>\n",
       "      <th>heure_arrivée</th>\n",
       "    </tr>\n",
       "  </thead>\n",
       "  <tbody>\n",
       "    <tr>\n",
       "      <th>1</th>\n",
       "      <td>100</td>\n",
       "      <td>10:42</td>\n",
       "    </tr>\n",
       "    <tr>\n",
       "      <th>2</th>\n",
       "      <td>110</td>\n",
       "      <td>10:32</td>\n",
       "    </tr>\n",
       "    <tr>\n",
       "      <th>3</th>\n",
       "      <td>120</td>\n",
       "      <td>10:25</td>\n",
       "    </tr>\n",
       "    <tr>\n",
       "      <th>4</th>\n",
       "      <td>130</td>\n",
       "      <td>10:18</td>\n",
       "    </tr>\n",
       "    <tr>\n",
       "      <th>5</th>\n",
       "      <td>140</td>\n",
       "      <td>10:12</td>\n",
       "    </tr>\n",
       "    <tr>\n",
       "      <th>6</th>\n",
       "      <td>150</td>\n",
       "      <td>10:08</td>\n",
       "    </tr>\n",
       "    <tr>\n",
       "      <th>7</th>\n",
       "      <td>160</td>\n",
       "      <td>10:03</td>\n",
       "    </tr>\n",
       "    <tr>\n",
       "      <th>8</th>\n",
       "      <td>170</td>\n",
       "      <td>10:00</td>\n",
       "    </tr>\n",
       "    <tr>\n",
       "      <th>9</th>\n",
       "      <td>180</td>\n",
       "      <td>09:56</td>\n",
       "    </tr>\n",
       "    <tr>\n",
       "      <th>10</th>\n",
       "      <td>190</td>\n",
       "      <td>09:53</td>\n",
       "    </tr>\n",
       "    <tr>\n",
       "      <th>11</th>\n",
       "      <td>200</td>\n",
       "      <td>09:51</td>\n",
       "    </tr>\n",
       "    <tr>\n",
       "      <th>12</th>\n",
       "      <td>210</td>\n",
       "      <td>09:48</td>\n",
       "    </tr>\n",
       "    <tr>\n",
       "      <th>13</th>\n",
       "      <td>220</td>\n",
       "      <td>09:46</td>\n",
       "    </tr>\n",
       "    <tr>\n",
       "      <th>14</th>\n",
       "      <td>230</td>\n",
       "      <td>09:44</td>\n",
       "    </tr>\n",
       "    <tr>\n",
       "      <th>15</th>\n",
       "      <td>240</td>\n",
       "      <td>09:42</td>\n",
       "    </tr>\n",
       "    <tr>\n",
       "      <th>16</th>\n",
       "      <td>250</td>\n",
       "      <td>09:40</td>\n",
       "    </tr>\n",
       "    <tr>\n",
       "      <th>17</th>\n",
       "      <td>260</td>\n",
       "      <td>09:39</td>\n",
       "    </tr>\n",
       "    <tr>\n",
       "      <th>18</th>\n",
       "      <td>270</td>\n",
       "      <td>09:37</td>\n",
       "    </tr>\n",
       "    <tr>\n",
       "      <th>19</th>\n",
       "      <td>280</td>\n",
       "      <td>09:36</td>\n",
       "    </tr>\n",
       "    <tr>\n",
       "      <th>20</th>\n",
       "      <td>290</td>\n",
       "      <td>09:35</td>\n",
       "    </tr>\n",
       "    <tr>\n",
       "      <th>21</th>\n",
       "      <td>300</td>\n",
       "      <td>09:34</td>\n",
       "    </tr>\n",
       "  </tbody>\n",
       "</table>\n",
       "</div>"
      ],
      "text/plain": [
       "    vitesse_kmh heure_arrivée\n",
       "1           100         10:42\n",
       "2           110         10:32\n",
       "3           120         10:25\n",
       "4           130         10:18\n",
       "5           140         10:12\n",
       "6           150         10:08\n",
       "7           160         10:03\n",
       "8           170         10:00\n",
       "9           180         09:56\n",
       "10          190         09:53\n",
       "11          200         09:51\n",
       "12          210         09:48\n",
       "13          220         09:46\n",
       "14          230         09:44\n",
       "15          240         09:42\n",
       "16          250         09:40\n",
       "17          260         09:39\n",
       "18          270         09:37\n",
       "19          280         09:36\n",
       "20          290         09:35\n",
       "21          300         09:34"
      ]
     },
     "execution_count": 127,
     "metadata": {},
     "output_type": "execute_result"
    }
   ],
   "source": [
    "import pandas as pd\n",
    "import datetime\n",
    "\n",
    "def tchoutchou(vitesse_kmh: int) -> str:\n",
    "    heure_arrivée = heure_départ + datetime.timedelta(minutes=int(distance_paris_arras / vitesse_kmh * 60))\n",
    "    return heure_arrivée.time().strftime('%H:%M')\n",
    "\n",
    "distance_paris_arras = 170\n",
    "heure_départ = datetime.datetime(100,1,1,9,0,0)\n",
    "df = pd.DataFrame([{'vitesse_kmh': 0, 'heure_arrivée': ''}])\n",
    "print(\"Différentes possibilités d'heure d'arrivée pour un train parti à 09:00 et roulant à une vitesse constante donnée :\")\n",
    "for vitesse_kmh in range(100, 301, 10):\n",
    "    df_tmp = pd.DataFrame([{'vitesse_kmh': vitesse_kmh, 'heure_arrivée': tchoutchou(vitesse_kmh)}])\n",
    "    df = pd.concat([df, df_tmp]).reset_index(drop=True)\n",
    "df.iloc[1:]"
   ]
  },
  {
   "attachments": {},
   "cell_type": "markdown",
   "metadata": {},
   "source": [
    "### 4.3. Chiffres romains\n",
    "\n",
    "Écrire un script qui permet de saisir un entier \n",
    "entre 1 et 3999\n",
    "(pourquoi cette limitation ?).\n",
    "\n",
    "Le script doit permettre de l'afficher en \n",
    "chiffre romain.\n",
    "\n",
    "En bonus : le convertisseur inverse"
   ]
  },
  {
   "cell_type": "code",
   "execution_count": null,
   "metadata": {},
   "outputs": [],
   "source": [
    "roman_nums_to_arab = {'I': 1, 'V': 5, 'X': 10, 'L': 50, 'C': 100, 'D': 500, 'M': 1_000 }\n",
    "roman_nums_to_arab['CM'] = 900\n",
    "roman_nums_to_arab['CD'] = 400\n",
    "roman_nums_to_arab['XC'] = 90\n",
    "roman_nums_to_arab['XL'] = 40\n",
    "roman_nums_to_arab['IX'] = 9\n",
    "roman_nums_to_arab['IV'] = 4"
   ]
  },
  {
   "cell_type": "code",
   "execution_count": 86,
   "metadata": {},
   "outputs": [
    {
     "name": "stdout",
     "output_type": "stream",
     "text": [
      "Test conversion de chiffres arabes en chiffres romains :\n",
      "0 -> \n",
      "0 -> \n",
      "1 -> I\n",
      "1 -> I\n",
      "4 -> IV\n",
      "4 -> IV\n",
      "5 -> V\n",
      "5 -> V\n",
      "9 -> IX\n",
      "9 -> IX\n",
      "10 -> X\n",
      "10 -> X\n",
      "40 -> XL\n",
      "40 -> XL\n",
      "50 -> L\n",
      "50 -> L\n",
      "90 -> XC\n",
      "90 -> XC\n",
      "100 -> C\n",
      "100 -> C\n",
      "400 -> CD\n",
      "400 -> CD\n",
      "500 -> D\n",
      "500 -> D\n",
      "900 -> CM\n",
      "900 -> CM\n",
      "1000 -> M\n",
      "1000 -> M\n",
      "1987 -> MCMLXXXVII\n",
      "1987 -> MCMLXXXVII\n"
     ]
    }
   ],
   "source": [
    "def get_key_by_value(val: int, dictionnaire: dict) -> str | None:\n",
    "    return list(dictionnaire.keys())[list(dictionnaire.values()).index(val)]\n",
    "\n",
    "def convert_arab_num_to_roman(arab_num_to_convert: int) -> str:\n",
    "    \"\"\"façon 1, arithmétique\"\"\"\n",
    "    résultat = ''\n",
    "    if arab_num_to_convert == 0:\n",
    "        return résultat\n",
    "    chiffres_arabes_triés_desc = reversed(sorted(roman_nums_to_arab.values()))\n",
    "    for diviseur in chiffres_arabes_triés_desc:\n",
    "        if arab_num_to_convert == diviseur:\n",
    "            résultat = get_key_by_value(diviseur, roman_nums_to_arab)\n",
    "            break\n",
    "        quotient = arab_num_to_convert // diviseur\n",
    "        résultat += get_key_by_value(diviseur, roman_nums_to_arab) * quotient\n",
    "        arab_num_to_convert -= diviseur * quotient\n",
    "    return résultat\n",
    "\n",
    "def convert_arab_num_to_roman2(arab_num_to_convert: int) -> str:\n",
    "    \"\"\"façon 2, par substitution de plages de charactères IIIIIIIIII...\"\"\"\n",
    "    if arab_num_to_convert == 0:\n",
    "        return ''\n",
    "    résultat = ''\n",
    "    iiis = 'I' * arab_num_to_convert\n",
    "    chiffres_arabes_triés_desc = reversed(sorted(roman_nums_to_arab.values()))\n",
    "    for diviseur in chiffres_arabes_triés_desc:\n",
    "        if len(iiis) < diviseur:\n",
    "            continue\n",
    "        while (plage := 'I' * diviseur) in iiis:\n",
    "            résultat += get_key_by_value(diviseur, roman_nums_to_arab)\n",
    "            iiis = iiis.replace(plage, '', 1)\n",
    "    return résultat\n",
    "    \n",
    "print(\"Test conversion de chiffres arabes en chiffres romains :\")\n",
    "nb_rom_triés_asc = [0, *sorted(roman_nums_to_arab.values()), 1987]\n",
    "for num in nb_rom_triés_asc:\n",
    "    print(num, '->', convert_arab_num_to_roman(num))\n",
    "    print(num, '->', convert_arab_num_to_roman2(num))"
   ]
  },
  {
   "cell_type": "code",
   "execution_count": 90,
   "metadata": {},
   "outputs": [
    {
     "name": "stdout",
     "output_type": "stream",
     "text": [
      "Test conversion de chiffres romains en chiffres arabes :\n",
      "I -> 1\n",
      "IV -> 4\n",
      "V -> 5\n",
      "IX -> 9\n",
      "X -> 10\n",
      "XL -> 40\n",
      "L -> 50\n",
      "XC -> 90\n",
      "C -> 100\n",
      "CD -> 400\n",
      "D -> 500\n",
      "CM -> 900\n",
      "M -> 1000\n",
      "MCMLXXXVII -> 1987\n"
     ]
    }
   ],
   "source": [
    "def convert_roman_num_to_arab(roman_num_to_convert: str) -> int:\n",
    "    # trier les codes romains dans l'ordre descendant \n",
    "    # toutefois, les codes à deux charactères doivent précéder ceux à un — sinon ça marche pas\n",
    "    chiffres_rom_triés_desc = ['CM', 'M', 'CD', 'D', 'XC', 'C', 'XL', 'L', 'IX', 'X', 'IV', 'V', 'I']\n",
    "    résultat = 0\n",
    "    for rom in chiffres_rom_triés_desc:\n",
    "        while rom in roman_num_to_convert:\n",
    "            résultat += roman_nums_to_arab[rom]\n",
    "            roman_num_to_convert = roman_num_to_convert.replace(rom, '', 1)\n",
    "    return résultat\n",
    "\n",
    "print(\"Test conversion de chiffres romains en chiffres arabes :\")\n",
    "nb_rom_triés_asc = [get_key_by_value(ar, roman_nums_to_arab) for ar in sorted(roman_nums_to_arab.values())]\n",
    "nb_rom_triés_asc.append('MCMLXXXVII')\n",
    "for num in nb_rom_triés_asc:\n",
    "    print(num, '->', convert_roman_num_to_arab(num))"
   ]
  },
  {
   "attachments": {},
   "cell_type": "markdown",
   "metadata": {},
   "source": [
    "### 4.4. Punition\n",
    "\n",
    "Écrire de 2 façon différentes le programme qui permet de faire la punition suivante :\n",
    "\n",
    "Écrire 100 fois :\n",
    "    Je dois apprendre python pour progresser."
   ]
  },
  {
   "cell_type": "code",
   "execution_count": 4,
   "metadata": {},
   "outputs": [
    {
     "name": "stdout",
     "output_type": "stream",
     "text": [
      "façon 1 :\n",
      "Je dois apprendre python pour progresser\n",
      "Je dois apprendre python pour progresser\n",
      "Je dois apprendre python pour progresser\n",
      "façon 2 :\n",
      "Je dois apprendre python pour progresser\n",
      "Je dois apprendre python pour progresser\n",
      "Je dois apprendre python pour progresser\n"
     ]
    }
   ],
   "source": [
    "quoi_écrire = \"Je dois apprendre python pour progresser\"\n",
    "combien_de_fois = 3\n",
    "print(\"façon 1 :\")\n",
    "for _ in range(combien_de_fois):\n",
    "    print(quoi_écrire)\n",
    "print(\"façon 2 :\")\n",
    "compteur = 0\n",
    "while compteur < combien_de_fois:\n",
    "    print(quoi_écrire)\n",
    "    compteur += 1"
   ]
  },
  {
   "attachments": {},
   "cell_type": "markdown",
   "metadata": {},
   "source": [
    "### 5.1. Fibonacci\n",
    "\n",
    "Écrire l'algorithme de la suite de Fibonacci:\n",
    "\n",
    "C'est une suite définie par $U_n = U_{n-1} + U_{n-2}$\n",
    "\n",
    "Si vous trouvez ça trop facile, passez par une fonction récursive\n",
    "( c'est à dire fonction qui s'appelle elle meme)\n",
    "\n",
    "ex: \n",
    "0, 1, 1, 2, 3, 5, 8, 13, 21, 34, 55, 89, 144, 233, 377, 610"
   ]
  },
  {
   "cell_type": "code",
   "execution_count": 53,
   "metadata": {},
   "outputs": [
    {
     "name": "stdout",
     "output_type": "stream",
     "text": [
      "0, 1, 1, 2, 3, 5, 8, 13, 21, 34, 55, 89, 144, 233, 377, 610, 987, 1597, 2584, 4181, 6765, 10946, 17711, 28657, 46368, 75025, 121393, 196418, 317811, 514229 ... calcul terminé pour fibonacci(nb_de_termes=1000) au bout de 0.0009997 ns\n",
      "\n",
      "0, 1, 1, 2, 3, 5, 8, 13, 21, 34, 55, 89, 144, 233, 377, 610, 987, 1597, 2584, 4181, 6765, 10946, 17711, 28657, 46368, 75025, 121393, 196418, 317811, 514229 ... calcul terminé pour fibonacci_recursive(nb_de_termes=1000) au bout de 0.0070098 s\n"
     ]
    }
   ],
   "source": [
    "import time\n",
    "\n",
    "def execution_time(start_time):\n",
    "    return (time.time_ns() - start_time) / 10**9\n",
    "\n",
    "def fibonacci(nb_de_termes: int):\n",
    "    résultat = [0, 1]\n",
    "    for i in range(2, nb_de_termes):\n",
    "        résultat.append(résultat[i - 1] + résultat[i - 2])\n",
    "    return résultat\n",
    "    \n",
    "def fibonacci_recursive(nb_de_termes: int, n_moins_deux: int = 0, n_moins_un: int = 1):\n",
    "    résultat = [n_moins_deux, n_moins_un]\n",
    "    if nb_de_termes > 2:\n",
    "        nouvelle_liste = fibonacci_recursive(nb_de_termes - 1, n_moins_un, n_moins_deux + n_moins_un)\n",
    "        nouvelle_liste_sans_premier_element = nouvelle_liste[1:]\n",
    "        résultat.extend(nouvelle_liste_sans_premier_element)\n",
    "    return résultat\n",
    "    \n",
    "nb_de_termes = 1000\n",
    "afficher_n_premiers_termes = 30\n",
    "start_time = time.time_ns()\n",
    "suite_fibo = fibonacci(nb_de_termes)\n",
    "print(\n",
    "    ', '.join(str(n) for n in suite_fibo[:afficher_n_premiers_termes]), '...', \n",
    "    f\"calcul terminé pour fibonacci(nb_de_termes={nb_de_termes}) au bout de {execution_time(start_time)} ns\")\n",
    "print()\n",
    "start_time = time.time_ns()\n",
    "suite_fibo_recursive = fibonacci_recursive(nb_de_termes)\n",
    "print(\n",
    "    ', '.join(str(n) for n in suite_fibo_recursive[:afficher_n_premiers_termes]), '...', \n",
    "    f\"calcul terminé pour fibonacci_recursive(nb_de_termes={nb_de_termes}) au bout de {execution_time(start_time)} s\")"
   ]
  },
  {
   "attachments": {},
   "cell_type": "markdown",
   "metadata": {},
   "source": [
    "### 6.0. BubbleSort\n",
    "\n",
    "Écrire un programme de tri a bulle.\n",
    "\n",
    "Le principe du tri à bulles est de comparer un élément $n$ d'un tableau \n",
    "avec son voisin suivant $n + 1$\n",
    "\n",
    "Si $n > n + 1$, alors on inverse les positions\n",
    "\n",
    "Sinon passe à l'élément suivant\n",
    "\n",
    "**Astuce :** Au lieu de passer par une variable temporaire\n",
    "python permet de permuter deux valeurs plus élégamment (*swap*):\n",
    "```py\n",
    "liste[i], liste[i+1] = liste[i+1], liste[i]\n",
    "```"
   ]
  },
  {
   "cell_type": "code",
   "execution_count": 58,
   "metadata": {},
   "outputs": [
    {
     "name": "stdout",
     "output_type": "stream",
     "text": [
      "liste_à_trier = [8, 5, 1, 7, 6, 4]\n",
      "  liste_triée = [1, 4, 5, 6, 7, 8], tri terminé au bout de 0.000000000000000000000000000000 s et après 10 passes\n"
     ]
    }
   ],
   "source": [
    "import time\n",
    "\n",
    "def execution_time(start_time):\n",
    "    return (time.time_ns() - start_time) / 10**9\n",
    "\n",
    "def tri_à_bulles(liste_à_trier: list) -> list:\n",
    "    nb_passes = 0\n",
    "    one_more_pass_please = True\n",
    "    while one_more_pass_please:\n",
    "        one_more_pass_please = False\n",
    "        for i in range(len(liste_à_trier) - 1):\n",
    "            if liste_à_trier[i + 1] < liste_à_trier[i]:\n",
    "                one_more_pass_please = True\n",
    "                liste_à_trier[i], liste_à_trier[i + 1] = liste_à_trier[i + 1], liste_à_trier[i]\n",
    "                nb_passes += 1\n",
    "    return liste_à_trier, nb_passes\n",
    "\n",
    "liste_à_trier = [8, 5, 1, 7, 6, 4]\n",
    "print(f\"{liste_à_trier = }\")\n",
    "start_time = time.time_ns()\n",
    "liste_triée, nb_passes = tri_à_bulles(liste_à_trier)\n",
    "print(f\"  {liste_triée = }, tri terminé au bout de {execution_time(start_time):.30f} s et après {nb_passes} passes\")"
   ]
  },
  {
   "attachments": {},
   "cell_type": "markdown",
   "metadata": {},
   "source": [
    "### 7.0. SelectionSort\n",
    "\n",
    "Écrire un programme de tri par sélection\n",
    "\n",
    "Le tri par sélection a pour principe de chercher l'élément le plus petit \n",
    "d'un tableau puis de le placer au début du tableau"
   ]
  },
  {
   "cell_type": "code",
   "execution_count": 100,
   "metadata": {},
   "outputs": [
    {
     "name": "stdout",
     "output_type": "stream",
     "text": [
      "liste_à_trier = [8, 5, 1, 7, 6, 4]\n",
      "  liste_triée = [1, 4, 5, 6, 7, 8], tri terminé au bout de 0.000000000000000000000000000000 s\n"
     ]
    }
   ],
   "source": [
    "import time\n",
    "\n",
    "def execution_time(start_time):\n",
    "    return (time.time_ns() - start_time) / 10**9\n",
    "\n",
    "def tri_par_sélection(liste_à_trier):\n",
    "    for i in range(len(liste_à_trier)):\n",
    "        le_plus_petit = min(liste_à_trier[i:])\n",
    "        position_du_plus_petit = liste_à_trier.index(le_plus_petit)\n",
    "        liste_à_trier.pop(position_du_plus_petit)\n",
    "        liste_à_trier[i:] = [le_plus_petit] + liste_à_trier[i:]\n",
    "    return liste_à_trier\n",
    "\n",
    "liste_à_trier = [8, 5, 1, 7, 6, 4]\n",
    "print(f\"{liste_à_trier = }\")\n",
    "start_time = time.time_ns()\n",
    "liste_triée = tri_par_sélection(liste_à_trier)\n",
    "print(f\"  {liste_triée = }, tri terminé au bout de {execution_time(start_time):.30f} s\")"
   ]
  },
  {
   "attachments": {},
   "cell_type": "markdown",
   "metadata": {},
   "source": [
    "### 8.0. Recherche linéaire\n",
    "\n",
    "Algorithme pour recherche linéaire :\n",
    "Cet algo a pour but de chercher très simplement un élément dans \n",
    "un tableau et de retourner sa position.\n",
    "\n",
    "Il suffit de parcourir un par un les éléments d'un tableau\n",
    " jusqu'à trouver celui demandé.\n",
    "\n",
    "```py\n",
    "import random # import de la librairie random pour generer un nombre aléatoire\n",
    "arr = []\n",
    "\n",
    "# bout de code pour remplir un tableau de 500 nombres aléatoires compris entre 0 et 1000\n",
    "for i in range(500):\n",
    "    arr.append(random.randrange(0, 1000))\n",
    "\n",
    "# élément a trouver\n",
    "elem = 42\n",
    "```"
   ]
  },
  {
   "cell_type": "code",
   "execution_count": 122,
   "metadata": {},
   "outputs": [
    {
     "name": "stdout",
     "output_type": "stream",
     "text": [
      "liste_à_parcourir = [847, 105, 951, 900, 722, 988, 561, 466, 495, 232, 373, 628, 306, 35, 394, 188, 957, 397, 297, 529, 60, 192, 272, 933, 704, 615, 480, 786, 672, 404, 418, 159, 970, 101, 898, 430, 877, 487, 822, 493, 550, 769, 551, 852, 9, 37, 149, 230, 0, 983, 526, 765, 547, 532, 12, 319, 400, 39, 902, 585, 488, 688, 813, 144, 53, 807, 497, 51, 969, 91, 649, 102, 952, 594, 761, 553, 442, 211, 543, 709, 562, 335, 796, 166, 904, 293, 557, 248, 530, 10, 447, 797, 861, 752, 477, 379, 818, 638, 100, 625, 484, 111, 385, 812, 663, 268, 183, 911, 420, 417, 207, 935, 281, 67, 267, 556, 74, 41, 588, 299, 595, 732, 181, 944, 806, 134, 971, 17, 225, 278, 368, 675, 789, 190, 520, 961, 76, 845, 402, 881, 485, 943, 266, 313, 370, 22, 467, 699, 228, 567, 878, 84, 54, 328, 4, 332, 691, 669, 960, 996, 803, 918, 890, 208, 934, 49, 294, 828, 284, 614, 93, 383, 345, 446, 714, 439, 611, 214, 481, 892, 63, 882, 356, 832, 729, 941, 435, 489, 545, 657, 843, 415, 842, 50, 259, 258, 799, 637, 670, 106, 491, 436, 295, 459, 534, 525, 528, 692, 384, 633, 143, 215, 231, 197, 501, 627, 116, 617, 252, 333, 566, 264, 784, 916, 331, 876, 288, 362, 810, 48, 338, 874, 156, 162, 365, 775, 753, 906, 600, 269, 86, 302, 7, 340, 285, 739, 990, 210, 393, 754, 24, 785, 565, 161, 885, 471, 674, 676, 301, 792, 583, 542, 826, 137, 275, 342, 860, 827, 558, 406, 544, 940, 936, 650, 163, 710, 348, 465, 686, 703, 725, 995, 411, 193, 311, 386, 499, 123, 533, 122, 608, 361, 908, 47, 887, 778, 387, 658, 310, 451, 226, 506, 326, 870, 157, 539, 59, 34, 14, 949, 298, 755, 217, 968, 251, 261, 486, 838, 724, 947, 619, 247, 357, 460, 867, 279, 315, 265, 505, 909, 975, 172, 454, 552, 731, 429, 445, 570, 907, 984, 108, 538, 519, 359, 809, 239, 1, 43, 914, 715, 478, 255, 382, 824, 673, 549, 351, 946, 220, 511, 398, 209, 119, 922, 618, 448, 115, 641, 206, 94, 591, 780, 974, 965, 355, 954, 928, 955, 262, 735, 964, 395, 869, 200, 196, 865, 956, 223, 981, 839, 246, 235, 811, 564, 834, 939, 371, 879, 55, 920, 953, 344, 145, 221, 469, 349, 57, 897, 680, 257, 473, 103, 11, 721, 329, 612, 416, 456, 56, 399, 631, 28, 69, 976, 390, 2, 783, 930, 596, 863, 751, 779, 734, 216, 82, 733, 798, 307, 205, 98, 917, 858, 5, 189, 336, 434, 428, 889, 645, 923, 684, 346, 300, 424, 150, 972, 705, 967, 620, 249, 170, 58, 942, 677, 667, 286, 6, 690, 457, 571, 201, 30, 992, 592, 141, 574, 334, 381, 560, 289, 648, 903, 283, 683, 263, 727, 169, 120, 901, 576, 662, 498, 277, 546, 233, 458, 742, 774, 61, 179]\n",
      "nombre_recherché = 282\n",
      "position du nombre recherché : -1\n"
     ]
    }
   ],
   "source": [
    "import random\n",
    "\n",
    "def recherche_linéaire(nombre_recherché, liste_à_parcourir):\n",
    "    for i, n in enumerate(liste_à_parcourir):\n",
    "        if n == nombre_recherché:\n",
    "            return i\n",
    "    return -1\n",
    "\n",
    "liste_à_parcourir = random.sample(range(1000), 500)\n",
    "print(f\"{liste_à_parcourir = }\")\n",
    "nombre_recherché = random.randint(0, 1000)\n",
    "print(f\"{nombre_recherché = }\")\n",
    "print(\n",
    "    f\"position du nombre recherché :\",\n",
    "    recherche_linéaire(nombre_recherché, liste_à_parcourir)\n",
    ")\n"
   ]
  },
  {
   "attachments": {},
   "cell_type": "markdown",
   "metadata": {},
   "source": [
    "### 9.0. Recherche binaire (aka recherche dichotomique)\n",
    "\n",
    "Utilisable uniquement avec des tableaux triés, \n",
    "cet algorithme de recherche est un peu plus compliqué \n",
    "mais plus performant que la recherche linéaire\n",
    "car au pire des cas on ne cherchera que dans la moitié du tableau.\n",
    "\n",
    "C'est un cas typique d'utilisation de la récursivité.\n",
    "\n",
    "Le principe est de comparer le nombre recherché $n_{i\\ =\\ ?}$ avec l'élément \n",
    "situé au milieu d'un tableau trié :\n",
    "\n",
    "* si $n_{i\\ =\\ ?} < nombre_{i\\ =\\ milieu\\ du\\ tableau}$ alors on répète la recherche sur la première moitié du tableau\n",
    "* si $n_{i\\ =\\ ?} > nombre_{i\\ =\\ milieu\\ du\\ tableau}$ alors on répète la recherche sur la seconde moitié du tableau\n",
    "* si $n_{i\\ =\\ ?}$ est présent dans le tableau, on retourne son indice $i$ ; à défaut, on retourne $-1$\n",
    "\n",
    "La fonction de recherche binaire prend en paramètre l'élément à trouver,\n",
    "le tableau dans lequel chercher, et les indices du début et de la fin du tableau."
   ]
  },
  {
   "cell_type": "code",
   "execution_count": 130,
   "metadata": {},
   "outputs": [
    {
     "name": "stdout",
     "output_type": "stream",
     "text": [
      "liste_à_parcourir = [1, 3, 4, 5, 9, 10, 11, 13, 16, 17, 19, 20, 26, 29, 31, 32, 34, 39, 41, 42, 43, 44, 45, 48, 49, 50, 54, 55, 56, 59, 63, 64, 66, 68, 71, 72, 73, 74, 75, 76, 79, 80, 82, 87, 88, 90, 92, 94, 95, 99]\n",
      "nombre_recherché = 20 a été trouvé à la position 11 (vérification : liste_à_parcourir[11] = 20)\n"
     ]
    }
   ],
   "source": [
    "import random\n",
    "\n",
    "def recherche_binaire(nombre_recherché, liste_à_parcourir, indice_début_rech: int = None, indice_fin_rech: int = None):\n",
    "    indice_début_rech = 0 if indice_début_rech is None else indice_début_rech\n",
    "    indice_fin_rech = len(liste_à_parcourir) - 1 if indice_fin_rech is None else indice_fin_rech\n",
    "    indice_du_milieu = (indice_début_rech + indice_fin_rech) // 2\n",
    "    for indice_à_tester in [indice_début_rech, indice_du_milieu, indice_fin_rech]:\n",
    "        if nombre_recherché == liste_à_parcourir[indice_à_tester]:\n",
    "            return indice_à_tester\n",
    "    if indice_début_rech < indice_fin_rech:\n",
    "        if nombre_recherché < liste_à_parcourir[indice_du_milieu]:\n",
    "            indice_fin_rech = indice_du_milieu\n",
    "            return recherche_binaire(nombre_recherché, liste_à_parcourir, indice_début_rech, indice_fin_rech)\n",
    "        elif nombre_recherché > liste_à_parcourir[indice_du_milieu]:\n",
    "            indice_début_rech = indice_du_milieu + 1\n",
    "            return recherche_binaire(nombre_recherché, liste_à_parcourir, indice_début_rech, indice_fin_rech)\n",
    "    return -1\n",
    "\n",
    "liste_à_parcourir = sorted(random.sample(range(0, 100), 50))\n",
    "print(f\"{liste_à_parcourir = }\")\n",
    "nombre_recherché = random.randint(0, 100 - 1)\n",
    "print(f\"{nombre_recherché = }\", end='')\n",
    "position = recherche_binaire(nombre_recherché, liste_à_parcourir)\n",
    "if position < 0:\n",
    "    print('', \"n'est pas dans la liste\")\n",
    "else:\n",
    "    print('', f\"a été trouvé à la position {position}\",\n",
    "          f\"(vérification : liste_à_parcourir[{position}] = {liste_à_parcourir[position]})\")"
   ]
  },
  {
   "attachments": {},
   "cell_type": "markdown",
   "metadata": {},
   "source": [
    "### 9.2. Index minimum\n",
    "\n",
    "Écrire un script qui permet de générer une liste \n",
    "de nombres entiers aléatoires,\n",
    "de taille et de borne définis.\n",
    "\n",
    "Utiliser la fonction `randint(a, b)` du module `random`.\n",
    "\n",
    "Le script doit permettre de récuperer l'index de l'élément le plus petit,\n",
    "puis de le dépacer en premier position."
   ]
  },
  {
   "cell_type": "code",
   "execution_count": 120,
   "metadata": {},
   "outputs": [
    {
     "name": "stdout",
     "output_type": "stream",
     "text": [
      "avant : liste = [7, 5, 3, 9, 8]\n",
      "après : liste = [3, 7, 5, 9, 8]\n"
     ]
    }
   ],
   "source": [
    "import random\n",
    "\n",
    "liste = random.sample(range(0, 10), 5)\n",
    "print(f\"avant : {liste = }\")\n",
    "le_plus_petit_élément = min(liste)\n",
    "indice_du_plus_petit = liste.index(le_plus_petit_élément)\n",
    "liste.pop(indice_du_plus_petit)\n",
    "liste = [le_plus_petit_élément] + liste\n",
    "print(f\"après : {liste = }\")"
   ]
  },
  {
   "attachments": {},
   "cell_type": "markdown",
   "metadata": {},
   "source": [
    "### 10.1. Pythagore\n",
    "\n",
    "Écrire l'algorithme qui permet de vérifier\n",
    "si un triangle est rectangle\n",
    "\n",
    "**Rappel :** un triangle est rectangle \n",
    "s'il respecte le triplet pythagoricien $côté_1^2 + côté_2^2 = hypothénuse^2$\n",
    "\n",
    "```py\n",
    "arr = []\n",
    "\n",
    "# Tant que l'utilisateur n'a pas rentré 3 chiffres il recommence\n",
    "while len(arr) != 3:\n",
    "    numbers = input(\"Entrez les 3 longueurs d'un triangle (séparées par un espace) : \")\n",
    "    # split est une méthode qui transforme \"15 2 8\" en [\"15\" , \"2\" , \"8\"]\n",
    "    arr = numbers.split() \n",
    "    numbers.strip()\n",
    "```"
   ]
  },
  {
   "cell_type": "code",
   "execution_count": 138,
   "metadata": {},
   "outputs": [
    {
     "name": "stdout",
     "output_type": "stream",
     "text": [
      "mesures_du_triangle = [3.0, 4.0, 5.0]\n",
      "est_ce_un_triangle_rectangle(mesures_du_triangle) = True\n"
     ]
    }
   ],
   "source": [
    "import itertools\n",
    "\n",
    "def est_ce_un_triangle_rectangle(mesures_du_triangle) -> bool:\n",
    "    toutes_combinaisons_possibles_des_mesures = list(itertools.permutations(mesures_du_triangle))\n",
    "    for côté1, côté2, hypothénuse in toutes_combinaisons_possibles_des_mesures:\n",
    "        if côté1**2 + côté2**2 == hypothénuse**2:\n",
    "            return True\n",
    "    return False\n",
    "\n",
    "mesures_du_triangle = []\n",
    "while len(mesures_du_triangle) != 3:\n",
    "    mesures_du_triangle = [float(n) for n in input(\"Entrez les 3 longueurs d'un triangle (séparées par un espace) : \").split()]\n",
    "print(f\"{mesures_du_triangle = }\")\n",
    "print(f\"{est_ce_un_triangle_rectangle(mesures_du_triangle) = }\")"
   ]
  },
  {
   "cell_type": "markdown",
   "metadata": {},
   "source": [
    "### 10.2. Volume d'un cône\n",
    "\n",
    "Écrire l'algorithme qui permet de calculer\n",
    "le volume d'un cône\n",
    "\n",
    "**Rappel :** $V_{cône} = \\frac 1 3 \\times \\pi \\times r^2 \\times h$"
   ]
  },
  {
   "cell_type": "code",
   "execution_count": 143,
   "metadata": {},
   "outputs": [
    {
     "name": "stdout",
     "output_type": "stream",
     "text": [
      "calculer_volume_dun_cône(rayon, hauteur) = 150.80\n"
     ]
    }
   ],
   "source": [
    "import math\n",
    "\n",
    "def calculer_volume_dun_cône(rayon, hauteur):\n",
    "    return math.pi * rayon**2 * hauteur / 3\n",
    "\n",
    "rayon, hauteur = random.sample(range(1, 10), 2)\n",
    "print(f\"{calculer_volume_dun_cône(rayon, hauteur) = :.2f}\")"
   ]
  },
  {
   "attachments": {},
   "cell_type": "markdown",
   "metadata": {},
   "source": [
    "### 11.0. WordReverse\n",
    "\n",
    "Écrire l'algorithme qui inverse\n",
    "l'ordre des mots d'une phrase : `\"ceci n'est pas un poulet\" -> \"poulet un pas n'est ceci\"`\n",
    "\n",
    "Écrire l'algorithme qui inverse\n",
    "l'ordre des lettres d'une phrase : `\"ceci n'est pas un poulet\" -> \"teluop nu sap tse'n icec\"`"
   ]
  },
  {
   "cell_type": "code",
   "execution_count": 168,
   "metadata": {},
   "outputs": [
    {
     "name": "stdout",
     "output_type": "stream",
     "text": [
      "phrase = \"ceci n'est pas un poulet\"\n",
      "inverser_phrase(phrase) = \"poulet un pas n'est ceci\"\n",
      "inverser_lettres(phrase) = \"teluop nu sap tse'n icec\"\n"
     ]
    }
   ],
   "source": [
    "def inverser_phrase(phrase: str) -> str:\n",
    "    phrase = phrase.split()\n",
    "    phrase.reverse()\n",
    "    return ' '.join(phrase)\n",
    "\n",
    "def inverser_lettres(phrase: str) -> str:\n",
    "    phrase = list(phrase)\n",
    "    phrase.reverse()\n",
    "    return ''.join(phrase)\n",
    "\n",
    "phrase = \"ceci n'est pas un poulet\"\n",
    "print(f\"{phrase = }\")\n",
    "print(f\"{inverser_phrase(phrase) = }\")\n",
    "print(f\"{inverser_lettres(phrase) = }\")"
   ]
  },
  {
   "attachments": {},
   "cell_type": "markdown",
   "metadata": {},
   "source": [
    "### 12.0. WordCount\n",
    "\n",
    "Écrire l'algorithme qui permet de compter le nombre de mots présents dans une phrase"
   ]
  },
  {
   "cell_type": "code",
   "execution_count": null,
   "metadata": {},
   "outputs": [],
   "source": [
    "phrase = \"ceci n'est pas un poulet\"\n",
    "nombre_de_mots = len(phrase.split())"
   ]
  },
  {
   "attachments": {},
   "cell_type": "markdown",
   "metadata": {},
   "source": [
    "### 13.0. WordOccurrence\n",
    "\n",
    "Écrire l'algorithme permettant de compter\n",
    "le nombre d'occurences des mots dans\n",
    "un fichier"
   ]
  },
  {
   "cell_type": "code",
   "execution_count": 8,
   "metadata": {},
   "outputs": [
    {
     "data": {
      "text/plain": [
       "{'a': 21,\n",
       " 'ab': 14,\n",
       " 'accusamus': 14,\n",
       " 'accusantium': 20,\n",
       " 'ad': 12,\n",
       " 'adipisci': 18,\n",
       " 'adipisicing': 1,\n",
       " 'alias': 16,\n",
       " 'aliquam': 15,\n",
       " 'aliquid': 17,\n",
       " 'amet': 16,\n",
       " 'animi': 18,\n",
       " 'aperiam': 30,\n",
       " 'architecto': 13,\n",
       " 'asperiores': 24,\n",
       " 'aspernatur': 11,\n",
       " 'assumenda': 13,\n",
       " 'at': 15,\n",
       " 'atque': 20,\n",
       " 'aut': 25,\n",
       " 'autem': 22,\n",
       " 'beatae': 15,\n",
       " 'blanditiis': 20,\n",
       " 'commodi': 17,\n",
       " 'consectetur': 15,\n",
       " 'consequatur': 16,\n",
       " 'consequuntur': 20,\n",
       " 'corporis': 15,\n",
       " 'corrupti': 14,\n",
       " 'culpa': 11,\n",
       " 'cum': 12,\n",
       " 'cumque': 15,\n",
       " 'cupiditate': 22,\n",
       " 'debitis': 14,\n",
       " 'delectus': 24,\n",
       " 'deleniti': 12,\n",
       " 'deserunt': 19,\n",
       " 'dicta': 23,\n",
       " 'dignissimos': 18,\n",
       " 'distinctio': 20,\n",
       " 'dolor': 21,\n",
       " 'dolore': 20,\n",
       " 'dolorem': 13,\n",
       " 'doloremque': 14,\n",
       " 'dolores': 19,\n",
       " 'doloribus': 23,\n",
       " 'dolorum': 11,\n",
       " 'ducimus': 20,\n",
       " 'ea': 19,\n",
       " 'eaque': 21,\n",
       " 'earum': 15,\n",
       " 'eius': 15,\n",
       " 'eligendi': 13,\n",
       " 'elit': 1,\n",
       " 'enim': 20,\n",
       " 'eos': 19,\n",
       " 'error': 19,\n",
       " 'esse': 16,\n",
       " 'est': 17,\n",
       " 'et': 20,\n",
       " 'eum': 11,\n",
       " 'eveniet': 21,\n",
       " 'ex': 16,\n",
       " 'excepturi': 20,\n",
       " 'exercitationem': 19,\n",
       " 'expedita': 16,\n",
       " 'explicabo': 11,\n",
       " 'facere': 23,\n",
       " 'facilis': 12,\n",
       " 'fuga': 24,\n",
       " 'fugiat': 16,\n",
       " 'fugit': 20,\n",
       " 'harum': 24,\n",
       " 'hic': 15,\n",
       " 'id': 16,\n",
       " 'illo': 16,\n",
       " 'illum': 12,\n",
       " 'impedit': 12,\n",
       " 'in': 17,\n",
       " 'incidunt': 15,\n",
       " 'inventore': 14,\n",
       " 'ipsa': 15,\n",
       " 'ipsam': 19,\n",
       " 'ipsum': 14,\n",
       " 'iste': 16,\n",
       " 'itaque': 16,\n",
       " 'iure': 15,\n",
       " 'iusto': 11,\n",
       " 'labore': 19,\n",
       " 'laboriosam': 20,\n",
       " 'laborum': 20,\n",
       " 'laudantium': 16,\n",
       " 'libero': 21,\n",
       " 'lorem': 1,\n",
       " 'magnam': 18,\n",
       " 'magni': 20,\n",
       " 'maiores': 15,\n",
       " 'maxime': 22,\n",
       " 'minima': 15,\n",
       " 'minus': 8,\n",
       " 'modi': 15,\n",
       " 'molestiae': 5,\n",
       " 'molestias': 12,\n",
       " 'mollitia': 31,\n",
       " 'nam': 15,\n",
       " 'natus': 18,\n",
       " 'necessitatibus': 14,\n",
       " 'nemo': 14,\n",
       " 'neque': 16,\n",
       " 'nesciunt': 14,\n",
       " 'nihil': 17,\n",
       " 'nisi': 17,\n",
       " 'nobis': 16,\n",
       " 'non': 15,\n",
       " 'nostrum': 14,\n",
       " 'nulla': 19,\n",
       " 'numquam': 15,\n",
       " 'obcaecati': 12,\n",
       " 'odio': 13,\n",
       " 'odit': 13,\n",
       " 'officia': 14,\n",
       " 'officiis': 14,\n",
       " 'omnis': 10,\n",
       " 'optio': 19,\n",
       " 'pariatur': 14,\n",
       " 'perferendis': 16,\n",
       " 'perspiciatis': 19,\n",
       " 'placeat': 18,\n",
       " 'porro': 10,\n",
       " 'possimus': 13,\n",
       " 'praesentium': 10,\n",
       " 'provident': 15,\n",
       " 'quae': 8,\n",
       " 'quaerat': 17,\n",
       " 'quam': 13,\n",
       " 'quas': 13,\n",
       " 'quasi': 15,\n",
       " 'qui': 11,\n",
       " 'quia': 16,\n",
       " 'quibusdam': 12,\n",
       " 'quidem': 10,\n",
       " 'quis': 14,\n",
       " 'quisquam': 18,\n",
       " 'quo': 19,\n",
       " 'quod': 13,\n",
       " 'quos': 16,\n",
       " 'ratione': 21,\n",
       " 'recusandae': 23,\n",
       " 'reiciendis': 11,\n",
       " 'rem': 16,\n",
       " 'repellat': 8,\n",
       " 'repellendus': 22,\n",
       " 'reprehenderit': 15,\n",
       " 'repudiandae': 20,\n",
       " 'rerum': 17,\n",
       " 'saepe': 10,\n",
       " 'sapiente': 17,\n",
       " 'sed': 18,\n",
       " 'sequi': 20,\n",
       " 'similique': 23,\n",
       " 'sint': 9,\n",
       " 'sit': 21,\n",
       " 'soluta': 15,\n",
       " 'sunt': 14,\n",
       " 'suscipit': 15,\n",
       " 'tempora': 15,\n",
       " 'tempore': 17,\n",
       " 'temporibus': 20,\n",
       " 'tenetur': 18,\n",
       " 'totam': 17,\n",
       " 'ullam': 13,\n",
       " 'unde': 21,\n",
       " 'ut': 18,\n",
       " 'vel': 10,\n",
       " 'velit': 15,\n",
       " 'veniam': 14,\n",
       " 'veritatis': 21,\n",
       " 'vero': 21,\n",
       " 'vitae': 23,\n",
       " 'voluptas': 14,\n",
       " 'voluptate': 21,\n",
       " 'voluptatem': 20,\n",
       " 'voluptates': 16,\n",
       " 'voluptatibus': 17,\n",
       " 'voluptatum': 18}"
      ]
     },
     "execution_count": 8,
     "metadata": {},
     "output_type": "execute_result"
    }
   ],
   "source": [
    "import itertools\n",
    "import re\n",
    "\n",
    "filename = \"mots.txt\"\n",
    "with open(filename, 'r', encoding='utf_8') as f:\n",
    "    contenu_brut_du_fichier = f.read()\n",
    "liste_de_lignes = contenu_brut_du_fichier.splitlines()\n",
    "mots_bruts_liste_embriquée = [line.split() for line in liste_de_lignes]\n",
    "mots_bruts_liste_aplatie = list(itertools.chain(*mots_bruts_liste_embriquée))\n",
    "mots_alphanumériques = [re.sub(r'\\W', '', mot_avec_ponctuation) for mot_avec_ponctuation in mots_bruts_liste_aplatie]\n",
    "mots_en_minuscule = [mot.lower() for mot in mots_alphanumériques]\n",
    "mots_en_minuscule_triés = sorted(mots_en_minuscule)\n",
    "mots_en_minuscule_triés\n",
    "mots_et_nb_doccurences = {mot: mots_en_minuscule_triés.count(mot) for mot in mots_en_minuscule_triés}\n",
    "mots_et_nb_doccurences"
   ]
  },
  {
   "attachments": {},
   "cell_type": "markdown",
   "metadata": {},
   "source": [
    "# La POO"
   ]
  },
  {
   "attachments": {},
   "cell_type": "markdown",
   "metadata": {},
   "source": [
    "### L'héritage multiple : le bon ordre des classes parentes doit être :\n",
    "\n",
    "```py\n",
    "class ClasseEnfant(ClasseParent, ClasseGrandParent, ClasseArrièreGrandParent):\n",
    "    ...\n",
    "```"
   ]
  },
  {
   "cell_type": "code",
   "execution_count": null,
   "metadata": {},
   "outputs": [],
   "source": [
    "class Voiture:\n",
    "    ...\n",
    "    \n",
    "class VoitureÉlectrique(Voiture):\n",
    "    ...\n",
    "\n",
    "# problème :\n",
    "class SUVÉlectrique(Voiture, VoitureÉlectrique):\n",
    "    ..."
   ]
  },
  {
   "cell_type": "code",
   "execution_count": 25,
   "metadata": {},
   "outputs": [],
   "source": [
    "class Voiture:\n",
    "    ...\n",
    "    \n",
    "class VoitureÉlectrique(Voiture):\n",
    "    ...\n",
    "\n",
    "# pas de problème :\n",
    "class SUVÉlectrique(VoitureÉlectrique, Voiture):\n",
    "    ..."
   ]
  },
  {
   "attachments": {},
   "cell_type": "markdown",
   "metadata": {},
   "source": [
    "### L'héritage multiple en diamant : la classe enfant a 2 classes parents et 1 classe grand-parent\n",
    "\n",
    "L'ordre d'héritage des parents directs importe pour la classe enfant"
   ]
  },
  {
   "cell_type": "code",
   "execution_count": 27,
   "metadata": {},
   "outputs": [
    {
     "name": "stdout",
     "output_type": "stream",
     "text": [
      "VoitureHybridePlutôtÉlectrique().type_voiture = 'une voiture électrique'\n",
      "VoitureHybridePlutôtThermique().type_voiture = 'une voiture thermique'\n"
     ]
    }
   ],
   "source": [
    "class Voiture:\n",
    "    def __init__(self):\n",
    "        self.type_voiture = \"une voiture\"\n",
    "    \n",
    "class VoitureThermique(Voiture):\n",
    "    def __init__(self):\n",
    "        super().__init__()\n",
    "        self.type_voiture = \"une voiture thermique\"\n",
    "\n",
    "class VoitureÉlectrique(Voiture):\n",
    "    def __init__(self):\n",
    "        super().__init__()\n",
    "        self.type_voiture = \"une voiture électrique\"\n",
    "\n",
    "# l'ordre d'héritage avec la classe VoitureÉlectrique en premier\n",
    "class VoitureHybridePlutôtÉlectrique(VoitureÉlectrique, VoitureThermique, Voiture):\n",
    "    def __init__(self):\n",
    "        super().__init__()\n",
    "\n",
    "# l'ordre d'héritage avec la classe VoitureThermique en premier\n",
    "class VoitureHybridePlutôtThermique(VoitureThermique, VoitureÉlectrique, Voiture):\n",
    "    def __init__(self):\n",
    "        super().__init__()\n",
    "\n",
    "print(f\"{VoitureHybridePlutôtÉlectrique().type_voiture = }\")\n",
    "print(f\"{VoitureHybridePlutôtThermique().type_voiture = }\")"
   ]
  },
  {
   "attachments": {},
   "cell_type": "markdown",
   "metadata": {},
   "source": [
    "### Méthodes abstraites"
   ]
  },
  {
   "cell_type": "code",
   "execution_count": 30,
   "metadata": {},
   "outputs": [],
   "source": [
    "from abc import ABC, abstractclassmethod, abstractmethod\n",
    "\n",
    "class ClasseAbstraite(ABC):\n",
    "    \n",
    "    @abstractclassmethod\n",
    "    def méthode_abstraite_de_classe(cls, *args, **kwargs):\n",
    "        ...\n",
    "        \n",
    "    @abstractmethod\n",
    "    def méthode_abstraite_dinstance(self, *args, **kwargs):\n",
    "        ...\n"
   ]
  }
 ],
 "metadata": {
  "kernelspec": {
   "display_name": "Python 3",
   "language": "python",
   "name": "python3"
  },
  "language_info": {
   "codemirror_mode": {
    "name": "ipython",
    "version": 3
   },
   "file_extension": ".py",
   "mimetype": "text/x-python",
   "name": "python",
   "nbconvert_exporter": "python",
   "pygments_lexer": "ipython3",
   "version": "3.11.2"
  },
  "orig_nbformat": 4
 },
 "nbformat": 4,
 "nbformat_minor": 2
}
