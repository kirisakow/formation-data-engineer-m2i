{
 "cells": [
  {
   "cell_type": "code",
   "execution_count": 1,
   "metadata": {},
   "outputs": [
    {
     "name": "stdout",
     "output_type": "stream",
     "text": [
      "mat1:\n",
      "[[2 4 2]\n",
      " [2 1 5]\n",
      " [5 7 2]]\n",
      "\n",
      "mat2:\n",
      "[[13 15 11]\n",
      " [19 11 10]\n",
      " [15 13 11]]\n",
      "\n"
     ]
    }
   ],
   "source": [
    "import numpy as np\n",
    "import builtins\n",
    "\n",
    "def print(*args):\n",
    "    return builtins.print(*args, sep='\\n', end='\\n\\n')\n",
    "\n",
    "mat1 = np.random.randint(low=1, high=10, size=(3,3))\n",
    "mat2 = np.random.randint(low=10, high=20, size=(3,3))\n",
    "print('mat1:', mat1)\n",
    "print('mat2:', mat2)"
   ]
  },
  {
   "attachments": {},
   "cell_type": "markdown",
   "metadata": {},
   "source": [
    "### Addition d'arrays"
   ]
  },
  {
   "cell_type": "code",
   "execution_count": 2,
   "metadata": {},
   "outputs": [
    {
     "name": "stdout",
     "output_type": "stream",
     "text": [
      "mat1 + mat2:\n",
      "[[15 19 13]\n",
      " [21 12 15]\n",
      " [20 20 13]]\n",
      "\n",
      "np.add(mat1, mat2):\n",
      "[[15 19 13]\n",
      " [21 12 15]\n",
      " [20 20 13]]\n",
      "\n"
     ]
    }
   ],
   "source": [
    "print('mat1 + mat2:', mat1 + mat2)\n",
    "print('np.add(mat1, mat2):', np.add(mat1, mat2))"
   ]
  },
  {
   "attachments": {},
   "cell_type": "markdown",
   "metadata": {},
   "source": [
    "### Soustraction d'arrays"
   ]
  },
  {
   "cell_type": "code",
   "execution_count": 5,
   "metadata": {},
   "outputs": [
    {
     "name": "stdout",
     "output_type": "stream",
     "text": [
      "mat1 - mat2:\n",
      "[[-11 -11  -9]\n",
      " [-17 -10  -5]\n",
      " [-10  -6  -9]]\n",
      "\n",
      "np.subtract(mat1, mat2):\n",
      "[[-11 -11  -9]\n",
      " [-17 -10  -5]\n",
      " [-10  -6  -9]]\n",
      "\n"
     ]
    }
   ],
   "source": [
    "print('mat1 - mat2:', mat1 - mat2)\n",
    "print('np.subtract(mat1, mat2):', np.subtract(mat1, mat2))"
   ]
  },
  {
   "cell_type": "code",
   "execution_count": 11,
   "metadata": {},
   "outputs": [
    {
     "name": "stdout",
     "output_type": "stream",
     "text": [
      "mat3:\n",
      "[[4 2]\n",
      " [6 3]\n",
      " [3 4]]\n",
      "\n",
      "mat4:\n",
      "[[11 18 13]\n",
      " [19 10 15]]\n",
      "\n"
     ]
    }
   ],
   "source": [
    "mat3 = np.random.randint(low=1, high=10, size=(3,2))\n",
    "mat4 = np.random.randint(low=10, high=20, size=(2,3))\n",
    "print('mat3:', mat3)\n",
    "print('mat4:', mat4)"
   ]
  },
  {
   "attachments": {},
   "cell_type": "markdown",
   "metadata": {},
   "source": [
    "### Produit de matrices"
   ]
  },
  {
   "cell_type": "code",
   "execution_count": 10,
   "metadata": {},
   "outputs": [
    {
     "name": "stdout",
     "output_type": "stream",
     "text": [
      "np.matmul(mat3, mat4):\n",
      "[[ 61  70  62]\n",
      " [114 160 128]\n",
      " [109 128 112]]\n",
      "\n",
      "np.dot(mat3, mat4):\n",
      "[[ 61  70  62]\n",
      " [114 160 128]\n",
      " [109 128 112]]\n",
      "\n",
      "np.matmul(mat4, mat3):\n",
      "[[123 170]\n",
      " [132 210]]\n",
      "\n",
      "np.dot(mat4, mat3):\n",
      "[[123 170]\n",
      " [132 210]]\n",
      "\n"
     ]
    }
   ],
   "source": [
    "print('np.matmul(mat3, mat4):', np.matmul(mat3, mat4))\n",
    "print('np.dot(mat3, mat4):', np.dot(mat3, mat4))\n",
    "print('np.matmul(mat4, mat3):', np.matmul(mat4, mat3))\n",
    "print('np.dot(mat4, mat3):', np.dot(mat4, mat3))"
   ]
  }
 ],
 "metadata": {
  "kernelspec": {
   "display_name": ".venv",
   "language": "python",
   "name": "python3"
  },
  "language_info": {
   "codemirror_mode": {
    "name": "ipython",
    "version": 3
   },
   "file_extension": ".py",
   "mimetype": "text/x-python",
   "name": "python",
   "nbconvert_exporter": "python",
   "pygments_lexer": "ipython3",
   "version": "3.11.3"
  },
  "orig_nbformat": 4
 },
 "nbformat": 4,
 "nbformat_minor": 2
}
